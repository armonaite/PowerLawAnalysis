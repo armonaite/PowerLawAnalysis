{
 "cells": [
  {
   "cell_type": "markdown",
   "metadata": {},
   "source": [
    "# Beta versus delta frequency band\n",
    "\n",
    "here we provide the obtained beta values in each cortical parces in four sleep stages and wakefulness versus the delta mean frequency band and an indication of the change of the beta values across the states"
   ]
  },
  {
   "cell_type": "code",
   "execution_count": 1,
   "metadata": {},
   "outputs": [
    {
     "name": "stderr",
     "output_type": "stream",
     "text": [
      "C:\\Users\\37063\\anaconda3\\lib\\site-packages\\pandas\\core\\computation\\expressions.py:20: UserWarning: Pandas requires version '2.7.3' or newer of 'numexpr' (version '2.7.1' currently installed).\n",
      "  from pandas.core.computation.check import NUMEXPR_INSTALLED\n"
     ]
    }
   ],
   "source": [
    "import pandas as pd\n",
    "import numpy as np\n",
    "from scipy import signal\n",
    "import matplotlib.pyplot as plt\n",
    "import os"
   ]
  },
  {
   "cell_type": "code",
   "execution_count": 2,
   "metadata": {},
   "outputs": [],
   "source": [
    "files = []\n",
    "\n",
    "# Loop through files in the directory\n",
    "for filename in os.listdir():\n",
    "    if filename.endswith('.csv'):\n",
    "        \n",
    "        files.append(filename)"
   ]
  },
  {
   "cell_type": "code",
   "execution_count": 30,
   "metadata": {},
   "outputs": [],
   "source": [
    "\n",
    "\n",
    "def butter_highpass(cutoff, order):\n",
    "    nyq = 0.5 * 200\n",
    "    normal_cutoff = cutoff / nyq\n",
    "    b, a = signal.butter(order, normal_cutoff, btype='high', analog=False)\n",
    "    return b, a\n",
    "\n",
    "def butter_highpass_filter(data, cutoff, order):\n",
    "    \n",
    "    b, a = butter_highpass(cutoff, order=order)\n",
    "    y = signal.filtfilt(b, a, data)\n",
    "    return y\n",
    "\n",
    "def high_filtered(ar, cutoff, nperseg, order):\n",
    "\n",
    "  def split_by_zero(arr):\n",
    "    equals=np.isclose(arr, np.abs(arr).min())\n",
    "    l=[]\n",
    "    to_split=False\n",
    "    for i in range(len(arr)):\n",
    "        if equals[i] and i < len(arr)-1 and equals[i+1]:\n",
    "            to_split=True\n",
    "        elif not equals[i] and to_split:\n",
    "            yield l\n",
    "            l=[]\n",
    "            to_split=False\n",
    "\n",
    "        if not to_split:\n",
    "            l.append(arr[i])\n",
    "    yield l\n",
    "\n",
    "  vector=[]\n",
    "  s=[]\n",
    "  for l in split_by_zero(ar):\n",
    "    l=np.array(l)\n",
    "    vector.append(l)\n",
    "  f=[]\n",
    "  for i in vector:\n",
    "    x_filt = butter_highpass_filter(i, cutoff, order)\n",
    "    fft=signal.welch(x_filt, fs=200, window=\"hann\", nperseg=nperseg, nfft=nperseg, noverlap=0)\n",
    "\n",
    "    f.append(norm(fft[1]))\n",
    "    ftm=np.mean(f,axis=0)\n",
    "    fstd=np.std(f,axis=0)\n",
    "\n",
    "  return ftm"
   ]
  },
  {
   "cell_type": "code",
   "execution_count": 29,
   "metadata": {},
   "outputs": [],
   "source": [
    "# Helper function to normalize the PSD function so that the area under the curve is equal to 1.\n",
    "def norm(data):\n",
    "  val = data/(data.sum())\n",
    "  return val\n",
    "\n",
    "def PSD(ar):\n",
    "\n",
    "# A helper functon to remove the zero gaps in the signals\n",
    "  def split_by_zero(arr):\n",
    "    equals = np.isclose(arr, np.abs(arr).min())\n",
    "    l = []\n",
    "    to_split=False\n",
    "    for i in range(len(arr)):\n",
    "        if equals[i] and i < len(arr)-1 and equals[i+1]:\n",
    "            to_split=True\n",
    "        elif not equals[i] and to_split:\n",
    "            yield l\n",
    "            l = []\n",
    "            to_split=False\n",
    "\n",
    "        if not to_split:\n",
    "            l.append(arr[i])\n",
    "    yield l\n",
    "\n",
    "\n",
    "  vector = []\n",
    "\n",
    "# Signal pieces after splitting by zero are stored as different arrays,\n",
    "# now let's read read these arrays and apply transformation separately and average them.\n",
    "  for l in split_by_zero(ar):\n",
    "    l=np.array(l)\n",
    "    vector.append(l)\n",
    "  f = []\n",
    "  for i in vector:\n",
    "    PSD = signal.welch(i, fs = 200, window = \"hann\", nperseg = 256, nfft = 256, noverlap = 0)\n",
    "\n",
    "    f.append(norm(PSD[1]))\n",
    "    averaged_sets = np.mean(f,axis=0)\n",
    "\n",
    "  return averaged_sets"
   ]
  },
  {
   "cell_type": "code",
   "execution_count": 18,
   "metadata": {},
   "outputs": [],
   "source": [
    "from scipy.optimize import curve_fit\n",
    "# Define a line for fitting the log-log PSD in 34-80 Hz frequency range\n",
    "def line(a,x,b):\n",
    "  return a*x+b"
   ]
  },
  {
   "cell_type": "code",
   "execution_count": 31,
   "metadata": {},
   "outputs": [
    {
     "name": "stderr",
     "output_type": "stream",
     "text": [
      "C:\\Users\\37063\\anaconda3\\lib\\site-packages\\scipy\\signal\\_spectral_py.py:2014: UserWarning: nperseg = 2048 is greater than input length  = 2000, using nperseg = 2000\n",
      "  warnings.warn('nperseg = {0:d} is greater than input length '\n",
      "C:\\Users\\37063\\anaconda3\\lib\\site-packages\\scipy\\signal\\_spectral_py.py:2014: UserWarning: nperseg = 2048 is greater than input length  = 800, using nperseg = 800\n",
      "  warnings.warn('nperseg = {0:d} is greater than input length '\n",
      "C:\\Users\\37063\\anaconda3\\lib\\site-packages\\scipy\\signal\\_spectral_py.py:2014: UserWarning: nperseg = 2048 is greater than input length  = 400, using nperseg = 400\n",
      "  warnings.warn('nperseg = {0:d} is greater than input length '\n",
      "C:\\Users\\37063\\anaconda3\\lib\\site-packages\\scipy\\signal\\_spectral_py.py:2014: UserWarning: nperseg = 2048 is greater than input length  = 1600, using nperseg = 1600\n",
      "  warnings.warn('nperseg = {0:d} is greater than input length '\n",
      "C:\\Users\\37063\\anaconda3\\lib\\site-packages\\scipy\\signal\\_spectral_py.py:2014: UserWarning: nperseg = 2048 is greater than input length  = 924, using nperseg = 924\n",
      "  warnings.warn('nperseg = {0:d} is greater than input length '\n",
      "C:\\Users\\37063\\anaconda3\\lib\\site-packages\\scipy\\signal\\_spectral_py.py:2014: UserWarning: nperseg = 2048 is greater than input length  = 1600, using nperseg = 1600\n",
      "  warnings.warn('nperseg = {0:d} is greater than input length '\n",
      "C:\\Users\\37063\\anaconda3\\lib\\site-packages\\scipy\\signal\\_spectral_py.py:2014: UserWarning: nperseg = 2048 is greater than input length  = 800, using nperseg = 800\n",
      "  warnings.warn('nperseg = {0:d} is greater than input length '\n",
      "C:\\Users\\37063\\anaconda3\\lib\\site-packages\\scipy\\signal\\_spectral_py.py:2014: UserWarning: nperseg = 2048 is greater than input length  = 1237, using nperseg = 1237\n",
      "  warnings.warn('nperseg = {0:d} is greater than input length '\n",
      "C:\\Users\\37063\\anaconda3\\lib\\site-packages\\scipy\\signal\\_spectral_py.py:2014: UserWarning: nperseg = 2048 is greater than input length  = 400, using nperseg = 400\n",
      "  warnings.warn('nperseg = {0:d} is greater than input length '\n",
      "C:\\Users\\37063\\anaconda3\\lib\\site-packages\\scipy\\signal\\_spectral_py.py:2014: UserWarning: nperseg = 2048 is greater than input length  = 600, using nperseg = 600\n",
      "  warnings.warn('nperseg = {0:d} is greater than input length '\n",
      "C:\\Users\\37063\\anaconda3\\lib\\site-packages\\scipy\\signal\\_spectral_py.py:2014: UserWarning: nperseg = 2048 is greater than input length  = 720, using nperseg = 720\n",
      "  warnings.warn('nperseg = {0:d} is greater than input length '\n",
      "C:\\Users\\37063\\anaconda3\\lib\\site-packages\\scipy\\signal\\_spectral_py.py:2014: UserWarning: nperseg = 2048 is greater than input length  = 2000, using nperseg = 2000\n",
      "  warnings.warn('nperseg = {0:d} is greater than input length '\n",
      "C:\\Users\\37063\\anaconda3\\lib\\site-packages\\scipy\\signal\\_spectral_py.py:2014: UserWarning: nperseg = 2048 is greater than input length  = 1400, using nperseg = 1400\n",
      "  warnings.warn('nperseg = {0:d} is greater than input length '\n",
      "C:\\Users\\37063\\anaconda3\\lib\\site-packages\\scipy\\signal\\_spectral_py.py:2014: UserWarning: nperseg = 2048 is greater than input length  = 1000, using nperseg = 1000\n",
      "  warnings.warn('nperseg = {0:d} is greater than input length '\n",
      "C:\\Users\\37063\\anaconda3\\lib\\site-packages\\scipy\\signal\\_spectral_py.py:2014: UserWarning: nperseg = 2048 is greater than input length  = 200, using nperseg = 200\n",
      "  warnings.warn('nperseg = {0:d} is greater than input length '\n",
      "C:\\Users\\37063\\anaconda3\\lib\\site-packages\\scipy\\signal\\_spectral_py.py:2014: UserWarning: nperseg = 2048 is greater than input length  = 800, using nperseg = 800\n",
      "  warnings.warn('nperseg = {0:d} is greater than input length '\n",
      "C:\\Users\\37063\\anaconda3\\lib\\site-packages\\scipy\\signal\\_spectral_py.py:2014: UserWarning: nperseg = 2048 is greater than input length  = 400, using nperseg = 400\n",
      "  warnings.warn('nperseg = {0:d} is greater than input length '\n",
      "C:\\Users\\37063\\anaconda3\\lib\\site-packages\\scipy\\signal\\_spectral_py.py:2014: UserWarning: nperseg = 2048 is greater than input length  = 1600, using nperseg = 1600\n",
      "  warnings.warn('nperseg = {0:d} is greater than input length '\n",
      "C:\\Users\\37063\\anaconda3\\lib\\site-packages\\scipy\\signal\\_spectral_py.py:2014: UserWarning: nperseg = 2048 is greater than input length  = 600, using nperseg = 600\n",
      "  warnings.warn('nperseg = {0:d} is greater than input length '\n"
     ]
    }
   ],
   "source": [
    "FFT_files_filt = []\n",
    "\n",
    "# Apply PSD function high_filteres to every csv file to obtain \n",
    "for file in files:\n",
    "    \n",
    "    df = pd.read_csv(file)\n",
    "    \n",
    "    FFT_df = df.apply(high_filtered, args = [33, 2048, 7])\n",
    "    \n",
    "    FFT_files_filt.append(FFT_df)\n",
    "    \n",
    "# Calculate the fit including error for three gyrus in four stages\n",
    "fit_values = []\n",
    "\n",
    "\n",
    "for file in FFT_files_filt:\n",
    "    k = curve_fit(line, np.log(freq[start:end]), \n",
    "                       np.log(np.mean(file[start:end],axis=1)),\n",
    "                       sigma = np.std(file[start:end],axis=1)/\n",
    "                       np.mean(file[start:end],axis=1), \n",
    "                       absolute_sigma = True)\n",
    "    fit_values.append(k)"
   ]
  },
  {
   "cell_type": "code",
   "execution_count": 32,
   "metadata": {},
   "outputs": [
    {
     "name": "stderr",
     "output_type": "stream",
     "text": [
      "C:\\Users\\37063\\anaconda3\\lib\\site-packages\\scipy\\signal\\_spectral_py.py:2014: UserWarning: nperseg = 256 is greater than input length  = 200, using nperseg = 200\n",
      "  warnings.warn('nperseg = {0:d} is greater than input length '\n"
     ]
    }
   ],
   "source": [
    "FFT_files = []\n",
    "\n",
    "# Apply PSD function high_filteres to every csv file to obtain \n",
    "for file in files:\n",
    "    \n",
    "    df = pd.read_csv(file)\n",
    "    \n",
    "    FFT_df = df.apply(PSD)\n",
    "    \n",
    "    FFT_files.append(FFT_df)\n",
    "    \n",
    "# Calculate the delta frequency band mean value with error for three gyrus in four stages\n",
    "delta_mean_values = []\n",
    "delta_std_values = []\n",
    "\n",
    "for file in FFT_files:\n",
    "    \n",
    "    delta_mean_values.append(np.mean(file[:6].mean(axis=0)))\n",
    "    delta_std_values.append(np.std(file[:6].mean(axis=0)))"
   ]
  },
  {
   "cell_type": "code",
   "execution_count": 80,
   "metadata": {},
   "outputs": [
    {
     "data": {
      "image/png": "[encoded data removed]",
      "text/plain": [
       "<Figure size 720x504 with 3 Axes>"
      ]
     },
     "metadata": {
      "needs_background": "light"
     },
     "output_type": "display_data"
    }
   ],
   "source": [
    "indices = [[11, 10, 9, 8], [3, 2, 1, 0], [7, 6, 5, 4]]\n",
    "\n",
    "y = np.abs([[fit_values[i][0][0] for i in row] for row in indices])\n",
    "\n",
    "y_err = [[np.sqrt(np.diag(fit_values[i][1]))[0] for i in row] for row in indices]\n",
    "\n",
    "\n",
    "x = [[delta_mean_values[i] for i in row] for row in indices]\n",
    "\n",
    "x_err = [[delta_std_values[i] for i in row] for row in indices]\n",
    "\n",
    "fig = plt.figure(figsize=((10,7)))\n",
    "\n",
    "for i, color in zip(range(3), ['green', 'blue', 'red']):\n",
    "    ax = plt.subplot(3, 1, i + 1)\n",
    "    ax.errorbar(x[i], y[i], xerr=x_err[i], yerr=y_err[i], fmt=\"X\", capsize=3, ms=10, color=color)\n",
    "    ax.set_ylim(2.5, 3.7)\n",
    "    plt.xticks(size=18)\n",
    "    plt.yticks(size=18)\n",
    "    plt.ylim(2.5, 3.7)\n",
    "    plt.xlim(0.01,0.17)\n",
    "    plt.ylabel(\"β\", size=18)\n",
    "    plt.grid()\n",
    "\n",
    "plt.subplots_adjust(hspace=0.35)\n",
    "plt.show()"
   ]
  },
  {
   "cell_type": "raw",
   "metadata": {},
   "source": [
    "Pearsons statistics"
   ]
  },
  {
   "cell_type": "code",
   "execution_count": 84,
   "metadata": {},
   "outputs": [],
   "source": [
    "from scipy.stats import pearsonr"
   ]
  },
  {
   "cell_type": "code",
   "execution_count": 95,
   "metadata": {},
   "outputs": [
    {
     "name": "stdout",
     "output_type": "stream",
     "text": [
      "STG: PearsonRResult(statistic=-0.4083559655454491, pvalue=0.5916440344545508)\n",
      "PostG: PearsonRResult(statistic=-0.8506440972597658, pvalue=0.14935590274023425)\n",
      "Prec: PearsonRResult(statistic=-0.7954260092884775, pvalue=0.2045739907115225)\n"
     ]
    }
   ],
   "source": [
    "print(\"STG:\", pearsonr(y[0], x[0]))\n",
    "print(\"PostG:\", pearsonr(y[1], x[1]))\n",
    "print(\"Prec:\", pearsonr(y[2], x[2]))"
   ]
  }
 ],
 "metadata": {
  "kernelspec": {
   "display_name": "Python 3",
   "language": "python",
   "name": "python3"
  },
  "language_info": {
   "codemirror_mode": {
    "name": "ipython",
    "version": 3
   },
   "file_extension": ".py",
   "mimetype": "text/x-python",
   "name": "python",
   "nbconvert_exporter": "python",
   "pygments_lexer": "ipython3",
   "version": "3.8.5"
  }
 },
 "nbformat": 4,
 "nbformat_minor": 4
}
