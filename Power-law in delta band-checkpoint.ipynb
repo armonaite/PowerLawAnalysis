{
 "cells": [
  {
   "cell_type": "markdown",
   "metadata": {},
   "source": [
    "## Power-law in delta frequency band\n",
    "Perform calculations of the Power Spectral Density (PSD) on log-log scale, where we evaluate the slope after have applied a low-pass filter. We evaluate the slope of the PSD in delta band in three cortical parcels: Superior temporal Gyrus, Postcentral Gyrus and Precentral gyrus, in four states, wakefulness as well as REM, N2 and N3 sleep stages. \n",
    "\n",
    "The files are named according to the corresponding cortical parcel. Where the letters at the end indicate the state. \n",
    "W - wakefullness, \n",
    "R - REM, \n",
    "N - N2, \n",
    "D - N3."
   ]
  },
  {
   "cell_type": "code",
   "execution_count": 5,
   "metadata": {},
   "outputs": [],
   "source": [
    "import pandas as pd\n",
    "import numpy as np\n",
    "from scipy import signal\n",
    "import matplotlib.pyplot as plt\n",
    "import os"
   ]
  },
  {
   "cell_type": "code",
   "execution_count": 161,
   "metadata": {},
   "outputs": [],
   "source": [
    "import warnings\n",
    "warnings.filterwarnings(\"ignore\")\n",
    "warnings.resetwarnings()"
   ]
  },
  {
   "cell_type": "code",
   "execution_count": 4,
   "metadata": {},
   "outputs": [
    {
     "name": "stdout",
     "output_type": "stream",
     "text": [
      "Requirement already up-to-date: pandas in c:\\users\\37063\\anaconda3\\lib\\site-packages (2.0.3)\n",
      "Requirement already satisfied, skipping upgrade: tzdata>=2022.1 in c:\\users\\37063\\anaconda3\\lib\\site-packages (from pandas) (2023.3)\n",
      "Requirement already satisfied, skipping upgrade: numpy>=1.20.3; python_version < \"3.10\" in c:\\users\\37063\\anaconda3\\lib\\site-packages (from pandas) (1.20.3)\n",
      "Requirement already satisfied, skipping upgrade: python-dateutil>=2.8.2 in c:\\users\\37063\\anaconda3\\lib\\site-packages (from pandas) (2.8.2)\n",
      "Requirement already satisfied, skipping upgrade: pytz>=2020.1 in c:\\users\\37063\\anaconda3\\lib\\site-packages (from pandas) (2020.1)\n",
      "Requirement already satisfied, skipping upgrade: six>=1.5 in c:\\users\\37063\\anaconda3\\lib\\site-packages (from python-dateutil>=2.8.2->pandas) (1.15.0)\n"
     ]
    }
   ],
   "source": [
    "!pip install --upgrade pandas"
   ]
  },
  {
   "cell_type": "code",
   "execution_count": 7,
   "metadata": {},
   "outputs": [],
   "source": [
    "files = []\n",
    "\n",
    "# Loop through files in the directory\n",
    "for filename in os.listdir():\n",
    "    if filename.endswith('.csv'):\n",
    "        \n",
    "        files.append(filename)"
   ]
  },
  {
   "cell_type": "code",
   "execution_count": 8,
   "metadata": {},
   "outputs": [
    {
     "data": {
      "text/plain": [
       "['Postcentral gyrus_D.csv',\n",
       " 'Postcentral gyrus_N.csv',\n",
       " 'Postcentral gyrus_R.csv',\n",
       " 'Postcentral gyrus_W.csv',\n",
       " 'Precentral gyrus_D.csv',\n",
       " 'Precentral gyrus_N.csv',\n",
       " 'Precentral gyrus_R.csv',\n",
       " 'Precentral gyrus_W.csv',\n",
       " 'Superior temporal gyrus_D.csv',\n",
       " 'Superior temporal gyrus_N.csv',\n",
       " 'Superior temporal gyrus_R.csv',\n",
       " 'Superior temporal_gyrus_W.csv']"
      ]
     },
     "execution_count": 8,
     "metadata": {},
     "output_type": "execute_result"
    }
   ],
   "source": [
    "files"
   ]
  },
  {
   "cell_type": "markdown",
   "metadata": {},
   "source": [
    "Perform low-pass filtering and calculate PSD on the signals"
   ]
  },
  {
   "cell_type": "code",
   "execution_count": 156,
   "metadata": {},
   "outputs": [],
   "source": [
    "def norm(data):\n",
    "  val = data/(data.sum())\n",
    "  return val\n",
    "\n",
    "def butter_lowpass(cutoff, order):\n",
    "    nyq = 0.5 * 200\n",
    "    normal_cutoff = cutoff / nyq\n",
    "    b, a = signal.butter(order, normal_cutoff, btype='low', analog=False)\n",
    "    return b, a\n",
    "\n",
    "def butter_lowpass_filter(data, cutoff, order):\n",
    "    b, a = butter_lowpass(cutoff, order=order)\n",
    "    y = signal.filtfilt(b, a, data)\n",
    "    return y\n",
    "\n",
    "def low_filtered(ar, cutoff, nperseg, order):\n",
    "\n",
    "  def split_by_zero(arr):\n",
    "    equals=np.isclose(arr, np.abs(arr).min())\n",
    "    l=[]\n",
    "    to_split=False\n",
    "    for i in range(len(arr)):\n",
    "        if equals[i] and i < len(arr)-1 and equals[i+1]:\n",
    "            to_split=True\n",
    "        elif not equals[i] and to_split:\n",
    "            yield l\n",
    "            l=[]\n",
    "            to_split=False\n",
    "\n",
    "        if not to_split:\n",
    "            l.append(arr[i])\n",
    "    yield l\n",
    "\n",
    "  vector=[]\n",
    "  s=[]\n",
    "  for l in split_by_zero(ar):\n",
    "    l=np.array(l)\n",
    "    vector.append(l)\n",
    "  f=[]\n",
    "  for i in vector:\n",
    "    x_filt = butter_lowpass_filter(i, cutoff, order)\n",
    "    fft=signal.welch(x_filt, fs=200, window=\"hann\", nperseg=nperseg, nfft=nperseg, noverlap=0)\n",
    "\n",
    "    f.append(norm(fft[1]))\n",
    "    ftm=np.mean(f,axis=0)\n",
    "    fstd=np.std(f,axis=0)\n",
    "\n",
    "  return ftm"
   ]
  },
  {
   "cell_type": "code",
   "execution_count": 168,
   "metadata": {},
   "outputs": [
    {
     "name": "stderr",
     "output_type": "stream",
     "text": [
      "C:\\Users\\37063\\anaconda3\\lib\\site-packages\\ipykernel\\ipkernel.py:287: DeprecationWarning: `should_run_async` will not call `transform_cell` automatically in the future. Please pass the result to `transformed_cell` argument and any exception that happen during thetransform in `preprocessing_exc_tuple` in IPython 7.17 and above.\n",
      "  and should_run_async(code)\n",
      "C:\\Users\\37063\\anaconda3\\lib\\site-packages\\scipy\\signal\\_spectral_py.py:2014: UserWarning: nperseg = 2048 is greater than input length  = 2000, using nperseg = 2000\n",
      "  warnings.warn('nperseg = {0:d} is greater than input length '\n",
      "C:\\Users\\37063\\anaconda3\\lib\\site-packages\\scipy\\signal\\_spectral_py.py:2014: UserWarning: nperseg = 2048 is greater than input length  = 800, using nperseg = 800\n",
      "  warnings.warn('nperseg = {0:d} is greater than input length '\n",
      "C:\\Users\\37063\\anaconda3\\lib\\site-packages\\scipy\\signal\\_spectral_py.py:2014: UserWarning: nperseg = 2048 is greater than input length  = 400, using nperseg = 400\n",
      "  warnings.warn('nperseg = {0:d} is greater than input length '\n",
      "C:\\Users\\37063\\anaconda3\\lib\\site-packages\\scipy\\signal\\_spectral_py.py:2014: UserWarning: nperseg = 2048 is greater than input length  = 1600, using nperseg = 1600\n",
      "  warnings.warn('nperseg = {0:d} is greater than input length '\n",
      "C:\\Users\\37063\\anaconda3\\lib\\site-packages\\scipy\\signal\\_spectral_py.py:2014: UserWarning: nperseg = 2048 is greater than input length  = 924, using nperseg = 924\n",
      "  warnings.warn('nperseg = {0:d} is greater than input length '\n",
      "C:\\Users\\37063\\anaconda3\\lib\\site-packages\\scipy\\signal\\_spectral_py.py:2014: UserWarning: nperseg = 2048 is greater than input length  = 1600, using nperseg = 1600\n",
      "  warnings.warn('nperseg = {0:d} is greater than input length '\n",
      "C:\\Users\\37063\\anaconda3\\lib\\site-packages\\scipy\\signal\\_spectral_py.py:2014: UserWarning: nperseg = 2048 is greater than input length  = 800, using nperseg = 800\n",
      "  warnings.warn('nperseg = {0:d} is greater than input length '\n",
      "C:\\Users\\37063\\anaconda3\\lib\\site-packages\\scipy\\signal\\_spectral_py.py:2014: UserWarning: nperseg = 2048 is greater than input length  = 1237, using nperseg = 1237\n",
      "  warnings.warn('nperseg = {0:d} is greater than input length '\n",
      "C:\\Users\\37063\\anaconda3\\lib\\site-packages\\scipy\\signal\\_spectral_py.py:2014: UserWarning: nperseg = 2048 is greater than input length  = 400, using nperseg = 400\n",
      "  warnings.warn('nperseg = {0:d} is greater than input length '\n",
      "C:\\Users\\37063\\anaconda3\\lib\\site-packages\\scipy\\signal\\_spectral_py.py:2014: UserWarning: nperseg = 2048 is greater than input length  = 600, using nperseg = 600\n",
      "  warnings.warn('nperseg = {0:d} is greater than input length '\n",
      "C:\\Users\\37063\\anaconda3\\lib\\site-packages\\scipy\\signal\\_spectral_py.py:2014: UserWarning: nperseg = 2048 is greater than input length  = 720, using nperseg = 720\n",
      "  warnings.warn('nperseg = {0:d} is greater than input length '\n",
      "C:\\Users\\37063\\anaconda3\\lib\\site-packages\\scipy\\signal\\_spectral_py.py:2014: UserWarning: nperseg = 2048 is greater than input length  = 2000, using nperseg = 2000\n",
      "  warnings.warn('nperseg = {0:d} is greater than input length '\n",
      "C:\\Users\\37063\\anaconda3\\lib\\site-packages\\scipy\\signal\\_spectral_py.py:2014: UserWarning: nperseg = 2048 is greater than input length  = 1400, using nperseg = 1400\n",
      "  warnings.warn('nperseg = {0:d} is greater than input length '\n",
      "C:\\Users\\37063\\anaconda3\\lib\\site-packages\\scipy\\signal\\_spectral_py.py:2014: UserWarning: nperseg = 2048 is greater than input length  = 1000, using nperseg = 1000\n",
      "  warnings.warn('nperseg = {0:d} is greater than input length '\n",
      "C:\\Users\\37063\\anaconda3\\lib\\site-packages\\scipy\\signal\\_spectral_py.py:2014: UserWarning: nperseg = 2048 is greater than input length  = 200, using nperseg = 200\n",
      "  warnings.warn('nperseg = {0:d} is greater than input length '\n",
      "C:\\Users\\37063\\anaconda3\\lib\\site-packages\\scipy\\signal\\_spectral_py.py:2014: UserWarning: nperseg = 2048 is greater than input length  = 800, using nperseg = 800\n",
      "  warnings.warn('nperseg = {0:d} is greater than input length '\n",
      "C:\\Users\\37063\\anaconda3\\lib\\site-packages\\scipy\\signal\\_spectral_py.py:2014: UserWarning: nperseg = 2048 is greater than input length  = 400, using nperseg = 400\n",
      "  warnings.warn('nperseg = {0:d} is greater than input length '\n",
      "C:\\Users\\37063\\anaconda3\\lib\\site-packages\\scipy\\signal\\_spectral_py.py:2014: UserWarning: nperseg = 2048 is greater than input length  = 1600, using nperseg = 1600\n",
      "  warnings.warn('nperseg = {0:d} is greater than input length '\n",
      "C:\\Users\\37063\\anaconda3\\lib\\site-packages\\scipy\\signal\\_spectral_py.py:2014: UserWarning: nperseg = 2048 is greater than input length  = 600, using nperseg = 600\n",
      "  warnings.warn('nperseg = {0:d} is greater than input length '\n"
     ]
    }
   ],
   "source": [
    "FFT_files = []\n",
    "\n",
    "# Apply PSD function high_filteres to every csv file to obtain \n",
    "for file in files:\n",
    "    \n",
    "    df = pd.read_csv(file)\n",
    "    \n",
    "    FFT_df = df.apply(low_filtered, args = [4, 2048, 7])\n",
    "    \n",
    "    FFT_files.append(FFT_df)\n",
    "    "
   ]
  },
  {
   "cell_type": "markdown",
   "metadata": {},
   "source": [
    "Average all the channels in the three parcels, in 4 stages, and find the fit in 0.1-4 Hz band"
   ]
  },
  {
   "cell_type": "code",
   "execution_count": 18,
   "metadata": {},
   "outputs": [],
   "source": [
    "from scipy.optimize import curve_fit"
   ]
  },
  {
   "cell_type": "code",
   "execution_count": 22,
   "metadata": {},
   "outputs": [],
   "source": [
    "# Define a line for fitting the log-log PSD in 0.1-4 Hz frequency range\n",
    "def line(a,x,b):\n",
    "  return a*x+b"
   ]
  },
  {
   "cell_type": "code",
   "execution_count": 87,
   "metadata": {},
   "outputs": [
    {
     "data": {
      "text/plain": [
       "array([0.29296875, 0.390625  , 0.48828125, 0.5859375 , 0.68359375,\n",
       "       0.78125   , 0.87890625, 0.9765625 , 1.07421875, 1.171875  ,\n",
       "       1.26953125, 1.3671875 , 1.46484375, 1.5625    , 1.66015625,\n",
       "       1.7578125 , 1.85546875, 1.953125  , 2.05078125, 2.1484375 ,\n",
       "       2.24609375, 2.34375   , 2.44140625, 2.5390625 , 2.63671875,\n",
       "       2.734375  , 2.83203125, 2.9296875 , 3.02734375, 3.125     ,\n",
       "       3.22265625, 3.3203125 , 3.41796875, 3.515625  , 3.61328125,\n",
       "       3.7109375 , 3.80859375])"
      ]
     },
     "execution_count": 87,
     "metadata": {},
     "output_type": "execute_result"
    }
   ],
   "source": [
    "freq[3:40]"
   ]
  },
  {
   "cell_type": "code",
   "execution_count": 104,
   "metadata": {},
   "outputs": [
    {
     "name": "stdout",
     "output_type": "stream",
     "text": [
      "Frequency resolution: 0.098\n",
      "Start frequency: 0.293\n",
      "End frequency: 4.004\n",
      "3 41\n"
     ]
    }
   ],
   "source": [
    "# Define frequencies with a resolution of 0.098 Hz step\n",
    "freq = np.fft.rfftfreq(2048, 1/200)\n",
    "\n",
    "freq_res = freq[3]-freq[2]\n",
    "start = int(0/freq_res)+3\n",
    "end = int(4 / freq_res)+1\n",
    "print(\"Frequency resolution: {:.3f}\\nStart frequency: {:.3f}\\nEnd frequency: {:.3f}\"\n",
    "      .format(freq_res, freq[start], freq[end]))\n",
    "print(start, end)"
   ]
  },
  {
   "cell_type": "code",
   "execution_count": 105,
   "metadata": {},
   "outputs": [],
   "source": [
    "# Calculate the fit including error for three gyrus in four stages\n",
    "fit_values = []\n",
    "\n",
    "\n",
    "for file in FFT_files:\n",
    "    k = curve_fit(line, np.log(freq[3:41]), \n",
    "                       np.log(np.mean(file[start:end],axis=1)),\n",
    "                       sigma = np.std(file[start:end],axis=1)/\n",
    "                       np.mean(file[start:end],axis=1), \n",
    "                       absolute_sigma = True)\n",
    "    fit_values.append(k)\n"
   ]
  },
  {
   "cell_type": "code",
   "execution_count": 111,
   "metadata": {},
   "outputs": [
    {
     "data": {
      "image/png": "[encoded data removed]",
      "text/plain": [
       "<Figure size 576x288 with 1 Axes>"
      ]
     },
     "metadata": {
      "needs_background": "light"
     },
     "output_type": "display_data"
    }
   ],
   "source": [
    "fig, ax = plt.subplots(figsize=(8, 4))\n",
    "\n",
    "plt.errorbar(0, np.abs(fit_values[11][0][0]), \n",
    "            yerr = np.sqrt(np.diag(fit_values[11][1]))[0], \n",
    "            fmt = \"X\", capsize = 3, ms = 13, color = \"green\")\n",
    "plt.errorbar(1, np.abs(fit_values[3][0][0]), \n",
    "            yerr = np.sqrt(np.diag(fit_values[3][1]))[0], \n",
    "            fmt = \"X\", capsize = 3, ms = 13, color = \"blue\")\n",
    "plt.errorbar(2, np.abs(fit_values[7][0][0]), \n",
    "            yerr = np.sqrt(np.diag(fit_values[7][1]))[0], \n",
    "            fmt = \"X\", capsize = 3, ms = 13, color = \"red\")\n",
    "\n",
    "#plt.ylim(-3.7, -2.5)\n",
    "plt.xticks([0, 1, 2], labels=[\"STG\", \"PostG\", \"PreG\"], size=22)\n",
    "plt.yticks(size=22)\n",
    "plt.ylabel(\"β\", size=22)\n",
    "plt.grid()\n",
    "\n",
    "plt.show()"
   ]
  },
  {
   "cell_type": "code",
   "execution_count": 109,
   "metadata": {},
   "outputs": [
    {
     "data": {
      "text/plain": [
       "0.7170169730565694"
      ]
     },
     "execution_count": 109,
     "metadata": {},
     "output_type": "execute_result"
    }
   ],
   "source": [
    "np.abs(fit_values[11][0][0])"
   ]
  },
  {
   "cell_type": "markdown",
   "metadata": {},
   "source": [
    "Pairwise T test for the three parcels in one stage"
   ]
  },
  {
   "cell_type": "code",
   "execution_count": 117,
   "metadata": {},
   "outputs": [],
   "source": [
    "from scipy.stats import ttest_ind_from_stats as ttest"
   ]
  },
  {
   "cell_type": "code",
   "execution_count": 125,
   "metadata": {},
   "outputs": [],
   "source": [
    "from itertools import combinations\n",
    "\n",
    "file_groups = {}\n",
    "for file in files:\n",
    "    last_letter = file.split('_')[-1][0]\n",
    "    if last_letter not in file_groups:\n",
    "        file_groups[last_letter] = []\n",
    "    file_groups[last_letter].append(file)\n",
    "\n",
    "# Generate combinations for each group\n",
    "combinations_by_group = {}\n",
    "for group, group_files in file_groups.items():\n",
    "    combinations_by_group[group] = list(combinations(group_files, 2))\n",
    "\n",
    "# Perform t-tests for each combination\n",
    "results = {}\n",
    "for group, group_combinations in combinations_by_group.items():\n",
    "    results[group] = []\n",
    "    for combination in group_combinations:\n",
    "        idx1 = files.index(combination[0])\n",
    "        idx2 = files.index(combination[1])\n",
    "        result = ttest(fit_values[idx1][0][0], \n",
    "                       np.sqrt(np.diag(fit_values[idx1][1]))[0], \n",
    "                       len(FFT_files[idx1].columns),\n",
    "                       fit_values[idx2][0][0], \n",
    "                       np.sqrt(np.diag(fit_values[idx2][1]))[0], \n",
    "                       len(FFT_files[idx2].columns))\n",
    "        results[group].append(result)\n",
    "\n",
    "# Access results for each group\n",
    "wake_results = results['W']"
   ]
  },
  {
   "cell_type": "code",
   "execution_count": 126,
   "metadata": {},
   "outputs": [
    {
     "data": {
      "text/plain": [
       "[Ttest_indResult(statistic=-5.970181707121332, pvalue=1.0436499079171703e-08),\n",
       " Ttest_indResult(statistic=5.712771058397718, pvalue=6.348279789740395e-08),\n",
       " Ttest_indResult(statistic=13.197160770905931, pvalue=1.2872992953233286e-29)]"
      ]
     },
     "execution_count": 126,
     "metadata": {},
     "output_type": "execute_result"
    }
   ],
   "source": [
    "wake_results"
   ]
  },
  {
   "cell_type": "markdown",
   "metadata": {},
   "source": [
    "We do not compare the low frequency range slope in sleep stages as delta band oscilations amplitude overwhelmes the power-law behaviour."
   ]
  },
  {
   "cell_type": "code",
   "execution_count": 129,
   "metadata": {},
   "outputs": [
    {
     "data": {
      "text/plain": [
       "['Postcentral gyrus_D.csv',\n",
       " 'Postcentral gyrus_N.csv',\n",
       " 'Postcentral gyrus_R.csv',\n",
       " 'Postcentral gyrus_W.csv',\n",
       " 'Precentral gyrus_D.csv',\n",
       " 'Precentral gyrus_N.csv',\n",
       " 'Precentral gyrus_R.csv',\n",
       " 'Precentral gyrus_W.csv',\n",
       " 'Superior temporal gyrus_D.csv',\n",
       " 'Superior temporal gyrus_N.csv',\n",
       " 'Superior temporal gyrus_R.csv',\n",
       " 'Superior temporal_gyrus_W.csv']"
      ]
     },
     "execution_count": 129,
     "metadata": {},
     "output_type": "execute_result"
    }
   ],
   "source": [
    "files"
   ]
  },
  {
   "cell_type": "code",
   "execution_count": 131,
   "metadata": {},
   "outputs": [
    {
     "data": {
      "text/plain": [
       "array([0.29296875, 0.390625  , 0.48828125, 0.5859375 , 0.68359375,\n",
       "       0.78125   , 0.87890625, 0.9765625 , 1.07421875, 1.171875  ,\n",
       "       1.26953125, 1.3671875 , 1.46484375, 1.5625    , 1.66015625,\n",
       "       1.7578125 , 1.85546875, 1.953125  , 2.05078125, 2.1484375 ,\n",
       "       2.24609375, 2.34375   , 2.44140625, 2.5390625 , 2.63671875,\n",
       "       2.734375  , 2.83203125, 2.9296875 , 3.02734375, 3.125     ,\n",
       "       3.22265625, 3.3203125 , 3.41796875, 3.515625  , 3.61328125,\n",
       "       3.7109375 , 3.80859375, 3.90625   ])"
      ]
     },
     "execution_count": 131,
     "metadata": {},
     "output_type": "execute_result"
    }
   ],
   "source": [
    "freq[start:end]"
   ]
  },
  {
   "cell_type": "code",
   "execution_count": 166,
   "metadata": {},
   "outputs": [
    {
     "name": "stderr",
     "output_type": "stream",
     "text": [
      "C:\\Users\\37063\\anaconda3\\lib\\site-packages\\ipykernel\\ipkernel.py:287: DeprecationWarning: `should_run_async` will not call `transform_cell` automatically in the future. Please pass the result to `transformed_cell` argument and any exception that happen during thetransform in `preprocessing_exc_tuple` in IPython 7.17 and above.\n",
      "  and should_run_async(code)\n",
      "<ipython-input-166-1369ee2f668c>:6: MatplotlibDeprecationWarning: Auto-removal of overlapping axes is deprecated since 3.6 and will be removed two minor releases later; explicitly call ax.remove() as needed.\n",
      "  plt.subplot(1,3,plot)\n"
     ]
    },
    {
     "data": {
      "image/png": "[encoded data removed]",
      "text/plain": [
       "<Figure size 1080x288 with 3 Axes>"
      ]
     },
     "metadata": {
      "needs_background": "light"
     },
     "output_type": "display_data"
    }
   ],
   "source": [
    "colors = [\"green\", \"blue\", \"red\"]\n",
    "fig, ax = plt.subplots(figsize=(15, 4))\n",
    "\n",
    "for plot, index, color in zip(range(1,4), [8,0,4], colors):\n",
    "    \n",
    "    plt.subplot(1,3,plot)\n",
    "    plt.errorbar(np.log(freq[1:end]), np.log(np.mean(FFT_files[index],axis=1)[1:end]), \n",
    "             yerr = np.std(FFT_files[index],axis=1)[1:end]/np.std(FFT_files[index],axis=1)[1:end],\n",
    "            color=color, capsize=3)\n",
    "    plt.errorbar(np.log(freq[start:end]), np.log(freq[start:end])*fit_values[index][0][0]+fit_values[index][0][1],  \n",
    "            ls = \"--\", color = \"black\")\n",
    "    plt.xlabel(\"Frequency (Hz)\", size=14)\n",
    "    plt.ylabel(\"PSD\", size=14)\n",
    "    warnings.resetwarnings()"
   ]
  }
 ],
 "metadata": {
  "kernelspec": {
   "display_name": "Python 3",
   "language": "python",
   "name": "python3"
  },
  "language_info": {
   "codemirror_mode": {
    "name": "ipython",
    "version": 3
   },
   "file_extension": ".py",
   "mimetype": "text/x-python",
   "name": "python",
   "nbconvert_exporter": "python",
   "pygments_lexer": "ipython3",
   "version": "3.8.5"
  }
 },
 "nbformat": 4,
 "nbformat_minor": 4
}
