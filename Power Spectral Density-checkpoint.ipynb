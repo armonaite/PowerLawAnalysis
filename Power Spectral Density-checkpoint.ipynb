{
 "cells": [
  {
   "cell_type": "markdown",
   "metadata": {},
   "source": [
    "### Power Spectral Density"
   ]
  },
  {
   "cell_type": "markdown",
   "metadata": {},
   "source": [
    "Perform Power Spectral Density (PSD) calculation on three cortical parcels: Superior temporal Gyrus, Postcentral Gyrus and Precentral gyrus, in four states, wakefulness as well as REM, N2 and N3 sleep stages. \n",
    "\n",
    "The files are named according to the corresponding cortical parcel. Where the letters at the end indicate the state. \n",
    "W - wakefullness, \n",
    "R - REM, \n",
    "N - N2, \n",
    "D - N3."
   ]
  },
  {
   "cell_type": "code",
   "execution_count": 17,
   "metadata": {},
   "outputs": [],
   "source": [
    "import pandas as pd\n",
    "import numpy as np\n",
    "from scipy import signal\n",
    "import matplotlib.pyplot as plt\n",
    "import os"
   ]
  },
  {
   "cell_type": "code",
   "execution_count": 18,
   "metadata": {},
   "outputs": [
    {
     "name": "stdout",
     "output_type": "stream",
     "text": [
      "Requirement already up-to-date: pandas in c:\\users\\37063\\anaconda3\\lib\\site-packages (2.0.3)\n",
      "Requirement already satisfied, skipping upgrade: python-dateutil>=2.8.2 in c:\\users\\37063\\anaconda3\\lib\\site-packages (from pandas) (2.8.2)\n",
      "Requirement already satisfied, skipping upgrade: numpy>=1.20.3; python_version < \"3.10\" in c:\\users\\37063\\anaconda3\\lib\\site-packages (from pandas) (1.20.3)\n",
      "Requirement already satisfied, skipping upgrade: tzdata>=2022.1 in c:\\users\\37063\\anaconda3\\lib\\site-packages (from pandas) (2023.3)\n",
      "Requirement already satisfied, skipping upgrade: pytz>=2020.1 in c:\\users\\37063\\anaconda3\\lib\\site-packages (from pandas) (2020.1)\n",
      "Requirement already satisfied, skipping upgrade: six>=1.5 in c:\\users\\37063\\anaconda3\\lib\\site-packages (from python-dateutil>=2.8.2->pandas) (1.15.0)\n"
     ]
    }
   ],
   "source": [
    "!pip install --upgrade pandas"
   ]
  },
  {
   "cell_type": "code",
   "execution_count": 21,
   "metadata": {},
   "outputs": [],
   "source": [
    "files = []\n",
    "\n",
    "# Loop through files in the directory\n",
    "for filename in os.listdir():\n",
    "    if filename.endswith('.csv'):\n",
    "        \n",
    "        files.append(filename)"
   ]
  },
  {
   "cell_type": "code",
   "execution_count": 22,
   "metadata": {},
   "outputs": [
    {
     "data": {
      "text/plain": [
       "['Postcentral gyrus_D.csv',\n",
       " 'Postcentral gyrus_N.csv',\n",
       " 'Postcentral gyrus_R.csv',\n",
       " 'Postcentral gyrus_W.csv',\n",
       " 'Precentral gyrus_D.csv',\n",
       " 'Precentral gyrus_N.csv',\n",
       " 'Precentral gyrus_R.csv',\n",
       " 'Precentral gyrus_W.csv',\n",
       " 'Superior temporal gyrus_D.csv',\n",
       " 'Superior temporal gyrus_N.csv',\n",
       " 'Superior temporal gyrus_R.csv',\n",
       " 'Superior temporal_gyrus_W.csv']"
      ]
     },
     "execution_count": 22,
     "metadata": {},
     "output_type": "execute_result"
    }
   ],
   "source": [
    "files"
   ]
  },
  {
   "cell_type": "code",
   "execution_count": 16,
   "metadata": {},
   "outputs": [
    {
     "data": {
      "text/plain": [
       "[]"
      ]
     },
     "execution_count": 16,
     "metadata": {},
     "output_type": "execute_result"
    }
   ],
   "source": [
    "FFT_files"
   ]
  },
  {
   "cell_type": "markdown",
   "metadata": {},
   "source": [
    "Calculate PSD for all the files"
   ]
  },
  {
   "cell_type": "code",
   "execution_count": 23,
   "metadata": {},
   "outputs": [],
   "source": [
    "# Helper function to normalize the PSD function so that the area under the curve is equal to 1.\n",
    "def norm(data):\n",
    "  val = data/(data.sum())\n",
    "  return val\n",
    "\n",
    "\n",
    "\n",
    "def PSD(ar):\n",
    "\n",
    "    # A helper functon to remove the zero gaps in the signals\n",
    "  def split_by_zero(arr):\n",
    "    equals=np.isclose(arr, np.abs(arr).min())\n",
    "    l=[]\n",
    "    to_split=False\n",
    "    for i in range(len(arr)):\n",
    "        if equals[i] and i < len(arr)-1 and equals[i+1]:\n",
    "            to_split=True\n",
    "        elif not equals[i] and to_split:\n",
    "            yield l\n",
    "            l=[]\n",
    "            to_split=False\n",
    "\n",
    "        if not to_split:\n",
    "            l.append(arr[i])\n",
    "    yield l\n",
    "\n",
    "  vector=[]\n",
    "  s=[]\n",
    "  for l in split_by_zero(ar):\n",
    "    l=np.array(l)\n",
    "    vector.append(l)\n",
    "  f=[]\n",
    "  for i in vector:\n",
    "    fft=signal.welch(i, fs=200, window=\"hann\", nperseg=256, nfft=256, noverlap=128)\n",
    "\n",
    "    f.append(norm(fft[1]))\n",
    "    ftm=np.mean(f,axis=0)\n",
    "    fstd=np.std(f,axis=0)\n",
    "\n",
    "  return ftm"
   ]
  },
  {
   "cell_type": "code",
   "execution_count": 24,
   "metadata": {},
   "outputs": [
    {
     "name": "stderr",
     "output_type": "stream",
     "text": [
      "C:\\Users\\37063\\anaconda3\\lib\\site-packages\\scipy\\signal\\_spectral_py.py:2014: UserWarning: nperseg = 256 is greater than input length  = 200, using nperseg = 200\n",
      "  warnings.warn('nperseg = {0:d} is greater than input length '\n"
     ]
    }
   ],
   "source": [
    "FFT_files = []\n",
    "\n",
    "# Apply PSD function to every csv file\n",
    "for file in files:\n",
    "    \n",
    "    df = pd.read_csv(file)\n",
    "    \n",
    "    FFT_df = df.apply(PSD)\n",
    "    \n",
    "    FFT_files.append(FFT_df)"
   ]
  },
  {
   "cell_type": "code",
   "execution_count": 25,
   "metadata": {},
   "outputs": [],
   "source": [
    "freq = np.fft.rfftfreq(256, 1/200)[:103]"
   ]
  },
  {
   "cell_type": "code",
   "execution_count": 26,
   "metadata": {},
   "outputs": [
    {
     "data": {
      "text/plain": [
       "array([ 8.59375,  9.375  , 10.15625, 10.9375 , 11.71875])"
      ]
     },
     "execution_count": 26,
     "metadata": {},
     "output_type": "execute_result"
    }
   ],
   "source": [
    "freq[11:16]"
   ]
  },
  {
   "cell_type": "code",
   "execution_count": 32,
   "metadata": {},
   "outputs": [
    {
     "data": {
      "text/html": [
       "<div>\n",
       "<style scoped>\n",
       "    .dataframe tbody tr th:only-of-type {\n",
       "        vertical-align: middle;\n",
       "    }\n",
       "\n",
       "    .dataframe tbody tr th {\n",
       "        vertical-align: top;\n",
       "    }\n",
       "\n",
       "    .dataframe thead th {\n",
       "        text-align: right;\n",
       "    }\n",
       "</style>\n",
       "<table border=\"1\" class=\"dataframe\">\n",
       "  <thead>\n",
       "    <tr style=\"text-align: right;\">\n",
       "      <th></th>\n",
       "      <th>GD004Rt6W</th>\n",
       "      <th>GD004Rt7W</th>\n",
       "      <th>GD005Lw_5W</th>\n",
       "      <th>GD007Rz13W</th>\n",
       "      <th>GD007Rz14W</th>\n",
       "      <th>GD007Ry14W</th>\n",
       "      <th>GD007Rf14W</th>\n",
       "      <th>GD009Rj12W</th>\n",
       "      <th>GD014Ry13W</th>\n",
       "      <th>GD014Ry14W</th>\n",
       "      <th>...</th>\n",
       "      <th>NA098RP83W</th>\n",
       "      <th>NG099RG230W</th>\n",
       "      <th>NG100RG31W</th>\n",
       "      <th>NG104LP11W</th>\n",
       "      <th>NG104LP13W</th>\n",
       "      <th>NG104LP15W</th>\n",
       "      <th>NG104LP17W</th>\n",
       "      <th>NG110RG622W</th>\n",
       "      <th>NG110RG623W</th>\n",
       "      <th>NG110RG614W</th>\n",
       "    </tr>\n",
       "  </thead>\n",
       "  <tbody>\n",
       "    <tr>\n",
       "      <th>0</th>\n",
       "      <td>0.015814</td>\n",
       "      <td>0.014082</td>\n",
       "      <td>0.039999</td>\n",
       "      <td>0.005066</td>\n",
       "      <td>0.009595</td>\n",
       "      <td>0.006691</td>\n",
       "      <td>0.002431</td>\n",
       "      <td>0.004054</td>\n",
       "      <td>0.009121</td>\n",
       "      <td>0.011388</td>\n",
       "      <td>...</td>\n",
       "      <td>0.015723</td>\n",
       "      <td>0.020898</td>\n",
       "      <td>0.014770</td>\n",
       "      <td>0.025142</td>\n",
       "      <td>0.008179</td>\n",
       "      <td>0.014383</td>\n",
       "      <td>0.011097</td>\n",
       "      <td>0.016238</td>\n",
       "      <td>0.015237</td>\n",
       "      <td>0.008439</td>\n",
       "    </tr>\n",
       "    <tr>\n",
       "      <th>1</th>\n",
       "      <td>0.093744</td>\n",
       "      <td>0.081234</td>\n",
       "      <td>0.175490</td>\n",
       "      <td>0.025661</td>\n",
       "      <td>0.052435</td>\n",
       "      <td>0.060548</td>\n",
       "      <td>0.013313</td>\n",
       "      <td>0.021009</td>\n",
       "      <td>0.051634</td>\n",
       "      <td>0.060611</td>\n",
       "      <td>...</td>\n",
       "      <td>0.131357</td>\n",
       "      <td>0.086432</td>\n",
       "      <td>0.089159</td>\n",
       "      <td>0.115700</td>\n",
       "      <td>0.041995</td>\n",
       "      <td>0.069620</td>\n",
       "      <td>0.054907</td>\n",
       "      <td>0.123680</td>\n",
       "      <td>0.115585</td>\n",
       "      <td>0.066592</td>\n",
       "    </tr>\n",
       "    <tr>\n",
       "      <th>2</th>\n",
       "      <td>0.088446</td>\n",
       "      <td>0.078414</td>\n",
       "      <td>0.146430</td>\n",
       "      <td>0.030718</td>\n",
       "      <td>0.062412</td>\n",
       "      <td>0.035783</td>\n",
       "      <td>0.014845</td>\n",
       "      <td>0.025385</td>\n",
       "      <td>0.053283</td>\n",
       "      <td>0.065645</td>\n",
       "      <td>...</td>\n",
       "      <td>0.093994</td>\n",
       "      <td>0.085118</td>\n",
       "      <td>0.062567</td>\n",
       "      <td>0.115731</td>\n",
       "      <td>0.048559</td>\n",
       "      <td>0.064258</td>\n",
       "      <td>0.083277</td>\n",
       "      <td>0.163729</td>\n",
       "      <td>0.138648</td>\n",
       "      <td>0.083151</td>\n",
       "    </tr>\n",
       "    <tr>\n",
       "      <th>3</th>\n",
       "      <td>0.077879</td>\n",
       "      <td>0.063316</td>\n",
       "      <td>0.068359</td>\n",
       "      <td>0.024589</td>\n",
       "      <td>0.041950</td>\n",
       "      <td>0.019671</td>\n",
       "      <td>0.012840</td>\n",
       "      <td>0.030121</td>\n",
       "      <td>0.032073</td>\n",
       "      <td>0.040797</td>\n",
       "      <td>...</td>\n",
       "      <td>0.074288</td>\n",
       "      <td>0.092533</td>\n",
       "      <td>0.028037</td>\n",
       "      <td>0.061527</td>\n",
       "      <td>0.055263</td>\n",
       "      <td>0.039606</td>\n",
       "      <td>0.075518</td>\n",
       "      <td>0.064337</td>\n",
       "      <td>0.063204</td>\n",
       "      <td>0.042801</td>\n",
       "    </tr>\n",
       "    <tr>\n",
       "      <th>4</th>\n",
       "      <td>0.080988</td>\n",
       "      <td>0.069025</td>\n",
       "      <td>0.036009</td>\n",
       "      <td>0.017927</td>\n",
       "      <td>0.031406</td>\n",
       "      <td>0.019869</td>\n",
       "      <td>0.011951</td>\n",
       "      <td>0.031250</td>\n",
       "      <td>0.020776</td>\n",
       "      <td>0.023859</td>\n",
       "      <td>...</td>\n",
       "      <td>0.115227</td>\n",
       "      <td>0.076222</td>\n",
       "      <td>0.031456</td>\n",
       "      <td>0.040966</td>\n",
       "      <td>0.055699</td>\n",
       "      <td>0.034799</td>\n",
       "      <td>0.056058</td>\n",
       "      <td>0.032983</td>\n",
       "      <td>0.032314</td>\n",
       "      <td>0.030919</td>\n",
       "    </tr>\n",
       "  </tbody>\n",
       "</table>\n",
       "<p>5 rows × 64 columns</p>\n",
       "</div>"
      ],
      "text/plain": [
       "   GD004Rt6W  GD004Rt7W  GD005Lw_5W  GD007Rz13W  GD007Rz14W  GD007Ry14W  \\\n",
       "0   0.015814   0.014082    0.039999    0.005066    0.009595    0.006691   \n",
       "1   0.093744   0.081234    0.175490    0.025661    0.052435    0.060548   \n",
       "2   0.088446   0.078414    0.146430    0.030718    0.062412    0.035783   \n",
       "3   0.077879   0.063316    0.068359    0.024589    0.041950    0.019671   \n",
       "4   0.080988   0.069025    0.036009    0.017927    0.031406    0.019869   \n",
       "\n",
       "   GD007Rf14W  GD009Rj12W  GD014Ry13W  GD014Ry14W  ...  NA098RP83W  \\\n",
       "0    0.002431    0.004054    0.009121    0.011388  ...    0.015723   \n",
       "1    0.013313    0.021009    0.051634    0.060611  ...    0.131357   \n",
       "2    0.014845    0.025385    0.053283    0.065645  ...    0.093994   \n",
       "3    0.012840    0.030121    0.032073    0.040797  ...    0.074288   \n",
       "4    0.011951    0.031250    0.020776    0.023859  ...    0.115227   \n",
       "\n",
       "   NG099RG230W  NG100RG31W  NG104LP11W  NG104LP13W  NG104LP15W  NG104LP17W  \\\n",
       "0     0.020898    0.014770    0.025142    0.008179    0.014383    0.011097   \n",
       "1     0.086432    0.089159    0.115700    0.041995    0.069620    0.054907   \n",
       "2     0.085118    0.062567    0.115731    0.048559    0.064258    0.083277   \n",
       "3     0.092533    0.028037    0.061527    0.055263    0.039606    0.075518   \n",
       "4     0.076222    0.031456    0.040966    0.055699    0.034799    0.056058   \n",
       "\n",
       "   NG110RG622W  NG110RG623W  NG110RG614W  \n",
       "0     0.016238     0.015237     0.008439  \n",
       "1     0.123680     0.115585     0.066592  \n",
       "2     0.163729     0.138648     0.083151  \n",
       "3     0.064337     0.063204     0.042801  \n",
       "4     0.032983     0.032314     0.030919  \n",
       "\n",
       "[5 rows x 64 columns]"
      ]
     },
     "execution_count": 32,
     "metadata": {},
     "output_type": "execute_result"
    }
   ],
   "source": [
    "FFT_files[3].head(5)"
   ]
  },
  {
   "cell_type": "code",
   "execution_count": 33,
   "metadata": {},
   "outputs": [
    {
     "data": {
      "text/plain": [
       "Text(0, 0.5, 'PSD')"
      ]
     },
     "execution_count": 33,
     "metadata": {},
     "output_type": "execute_result"
    },
    {
     "data": {
      "image/png": "[encoded data removed]",
      "text/plain": [
       "<Figure size 576x360 with 1 Axes>"
      ]
     },
     "metadata": {
      "needs_background": "light"
     },
     "output_type": "display_data"
    }
   ],
   "source": [
    "file_indices = [3, 7, 11]\n",
    "colors = [\"blue\", \"red\", \"green\"]\n",
    "\n",
    "fig, ax = plt.subplots(figsize=(8,5))\n",
    "\n",
    "# Iterate through file indices for wakefulness and colors for the parcels\n",
    "for idx, col in zip(file_indices, colors):\n",
    "    mean = FFT_files[idx].mean(axis=1)[:103]\n",
    "    std = FFT_files[idx].std(axis=1)[:103]\n",
    "    \n",
    "    ax.errorbar(freq, mean, yerr = std,\n",
    "               color = col, capsize = 3, elinewidth = 0.5)\n",
    "\n",
    "ax.set_xscale(\"log\")\n",
    "ax.set_xlabel(\"Frequency (Hz)\", size=15)\n",
    "ax.set_ylabel(\"PSD\", size=15)"
   ]
  },
  {
   "cell_type": "markdown",
   "metadata": {},
   "source": [
    "### Calculate the mean value of the PSD band"
   ]
  },
  {
   "cell_type": "markdown",
   "metadata": {},
   "source": [
    "Calculate the mean PSD value in a band, where:\n",
    "delta (0 - 4 Hz)\n",
    "Theta (4  - 8 Hz)\n",
    "alpha (8 - 12 Hz)\n",
    "low beta (12 - 25 Hz)\n",
    "high beta (25 - 33 Hz)\n",
    "low gamma (33- 50 Hz)\n",
    "high gamma (49 - 80 Hz)"
   ]
  },
  {
   "cell_type": "code",
   "execution_count": 35,
   "metadata": {},
   "outputs": [
    {
     "name": "stdout",
     "output_type": "stream",
     "text": [
      "0.78125\n"
     ]
    }
   ],
   "source": [
    "freq_resolution = 200/256\n",
    "print(freq_resolution)"
   ]
  },
  {
   "cell_type": "code",
   "execution_count": 32,
   "metadata": {},
   "outputs": [
    {
     "data": {
      "text/plain": [
       "array([33.59375, 34.375  , 35.15625, 35.9375 , 36.71875, 37.5    ,\n",
       "       38.28125, 39.0625 , 39.84375, 40.625  , 41.40625, 42.1875 ,\n",
       "       42.96875, 43.75   , 44.53125, 45.3125 , 46.09375, 46.875  ,\n",
       "       47.65625, 48.4375 , 49.21875])"
      ]
     },
     "execution_count": 32,
     "metadata": {},
     "output_type": "execute_result"
    }
   ],
   "source": [
    "freq[43:64]"
   ]
  },
  {
   "cell_type": "code",
   "execution_count": 36,
   "metadata": {},
   "outputs": [],
   "source": [
    "def band_mean(data):\n",
    "    \n",
    "    band_ranges = [\n",
    "        (0, 4),\n",
    "        (4, 8),\n",
    "        (8, 12),\n",
    "        (12, 25),\n",
    "        (25, 33),\n",
    "        (33, 49),\n",
    "        (49, 80)\n",
    "    ]\n",
    "\n",
    "    # Calculate the index ranges for each band\n",
    "    index_ranges = [(int(start/freq_resolution), int(end/freq_resolution) + 1) for start, end in band_ranges]\n",
    "\n",
    "    # Calculate the mean for each band using vectorized operations\n",
    "    band_means = [data.iloc[start:end].mean() for start, end in index_ranges]\n",
    "    band_stds = [data.iloc[start:end].std() for start, end in index_ranges]\n",
    "\n",
    "    # Concatenate the results along the columns\n",
    "    return pd.concat(band_means, axis=1), pd.concat(band_stds, axis=1)"
   ]
  },
  {
   "cell_type": "markdown",
   "metadata": {},
   "source": [
    "Visualize the output for wakefulness in three parcels"
   ]
  },
  {
   "cell_type": "code",
   "execution_count": 37,
   "metadata": {},
   "outputs": [
    {
     "data": {
      "image/png": "[encoded data removed]",
      "text/plain": [
       "<Figure size 576x360 with 1 Axes>"
      ]
     },
     "metadata": {
      "needs_background": "light"
     },
     "output_type": "display_data"
    }
   ],
   "source": [
    "file_indices = [3, 7, 11]\n",
    "x_index = [1, 2, 3]\n",
    "colors = [\"blue\", \"red\", \"green\"]\n",
    "\n",
    "fig, ax = plt.subplots(figsize=(8, 5))\n",
    "\n",
    "# Loop over files and colors\n",
    "for index, x_idx, color in zip(file_indices, x_index, colors):\n",
    "    x_values = np.arange(x_idx, 22, 3)\n",
    "    y_mean = band_mean(FFT_files[index])[0].mean()\n",
    "    y_std = band_mean(FFT_files[index])[1].mean()\n",
    "\n",
    "    ax.errorbar(x_values, y_mean, yerr=y_std,\n",
    "                color=color, capsize=3, elinewidth=0.5, fmt=\"o\", ms=6)\n",
    "\n",
    "ax.set_yscale(\"log\")\n",
    "ax.set_xlabel(\"Bands\", size=15)\n",
    "ax.set_ylabel(\"PSD band mean\", size=15)\n",
    "ax.set_xticks(np.arange(2, 22, 3))\n",
    "ax.set_xticklabels([\"δ\", \"θ\", \"α\", \"lβ\", \"hβ\", \"lγ\", \"hγ\"], size=15)\n",
    "ax.grid()"
   ]
  },
  {
   "cell_type": "markdown",
   "metadata": {},
   "source": [
    "###  The post-hoc of Anova, Tukey_HSD pairwise test"
   ]
  },
  {
   "cell_type": "code",
   "execution_count": 37,
   "metadata": {},
   "outputs": [],
   "source": [
    "from statsmodels.stats.multicomp import pairwise_tukeyhsd"
   ]
  },
  {
   "cell_type": "code",
   "execution_count": 154,
   "metadata": {},
   "outputs": [
    {
     "data": {
      "text/plain": [
       "['Postcentral gyrus_D.csv',\n",
       " 'Postcentral gyrus_N.csv',\n",
       " 'Postcentral gyrus_R.csv',\n",
       " 'Postcentral_Gyrus_W.csv',\n",
       " 'Precentral gyrus_D.csv',\n",
       " 'Precentral gyrus_N.csv',\n",
       " 'Precentral gyrus_R.csv',\n",
       " 'Precentral_gyrus_W.csv',\n",
       " 'Superior temporal gyrus_D.csv',\n",
       " 'Superior temporal gyrus_N.csv',\n",
       " 'Superior temporal gyrus_R.csv',\n",
       " 'Superior_temporal_gyrus_W.csv']"
      ]
     },
     "execution_count": 154,
     "metadata": {},
     "output_type": "execute_result"
    }
   ],
   "source": [
    "files"
   ]
  },
  {
   "cell_type": "code",
   "execution_count": 260,
   "metadata": {},
   "outputs": [
    {
     "name": "stdout",
     "output_type": "stream",
     "text": [
      "delta\n",
      "                    Multiple Comparison of Means - Tukey HSD, FWER=0.05                     \n",
      "============================================================================================\n",
      "         group1                     group2            meandiff p-adj   lower   upper  reject\n",
      "--------------------------------------------------------------------------------------------\n",
      "Postcentral_Gyrus_W.csv        Precentral_gyrus_W.csv  -0.0094 0.0177 -0.0175 -0.0013   True\n",
      "Postcentral_Gyrus_W.csv Superior_temporal_gyrus_W.csv   0.0183  0.001  0.0093  0.0273   True\n",
      " Precentral_gyrus_W.csv Superior_temporal_gyrus_W.csv   0.0277  0.001  0.0202  0.0352   True\n",
      "--------------------------------------------------------------------------------------------\n",
      "theta\n",
      "                    Multiple Comparison of Means - Tukey HSD, FWER=0.05                    \n",
      "===========================================================================================\n",
      "         group1                     group2            meandiff p-adj   lower  upper  reject\n",
      "-------------------------------------------------------------------------------------------\n",
      "Postcentral_Gyrus_W.csv        Precentral_gyrus_W.csv  -0.0015 0.8949 -0.0094 0.0065  False\n",
      "Postcentral_Gyrus_W.csv Superior_temporal_gyrus_W.csv   0.0009    0.9 -0.0079 0.0097  False\n",
      " Precentral_gyrus_W.csv Superior_temporal_gyrus_W.csv   0.0024 0.7121  -0.005 0.0098  False\n",
      "-------------------------------------------------------------------------------------------\n",
      "alpha\n",
      "                    Multiple Comparison of Means - Tukey HSD, FWER=0.05                     \n",
      "============================================================================================\n",
      "         group1                     group2            meandiff p-adj   lower   upper  reject\n",
      "--------------------------------------------------------------------------------------------\n",
      "Postcentral_Gyrus_W.csv        Precentral_gyrus_W.csv  -0.0114  0.001 -0.0177 -0.0052   True\n",
      "Postcentral_Gyrus_W.csv Superior_temporal_gyrus_W.csv   0.0029 0.5844 -0.0041  0.0099  False\n",
      " Precentral_gyrus_W.csv Superior_temporal_gyrus_W.csv   0.0144  0.001  0.0085  0.0202   True\n",
      "--------------------------------------------------------------------------------------------\n",
      "lbeta\n",
      "                    Multiple Comparison of Means - Tukey HSD, FWER=0.05                     \n",
      "============================================================================================\n",
      "         group1                     group2            meandiff p-adj   lower   upper  reject\n",
      "--------------------------------------------------------------------------------------------\n",
      "Postcentral_Gyrus_W.csv        Precentral_gyrus_W.csv   0.0049 0.0019  0.0016  0.0083   True\n",
      "Postcentral_Gyrus_W.csv Superior_temporal_gyrus_W.csv  -0.0039 0.0428 -0.0076 -0.0001   True\n",
      " Precentral_gyrus_W.csv Superior_temporal_gyrus_W.csv  -0.0088  0.001 -0.0119 -0.0056   True\n",
      "--------------------------------------------------------------------------------------------\n",
      "hbeta\n",
      "                    Multiple Comparison of Means - Tukey HSD, FWER=0.05                     \n",
      "============================================================================================\n",
      "         group1                     group2            meandiff p-adj   lower   upper  reject\n",
      "--------------------------------------------------------------------------------------------\n",
      "Postcentral_Gyrus_W.csv        Precentral_gyrus_W.csv   0.0024 0.0039  0.0006  0.0041   True\n",
      "Postcentral_Gyrus_W.csv Superior_temporal_gyrus_W.csv  -0.0026 0.0052 -0.0045 -0.0006   True\n",
      " Precentral_gyrus_W.csv Superior_temporal_gyrus_W.csv  -0.0049  0.001 -0.0065 -0.0033   True\n",
      "--------------------------------------------------------------------------------------------\n",
      "lgamma\n",
      "                    Multiple Comparison of Means - Tukey HSD, FWER=0.05                     \n",
      "============================================================================================\n",
      "         group1                     group2            meandiff p-adj   lower   upper  reject\n",
      "--------------------------------------------------------------------------------------------\n",
      "Postcentral_Gyrus_W.csv        Precentral_gyrus_W.csv   0.0005 0.0232  0.0001   0.001   True\n",
      "Postcentral_Gyrus_W.csv Superior_temporal_gyrus_W.csv  -0.0006 0.0262 -0.0011 -0.0001   True\n",
      " Precentral_gyrus_W.csv Superior_temporal_gyrus_W.csv  -0.0011  0.001 -0.0015 -0.0007   True\n",
      "--------------------------------------------------------------------------------------------\n",
      "hgamma\n",
      "                    Multiple Comparison of Means - Tukey HSD, FWER=0.05                     \n",
      "============================================================================================\n",
      "         group1                     group2            meandiff p-adj   lower   upper  reject\n",
      "--------------------------------------------------------------------------------------------\n",
      "Postcentral_Gyrus_W.csv        Precentral_gyrus_W.csv   0.0001 0.4644 -0.0001  0.0002  False\n",
      "Postcentral_Gyrus_W.csv Superior_temporal_gyrus_W.csv  -0.0001 0.2215 -0.0003  0.0001  False\n",
      " Precentral_gyrus_W.csv Superior_temporal_gyrus_W.csv  -0.0002 0.0035 -0.0003 -0.0001   True\n",
      "--------------------------------------------------------------------------------------------\n"
     ]
    }
   ],
   "source": [
    "group_labels = []\n",
    "stages = [\"W\", \"R\", \"N\", \"D\"]\n",
    "bands = [\"delta\", \"theta\", \"alpha\", \"lbeta\",\"hbeta\", \"lgamma\", \"hgamma\"]\n",
    "stage_data = []\n",
    "df = []\n",
    "band_mean = []\n",
    "\n",
    "# iterate through file names and group files from the same stage, so to generate labels\n",
    "# stages[index] indicates the stage from the list of stages\n",
    "for idx, name in enumerate(files):\n",
    "    if (name.split('_')[-1][0] == stages[0]):\n",
    "        group_labels.append([name] * len(FFT_files[idx].columns))\n",
    "        stage_data.append(FFT_files[idx])\n",
    "        \n",
    "labels = [item for sublist in group_labels for item in sublist]\n",
    "\n",
    "# Calculate the mean value of 7 bands and concatenate mean band values of the three parcels\n",
    "for ranges in index_ranges:\n",
    "    \n",
    "    band_mean.append(np.concatenate([file[ranges[0]:ranges[1]].mean() for file in stage_data]))\n",
    "\n",
    "\n",
    "# Pivot data for each band to prepare it for the Tukey_HSD test\n",
    "for i, band in enumerate(bands):\n",
    "    \n",
    "    df.append(pd.DataFrame({band: band_mean[i], \"group\": labels}))\n",
    "\n",
    "# Perform Tukey_HSD pairwise test in the three parcels separately in 7 bands\n",
    "for band, data in zip(bands, df):\n",
    "    print(data.columns[0])\n",
    "    print(pairwise_tukeyhsd(data[band], data[\"group\"], alpha=0.05))"
   ]
  }
 ],
 "metadata": {
  "kernelspec": {
   "display_name": "Python 3",
   "language": "python",
   "name": "python3"
  },
  "language_info": {
   "codemirror_mode": {
    "name": "ipython",
    "version": 3
   },
   "file_extension": ".py",
   "mimetype": "text/x-python",
   "name": "python",
   "nbconvert_exporter": "python",
   "pygments_lexer": "ipython3",
   "version": "3.8.5"
  }
 },
 "nbformat": 4,
 "nbformat_minor": 4
}
