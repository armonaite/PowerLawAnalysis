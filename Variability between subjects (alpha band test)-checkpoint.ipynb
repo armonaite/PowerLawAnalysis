{
 "cells": [
  {
   "cell_type": "markdown",
   "metadata": {},
   "source": [
    "### Intra-subject variability and variability across channels in a signel subject"
   ]
  },
  {
   "cell_type": "markdown",
   "metadata": {},
   "source": [
    "We calculate the mean value of PSD alpha frequency band in all the subjects separately averaging the value across the channels given, and we report the mean value and standard deviation. Then we average the mean value of alpha frequency band across the subjects and report the standard deviation between the subjects. We perform this verification only in wakefulness"
   ]
  },
  {
   "cell_type": "code",
   "execution_count": 34,
   "metadata": {},
   "outputs": [],
   "source": [
    "import pandas as pd\n",
    "import numpy as np\n",
    "from scipy import signal\n",
    "import matplotlib.pyplot as plt\n",
    "import os"
   ]
  },
  {
   "cell_type": "code",
   "execution_count": 7,
   "metadata": {},
   "outputs": [
    {
     "name": "stdout",
     "output_type": "stream",
     "text": [
      "Requirement already up-to-date: pandas in c:\\users\\37063\\anaconda3\\lib\\site-packages (2.0.3)\n",
      "Requirement already satisfied, skipping upgrade: pytz>=2020.1 in c:\\users\\37063\\anaconda3\\lib\\site-packages (from pandas) (2020.1)\n",
      "Requirement already satisfied, skipping upgrade: python-dateutil>=2.8.2 in c:\\users\\37063\\anaconda3\\lib\\site-packages (from pandas) (2.8.2)\n",
      "Requirement already satisfied, skipping upgrade: numpy>=1.20.3; python_version < \"3.10\" in c:\\users\\37063\\anaconda3\\lib\\site-packages (from pandas) (1.20.3)\n",
      "Requirement already satisfied, skipping upgrade: tzdata>=2022.1 in c:\\users\\37063\\anaconda3\\lib\\site-packages (from pandas) (2023.3)\n",
      "Requirement already satisfied, skipping upgrade: six>=1.5 in c:\\users\\37063\\anaconda3\\lib\\site-packages (from python-dateutil>=2.8.2->pandas) (1.15.0)\n"
     ]
    }
   ],
   "source": [
    "!pip install --upgrade pandas"
   ]
  },
  {
   "cell_type": "code",
   "execution_count": 3,
   "metadata": {},
   "outputs": [],
   "source": [
    "files = []\n",
    "\n",
    "# Loop through files in the directory\n",
    "for filename in os.listdir():\n",
    "    if filename.endswith('W.csv'):\n",
    "        \n",
    "        files.append(filename)"
   ]
  },
  {
   "cell_type": "code",
   "execution_count": 41,
   "metadata": {},
   "outputs": [
    {
     "data": {
      "text/plain": [
       "['Postcentral gyrus_W.csv',\n",
       " 'Precentral gyrus_W.csv',\n",
       " 'Superior temporal_gyrus_W.csv']"
      ]
     },
     "execution_count": 41,
     "metadata": {},
     "output_type": "execute_result"
    }
   ],
   "source": [
    "files"
   ]
  },
  {
   "cell_type": "code",
   "execution_count": 44,
   "metadata": {},
   "outputs": [],
   "source": [
    "# Helper function to normalize the PSD function so that the area under the curve is equal to 1.\n",
    "def norm(data):\n",
    "  val = data/(data.sum())\n",
    "  return val\n",
    "\n",
    "def PSD(ar):\n",
    "\n",
    "# A helper functon to remove the zero gaps in the signals\n",
    "  def split_by_zero(arr):\n",
    "    equals = np.isclose(arr, np.abs(arr).min())\n",
    "    l = []\n",
    "    to_split=False\n",
    "    for i in range(len(arr)):\n",
    "        if equals[i] and i < len(arr)-1 and equals[i+1]:\n",
    "            to_split=True\n",
    "        elif not equals[i] and to_split:\n",
    "            yield l\n",
    "            l = []\n",
    "            to_split=False\n",
    "\n",
    "        if not to_split:\n",
    "            l.append(arr[i])\n",
    "    yield l\n",
    "\n",
    "\n",
    "  vector = []\n",
    "\n",
    "# Signal pieces after splitting by zero are stored as different arrays,\n",
    "# now let's read read these arrays and apply transformation separately and average them.\n",
    "  for l in split_by_zero(ar):\n",
    "    l=np.array(l)\n",
    "    vector.append(l)\n",
    "  f = []\n",
    "  for i in vector:\n",
    "    PSD = signal.welch(i, fs = 200, window = \"hann\", nperseg = 256, nfft = 256, noverlap = 128)\n",
    "\n",
    "    f.append(norm(PSD[1]))\n",
    "    averaged_sets = np.mean(f,axis=0)\n",
    "\n",
    "  return averaged_sets"
   ]
  },
  {
   "cell_type": "code",
   "execution_count": 43,
   "metadata": {},
   "outputs": [
    {
     "name": "stderr",
     "output_type": "stream",
     "text": [
      "C:\\Users\\37063\\anaconda3\\lib\\site-packages\\scipy\\signal\\_spectral_py.py:2014: UserWarning: nperseg = 256 is greater than input length  = 200, using nperseg = 200\n",
      "  warnings.warn('nperseg = {0:d} is greater than input length '\n"
     ]
    }
   ],
   "source": [
    "FFT_files = []\n",
    "\n",
    "# Apply PSD function to every csv file\n",
    "for file in files:\n",
    "    \n",
    "    df = pd.read_csv(file)\n",
    "    \n",
    "    FFT_df = df.apply(PSD)\n",
    "    \n",
    "    FFT_files.append(FFT_df)"
   ]
  },
  {
   "cell_type": "markdown",
   "metadata": {},
   "source": [
    "### Variability between channels in a signle subjects and between subjects"
   ]
  },
  {
   "cell_type": "markdown",
   "metadata": {},
   "source": [
    "Calculate the mean PSD value in alpha band in wakefullness in three regions, where:\n",
    "alpha (8 - 12 Hz)"
   ]
  },
  {
   "cell_type": "code",
   "execution_count": 136,
   "metadata": {},
   "outputs": [],
   "source": [
    "mean_single_sub = []\n",
    "std_single_sub = []\n",
    "mean_subs = []\n",
    "std_subs = []\n",
    "\n",
    "for file in FFT_files:\n",
    "    \n",
    "    # Select only alpha frequency band in all the channels and fin the mean value\n",
    "    f = pd.DataFrame(file[11:16].mean()).T\n",
    "    \n",
    "    # Extract only the number of the subject fro, the title of the channel\n",
    "    cols  = pd.Series([k for k,v in file.items()])\n",
    "    cols = np.asarray(cols.str.extract(pat=(r\"(\\d+)\"))).ravel()\n",
    "    \n",
    "    # Reset the columns name of the dataset\n",
    "    f.columns = cols\n",
    "    \n",
    "    mean_single_sub.append(f.groupby(level=0,axis=1).mean())\n",
    "    std_single_sub.append(f.groupby(level=0,axis=1).std())\n",
    "\n",
    "for i in range(0,3):\n",
    "    mean_subs.append(mean_single_ch[i].mean(axis=1))\n",
    "    std_subs.append(mean_single_ch[i].std(axis=1))\n",
    "    \n",
    "three_parcels_mean = pd.concat([i.T for i in mean_single_sub], axis=1).sort_index()\n",
    "three_parcels_std = pd.concat([i.T for i in std_single_sub], axis=1).sort_index()"
   ]
  },
  {
   "cell_type": "code",
   "execution_count": 157,
   "metadata": {},
   "outputs": [
    {
     "data": {
      "image/png": "[encoded data removed]",
      "text/plain": [
       "<Figure size 864x720 with 3 Axes>"
      ]
     },
     "metadata": {
      "needs_background": "light"
     },
     "output_type": "display_data"
    },
    {
     "data": {
      "text/plain": [
       "<Figure size 432x288 with 0 Axes>"
      ]
     },
     "metadata": {},
     "output_type": "display_data"
    }
   ],
   "source": [
    "fig=plt.figure(figsize=(12,10))\n",
    "\n",
    "plt.subplot(311)\n",
    "plt.errorbar(three_parcels_mean.index, three_parcels_mean.iloc[:, 2], \n",
    "             yerr=three_parcels_std.iloc[:, 2], color=\"green\", fmt=\"o\", capsize=4, ms=8)\n",
    "plt.hlines(mean_subs[2], 0,55, color=\"black\")\n",
    "plt.hlines(mean_subs[2]-std_subs[2], 0,55, color=\"black\", ls=\"--\")\n",
    "plt.hlines(mean_subs[2]+std_subs[2], 0,55, color=\"black\", ls=\"--\")\n",
    "plt.ylabel(\"<PSD>$_{α}$\", size=18)\n",
    "plt.xticks(size=14, rotation=90)\n",
    "plt.yticks(size=14)\n",
    "plt.ylim(0, 0.11)\n",
    "\n",
    "plt.subplot(312)\n",
    "plt.errorbar(three_parcels_mean.index, three_parcels_mean.iloc[:, 0], \n",
    "             yerr=three_parcels_std.iloc[:, 0], color=\"blue\", fmt=\"o\", capsize=4, ms=8)\n",
    "plt.hlines(mean_subs[0], 0,55, color=\"black\")\n",
    "plt.hlines(mean_subs[0]-std_subs[0], 0,55, color=\"black\", ls=\"--\")\n",
    "plt.hlines(mean_subs[0]+std_subs[0], 0,55, color=\"black\", ls=\"--\")\n",
    "plt.ylabel(\"<PSD>$_{α}$\", size=18)\n",
    "plt.xticks(size=14, rotation=90)\n",
    "plt.yticks(size=14)\n",
    "plt.ylim(0, 0.11)\n",
    "\n",
    "plt.subplot(313)\n",
    "plt.errorbar(three_parcels_mean.index, three_parcels_mean.iloc[:, 1], \n",
    "             yerr=three_parcels_std.iloc[:, 1], color=\"red\", fmt=\"o\", capsize=4, ms=8)\n",
    "plt.hlines(mean_subs[1], 0,55, color=\"black\")\n",
    "plt.hlines(mean_subs[1]-std_subs[1], 0,55, color=\"black\", ls=\"--\")\n",
    "plt.hlines(mean_subs[1]+std_subs[1], 0,55, color=\"black\", ls=\"--\")\n",
    "plt.ylabel(\"<PSD>$_{α}$\", size=18)\n",
    "plt.xlabel(\"Sub. ID\", size=18)\n",
    "plt.xticks(size=14, rotation=90)\n",
    "plt.yticks(size=14)\n",
    "plt.ylim(0, 0.11)\n",
    "plt.subplots_adjust(hspace=0.3)\n",
    "plt.show()\n",
    "plt.savefig(\"Variability.jpg\", bbox_inches=\"tight\", dpi=200)"
   ]
  },
  {
   "cell_type": "code",
   "execution_count": 178,
   "metadata": {},
   "outputs": [
    {
     "data": {
      "text/plain": [
       "0.03001943439723567"
      ]
     },
     "execution_count": 178,
     "metadata": {},
     "output_type": "execute_result"
    }
   ],
   "source": [
    "np.array(mean_single_sub[2])[0][0]"
   ]
  },
  {
   "cell_type": "code",
   "execution_count": 198,
   "metadata": {},
   "outputs": [
    {
     "data": {
      "text/plain": [
       "21"
      ]
     },
     "execution_count": 198,
     "metadata": {},
     "output_type": "execute_result"
    }
   ],
   "source": [
    "len(mean_single_sub[0].T)"
   ]
  },
  {
   "cell_type": "markdown",
   "metadata": {},
   "source": [
    "##  Paired T-test"
   ]
  },
  {
   "cell_type": "markdown",
   "metadata": {},
   "source": [
    "Here we pair the mean value of alpha frequency band across the subjects with each subject mean value across the channels.Therefore we obtain number of pairs equal to the number of subjects in the cortical parcel"
   ]
  },
  {
   "cell_type": "code",
   "execution_count": 158,
   "metadata": {},
   "outputs": [],
   "source": [
    "from scipy.stats import ttest_ind_from_stats as ttest"
   ]
  },
  {
   "cell_type": "code",
   "execution_count": 242,
   "metadata": {},
   "outputs": [],
   "source": [
    "def statistics(mean, std, index):\n",
    "    \n",
    "    p_values = []\n",
    "    t_tests = []\n",
    "    \n",
    "    mean = np.array(mean[index])[0] \n",
    "    std = np.nan_to_num(np.array(std[index])[0], nan = 0) \n",
    "    \n",
    "    # Iterate through all unique pairs of rows\n",
    "    for i in range(len(mean)):\n",
    "        \n",
    "        mean1, std1 = mean_subs[index][0], std_subs[index][0]\n",
    "        mean2, std2 = mean[i], std[i]\n",
    "\n",
    "        # Perform paired t-test\n",
    "        t_test, p_value = ttest(mean1, std1, len(mean),\n",
    "                                mean2, std2, len(mean))\n",
    "\n",
    "        # Append p-value and t_test to the array\n",
    "        p_values.append(p_value)\n",
    "        t_tests.append(t_test)\n",
    "    \n",
    "    # Bonferroni adjustment of p-values\n",
    "    p_adj = [i * len(p_values) for i in p_values]\n",
    "    \n",
    "    return p_values"
   ]
  },
  {
   "cell_type": "code",
   "execution_count": 249,
   "metadata": {},
   "outputs": [
    {
     "name": "stdout",
     "output_type": "stream",
     "text": [
      "STG:0.04+/- 0.09\n",
      "PostG:0.19+/- 0.27\n",
      "PrecG:0.12+/- 0.24\n"
     ]
    }
   ],
   "source": [
    "print(\"STG:{:.2f}+/- {:.2f}\".format(np.mean(statistics(mean_single_sub, std_single_sub, 2)), \n",
    "                                   np.std(statistics(mean_single_sub, std_single_sub, 2))))\n",
    "print(\"PostG:{:.2f}+/- {:.2f}\".format(np.mean(statistics(mean_single_sub, std_single_sub, 0)), \n",
    "                                   np.std(statistics(mean_single_sub, std_single_sub, 0))))\n",
    "print(\"PrecG:{:.2f}+/- {:.2f}\".format(np.mean(statistics(mean_single_sub, std_single_sub, 1)), \n",
    "                                   np.std(statistics(mean_single_sub, std_single_sub, 1))))"
   ]
  }
 ],
 "metadata": {
  "kernelspec": {
   "display_name": "Python 3",
   "language": "python",
   "name": "python3"
  },
  "language_info": {
   "codemirror_mode": {
    "name": "ipython",
    "version": 3
   },
   "file_extension": ".py",
   "mimetype": "text/x-python",
   "name": "python",
   "nbconvert_exporter": "python",
   "pygments_lexer": "ipython3",
   "version": "3.8.5"
  }
 },
 "nbformat": 4,
 "nbformat_minor": 4
}
