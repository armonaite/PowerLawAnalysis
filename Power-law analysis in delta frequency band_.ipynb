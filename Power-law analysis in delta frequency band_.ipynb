{
 "cells": [
  {
   "cell_type": "markdown",
   "metadata": {},
   "source": [
    "## Power-law analysis in delta frequency band\n",
    "Perform calculations of the Power Spectral Density (PSD) on log-log scale, where we evaluate the slope after have applied a low-pass filtering. We try several permutations to see if the evaluated slope of the PSD changes as a function of various parameters. As parameters we selects number of FFT lines: 256, 1024, 2048; order of the filter: 5 and 7 and fitting range: 0.x-8 Hz, and 0.x - 4 Hz with 4 Hz and 8 hz cut-off filter values. We perform this analysis in the three cortical areas analysed only in wakefulness."
   ]
  },
  {
   "cell_type": "code",
   "execution_count": 5,
   "metadata": {},
   "outputs": [
    {
     "name": "stderr",
     "output_type": "stream",
     "text": [
      "C:\\Users\\37063\\anaconda3\\lib\\site-packages\\pandas\\core\\computation\\expressions.py:20: UserWarning: Pandas requires version '2.7.3' or newer of 'numexpr' (version '2.7.1' currently installed).\n",
      "  from pandas.core.computation.check import NUMEXPR_INSTALLED\n"
     ]
    }
   ],
   "source": [
    "import pandas as pd\n",
    "import numpy as np\n",
    "from scipy import signal\n",
    "import matplotlib.pyplot as plt\n",
    "import os"
   ]
  },
  {
   "cell_type": "code",
   "execution_count": 2,
   "metadata": {},
   "outputs": [],
   "source": [
    "import warnings\n",
    "warnings.filterwarnings(\"ignore\")\n",
    "warnings.resetwarnings()"
   ]
  },
  {
   "cell_type": "code",
   "execution_count": 2,
   "metadata": {},
   "outputs": [
    {
     "name": "stdout",
     "output_type": "stream",
     "text": [
      "Requirement already up-to-date: pandas in c:\\users\\37063\\anaconda3\\lib\\site-packages (2.0.3)\n",
      "Requirement already satisfied, skipping upgrade: numpy>=1.20.3; python_version < \"3.10\" in c:\\users\\37063\\anaconda3\\lib\\site-packages (from pandas) (1.20.3)\n",
      "Requirement already satisfied, skipping upgrade: tzdata>=2022.1 in c:\\users\\37063\\anaconda3\\lib\\site-packages (from pandas) (2023.3)\n",
      "Requirement already satisfied, skipping upgrade: pytz>=2020.1 in c:\\users\\37063\\anaconda3\\lib\\site-packages (from pandas) (2020.1)\n",
      "Requirement already satisfied, skipping upgrade: python-dateutil>=2.8.2 in c:\\users\\37063\\anaconda3\\lib\\site-packages (from pandas) (2.8.2)\n",
      "Requirement already satisfied, skipping upgrade: six>=1.5 in c:\\users\\37063\\anaconda3\\lib\\site-packages (from python-dateutil>=2.8.2->pandas) (1.15.0)\n"
     ]
    }
   ],
   "source": [
    "!pip install --upgrade pandas"
   ]
  },
  {
   "cell_type": "code",
   "execution_count": 3,
   "metadata": {},
   "outputs": [
    {
     "name": "stderr",
     "output_type": "stream",
     "text": [
      "C:\\Users\\37063\\anaconda3\\lib\\site-packages\\ipykernel\\ipkernel.py:287: DeprecationWarning: `should_run_async` will not call `transform_cell` automatically in the future. Please pass the result to `transformed_cell` argument and any exception that happen during thetransform in `preprocessing_exc_tuple` in IPython 7.17 and above.\n",
      "  and should_run_async(code)\n"
     ]
    }
   ],
   "source": [
    "files = []\n",
    "\n",
    "# Loop through files in the directory\n",
    "for filename in os.listdir():\n",
    "    if filename.endswith('W.csv'):\n",
    "        \n",
    "        files.append(filename)"
   ]
  },
  {
   "cell_type": "code",
   "execution_count": 4,
   "metadata": {},
   "outputs": [
    {
     "data": {
      "text/plain": [
       "['Postcentral gyrus_W.csv',\n",
       " 'Precentral gyrus_W.csv',\n",
       " 'Superior temporal_gyrus_W.csv']"
      ]
     },
     "execution_count": 4,
     "metadata": {},
     "output_type": "execute_result"
    }
   ],
   "source": [
    "files"
   ]
  },
  {
   "cell_type": "markdown",
   "metadata": {},
   "source": [
    "Perform low-pass filtering and calculate PSD on the signals"
   ]
  },
  {
   "cell_type": "code",
   "execution_count": 5,
   "metadata": {},
   "outputs": [],
   "source": [
    "def norm(data):\n",
    "  val = data/(data.sum())\n",
    "  return val\n",
    "\n",
    "def butter_lowpass(cutoff, order):\n",
    "    nyq = 0.5 * 200\n",
    "    normal_cutoff = cutoff / nyq\n",
    "    b, a = signal.butter(order, normal_cutoff, btype='low', analog=False)\n",
    "    return b, a\n",
    "\n",
    "def butter_lowpass_filter(data, cutoff, order):\n",
    "    b, a = butter_lowpass(cutoff, order=order)\n",
    "    y = signal.filtfilt(b, a, data)\n",
    "    return y\n",
    "\n",
    "def low_filtered(ar, cutoff, nperseg, order):\n",
    "\n",
    "  def split_by_zero(arr):\n",
    "    equals=np.isclose(arr, np.abs(arr).min())\n",
    "    l=[]\n",
    "    to_split=False\n",
    "    for i in range(len(arr)):\n",
    "        if equals[i] and i < len(arr)-1 and equals[i+1]:\n",
    "            to_split=True\n",
    "        elif not equals[i] and to_split:\n",
    "            yield l\n",
    "            l=[]\n",
    "            to_split=False\n",
    "\n",
    "        if not to_split:\n",
    "            l.append(arr[i])\n",
    "    yield l\n",
    "\n",
    "  vector=[]\n",
    "  s=[]\n",
    "  for l in split_by_zero(ar):\n",
    "    l=np.array(l)\n",
    "    vector.append(l)\n",
    "  f=[]\n",
    "  for i in vector:\n",
    "    x_filt = butter_lowpass_filter(i, cutoff, order)\n",
    "    fft=signal.welch(x_filt, fs=200, window=\"hann\", nperseg=nperseg, nfft=nperseg, noverlap=0)\n",
    "\n",
    "    f.append(norm(fft[1]))\n",
    "    ftm=np.mean(f,axis=0)\n",
    "    fstd=np.std(f,axis=0)\n",
    "\n",
    "  return ftm"
   ]
  },
  {
   "cell_type": "code",
   "execution_count": 6,
   "metadata": {},
   "outputs": [],
   "source": [
    "from scipy.optimize import curve_fit"
   ]
  },
  {
   "cell_type": "code",
   "execution_count": 7,
   "metadata": {},
   "outputs": [],
   "source": [
    "# Define a line for fitting the log-log PSD in 0.1-4 Hz frequency range\n",
    "def line(a,x,b):\n",
    "  return a*x+b"
   ]
  },
  {
   "cell_type": "code",
   "execution_count": 8,
   "metadata": {},
   "outputs": [
    {
     "data": {
      "text/plain": [
       "array([0.1953125, 0.390625 , 0.5859375, 0.78125  , 0.9765625, 1.171875 ,\n",
       "       1.3671875, 1.5625   , 1.7578125, 1.953125 , 2.1484375, 2.34375  ,\n",
       "       2.5390625, 2.734375 , 2.9296875, 3.125    , 3.3203125, 3.515625 ,\n",
       "       3.7109375])"
      ]
     },
     "execution_count": 8,
     "metadata": {},
     "output_type": "execute_result"
    }
   ],
   "source": [
    "f = np.fft.rfftfreq(1024, 1/200)\n",
    "f[1:20]"
   ]
  },
  {
   "cell_type": "code",
   "execution_count": 9,
   "metadata": {},
   "outputs": [],
   "source": [
    "f = np.fft.rfftfreq(2048, 1/200)"
   ]
  },
  {
   "cell_type": "code",
   "execution_count": 22,
   "metadata": {},
   "outputs": [],
   "source": [
    "start_end = [[(1, 5), (1, 20), (3, 41)], [(1, 11), (1, 41), (3, 81)]]"
   ]
  },
  {
   "cell_type": "code",
   "execution_count": 25,
   "metadata": {},
   "outputs": [
    {
     "data": {
      "text/plain": [
       "4"
      ]
     },
     "execution_count": 25,
     "metadata": {},
     "output_type": "execute_result"
    }
   ],
   "source": [
    "start_end[0][0][1]-start_end[0][0][0]"
   ]
  },
  {
   "cell_type": "code",
   "execution_count": 28,
   "metadata": {},
   "outputs": [
    {
     "name": "stderr",
     "output_type": "stream",
     "text": [
      "C:\\Users\\37063\\anaconda3\\lib\\site-packages\\ipykernel\\ipkernel.py:287: DeprecationWarning: `should_run_async` will not call `transform_cell` automatically in the future. Please pass the result to `transformed_cell` argument and any exception that happen during thetransform in `preprocessing_exc_tuple` in IPython 7.17 and above.\n",
      "  and should_run_async(code)\n"
     ]
    },
    {
     "data": {
      "text/plain": [
       "['Postcentral gyrus_W.csv',\n",
       " 'Precentral gyrus_W.csv',\n",
       " 'Superior temporal_gyrus_W.csv']"
      ]
     },
     "execution_count": 28,
     "metadata": {},
     "output_type": "execute_result"
    }
   ],
   "source": [
    "files"
   ]
  },
  {
   "cell_type": "code",
   "execution_count": 26,
   "metadata": {},
   "outputs": [
    {
     "data": {
      "text/plain": [
       "array([0.09765625, 0.1953125 , 0.29296875, 0.390625  ])"
      ]
     },
     "execution_count": 26,
     "metadata": {},
     "output_type": "execute_result"
    }
   ],
   "source": [
    "f[1:5]"
   ]
  },
  {
   "cell_type": "code",
   "execution_count": 21,
   "metadata": {},
   "outputs": [
    {
     "data": {
      "text/plain": [
       "0.09765625"
      ]
     },
     "execution_count": 21,
     "metadata": {},
     "output_type": "execute_result"
    }
   ],
   "source": [
    "f[1]-f[5]"
   ]
  },
  {
   "cell_type": "code",
   "execution_count": 15,
   "metadata": {},
   "outputs": [
    {
     "name": "stderr",
     "output_type": "stream",
     "text": [
      "C:\\Users\\37063\\anaconda3\\lib\\site-packages\\scipy\\signal\\_spectral_py.py:2014: UserWarning: nperseg = 1024 is greater than input length  = 800, using nperseg = 800\n",
      "  warnings.warn('nperseg = {0:d} is greater than input length '\n",
      "C:\\Users\\37063\\anaconda3\\lib\\site-packages\\scipy\\signal\\_spectral_py.py:2014: UserWarning: nperseg = 1024 is greater than input length  = 400, using nperseg = 400\n",
      "  warnings.warn('nperseg = {0:d} is greater than input length '\n",
      "C:\\Users\\37063\\anaconda3\\lib\\site-packages\\scipy\\signal\\_spectral_py.py:2014: UserWarning: nperseg = 1024 is greater than input length  = 800, using nperseg = 800\n",
      "  warnings.warn('nperseg = {0:d} is greater than input length '\n",
      "C:\\Users\\37063\\anaconda3\\lib\\site-packages\\scipy\\signal\\_spectral_py.py:2014: UserWarning: nperseg = 1024 is greater than input length  = 400, using nperseg = 400\n",
      "  warnings.warn('nperseg = {0:d} is greater than input length '\n",
      "C:\\Users\\37063\\anaconda3\\lib\\site-packages\\scipy\\signal\\_spectral_py.py:2014: UserWarning: nperseg = 2048 is greater than input length  = 800, using nperseg = 800\n",
      "  warnings.warn('nperseg = {0:d} is greater than input length '\n",
      "C:\\Users\\37063\\anaconda3\\lib\\site-packages\\scipy\\signal\\_spectral_py.py:2014: UserWarning: nperseg = 2048 is greater than input length  = 400, using nperseg = 400\n",
      "  warnings.warn('nperseg = {0:d} is greater than input length '\n",
      "C:\\Users\\37063\\anaconda3\\lib\\site-packages\\scipy\\signal\\_spectral_py.py:2014: UserWarning: nperseg = 2048 is greater than input length  = 1600, using nperseg = 1600\n",
      "  warnings.warn('nperseg = {0:d} is greater than input length '\n",
      "C:\\Users\\37063\\anaconda3\\lib\\site-packages\\scipy\\signal\\_spectral_py.py:2014: UserWarning: nperseg = 2048 is greater than input length  = 800, using nperseg = 800\n",
      "  warnings.warn('nperseg = {0:d} is greater than input length '\n",
      "C:\\Users\\37063\\anaconda3\\lib\\site-packages\\scipy\\signal\\_spectral_py.py:2014: UserWarning: nperseg = 2048 is greater than input length  = 400, using nperseg = 400\n",
      "  warnings.warn('nperseg = {0:d} is greater than input length '\n",
      "C:\\Users\\37063\\anaconda3\\lib\\site-packages\\scipy\\signal\\_spectral_py.py:2014: UserWarning: nperseg = 2048 is greater than input length  = 1600, using nperseg = 1600\n",
      "  warnings.warn('nperseg = {0:d} is greater than input length '\n",
      "C:\\Users\\37063\\anaconda3\\lib\\site-packages\\scipy\\signal\\_spectral_py.py:2014: UserWarning: nperseg = 1024 is greater than input length  = 800, using nperseg = 800\n",
      "  warnings.warn('nperseg = {0:d} is greater than input length '\n",
      "C:\\Users\\37063\\anaconda3\\lib\\site-packages\\scipy\\signal\\_spectral_py.py:2014: UserWarning: nperseg = 1024 is greater than input length  = 400, using nperseg = 400\n",
      "  warnings.warn('nperseg = {0:d} is greater than input length '\n",
      "C:\\Users\\37063\\anaconda3\\lib\\site-packages\\scipy\\signal\\_spectral_py.py:2014: UserWarning: nperseg = 1024 is greater than input length  = 800, using nperseg = 800\n",
      "  warnings.warn('nperseg = {0:d} is greater than input length '\n",
      "C:\\Users\\37063\\anaconda3\\lib\\site-packages\\scipy\\signal\\_spectral_py.py:2014: UserWarning: nperseg = 1024 is greater than input length  = 400, using nperseg = 400\n",
      "  warnings.warn('nperseg = {0:d} is greater than input length '\n",
      "C:\\Users\\37063\\anaconda3\\lib\\site-packages\\scipy\\signal\\_spectral_py.py:2014: UserWarning: nperseg = 2048 is greater than input length  = 800, using nperseg = 800\n",
      "  warnings.warn('nperseg = {0:d} is greater than input length '\n",
      "C:\\Users\\37063\\anaconda3\\lib\\site-packages\\scipy\\signal\\_spectral_py.py:2014: UserWarning: nperseg = 2048 is greater than input length  = 400, using nperseg = 400\n",
      "  warnings.warn('nperseg = {0:d} is greater than input length '\n",
      "C:\\Users\\37063\\anaconda3\\lib\\site-packages\\scipy\\signal\\_spectral_py.py:2014: UserWarning: nperseg = 2048 is greater than input length  = 1600, using nperseg = 1600\n",
      "  warnings.warn('nperseg = {0:d} is greater than input length '\n",
      "C:\\Users\\37063\\anaconda3\\lib\\site-packages\\scipy\\signal\\_spectral_py.py:2014: UserWarning: nperseg = 2048 is greater than input length  = 800, using nperseg = 800\n",
      "  warnings.warn('nperseg = {0:d} is greater than input length '\n",
      "C:\\Users\\37063\\anaconda3\\lib\\site-packages\\scipy\\signal\\_spectral_py.py:2014: UserWarning: nperseg = 2048 is greater than input length  = 400, using nperseg = 400\n",
      "  warnings.warn('nperseg = {0:d} is greater than input length '\n",
      "C:\\Users\\37063\\anaconda3\\lib\\site-packages\\scipy\\signal\\_spectral_py.py:2014: UserWarning: nperseg = 2048 is greater than input length  = 1600, using nperseg = 1600\n",
      "  warnings.warn('nperseg = {0:d} is greater than input length '\n",
      "C:\\Users\\37063\\anaconda3\\lib\\site-packages\\scipy\\signal\\_spectral_py.py:2014: UserWarning: nperseg = 1024 is greater than input length  = 800, using nperseg = 800\n",
      "  warnings.warn('nperseg = {0:d} is greater than input length '\n",
      "C:\\Users\\37063\\anaconda3\\lib\\site-packages\\scipy\\signal\\_spectral_py.py:2014: UserWarning: nperseg = 1024 is greater than input length  = 400, using nperseg = 400\n",
      "  warnings.warn('nperseg = {0:d} is greater than input length '\n",
      "C:\\Users\\37063\\anaconda3\\lib\\site-packages\\scipy\\signal\\_spectral_py.py:2014: UserWarning: nperseg = 1024 is greater than input length  = 800, using nperseg = 800\n",
      "  warnings.warn('nperseg = {0:d} is greater than input length '\n",
      "C:\\Users\\37063\\anaconda3\\lib\\site-packages\\scipy\\signal\\_spectral_py.py:2014: UserWarning: nperseg = 1024 is greater than input length  = 400, using nperseg = 400\n",
      "  warnings.warn('nperseg = {0:d} is greater than input length '\n",
      "C:\\Users\\37063\\anaconda3\\lib\\site-packages\\scipy\\signal\\_spectral_py.py:2014: UserWarning: nperseg = 2048 is greater than input length  = 800, using nperseg = 800\n",
      "  warnings.warn('nperseg = {0:d} is greater than input length '\n",
      "C:\\Users\\37063\\anaconda3\\lib\\site-packages\\scipy\\signal\\_spectral_py.py:2014: UserWarning: nperseg = 2048 is greater than input length  = 400, using nperseg = 400\n",
      "  warnings.warn('nperseg = {0:d} is greater than input length '\n",
      "C:\\Users\\37063\\anaconda3\\lib\\site-packages\\scipy\\signal\\_spectral_py.py:2014: UserWarning: nperseg = 2048 is greater than input length  = 1600, using nperseg = 1600\n",
      "  warnings.warn('nperseg = {0:d} is greater than input length '\n",
      "C:\\Users\\37063\\anaconda3\\lib\\site-packages\\scipy\\signal\\_spectral_py.py:2014: UserWarning: nperseg = 2048 is greater than input length  = 800, using nperseg = 800\n",
      "  warnings.warn('nperseg = {0:d} is greater than input length '\n",
      "C:\\Users\\37063\\anaconda3\\lib\\site-packages\\scipy\\signal\\_spectral_py.py:2014: UserWarning: nperseg = 2048 is greater than input length  = 400, using nperseg = 400\n",
      "  warnings.warn('nperseg = {0:d} is greater than input length '\n",
      "C:\\Users\\37063\\anaconda3\\lib\\site-packages\\scipy\\signal\\_spectral_py.py:2014: UserWarning: nperseg = 2048 is greater than input length  = 1600, using nperseg = 1600\n",
      "  warnings.warn('nperseg = {0:d} is greater than input length '\n",
      "C:\\Users\\37063\\anaconda3\\lib\\site-packages\\scipy\\signal\\_spectral_py.py:2014: UserWarning: nperseg = 1024 is greater than input length  = 800, using nperseg = 800\n",
      "  warnings.warn('nperseg = {0:d} is greater than input length '\n",
      "C:\\Users\\37063\\anaconda3\\lib\\site-packages\\scipy\\signal\\_spectral_py.py:2014: UserWarning: nperseg = 1024 is greater than input length  = 400, using nperseg = 400\n",
      "  warnings.warn('nperseg = {0:d} is greater than input length '\n",
      "C:\\Users\\37063\\anaconda3\\lib\\site-packages\\scipy\\signal\\_spectral_py.py:2014: UserWarning: nperseg = 1024 is greater than input length  = 600, using nperseg = 600\n",
      "  warnings.warn('nperseg = {0:d} is greater than input length '\n",
      "C:\\Users\\37063\\anaconda3\\lib\\site-packages\\scipy\\signal\\_spectral_py.py:2014: UserWarning: nperseg = 1024 is greater than input length  = 800, using nperseg = 800\n",
      "  warnings.warn('nperseg = {0:d} is greater than input length '\n",
      "C:\\Users\\37063\\anaconda3\\lib\\site-packages\\scipy\\signal\\_spectral_py.py:2014: UserWarning: nperseg = 1024 is greater than input length  = 400, using nperseg = 400\n",
      "  warnings.warn('nperseg = {0:d} is greater than input length '\n",
      "C:\\Users\\37063\\anaconda3\\lib\\site-packages\\scipy\\signal\\_spectral_py.py:2014: UserWarning: nperseg = 1024 is greater than input length  = 600, using nperseg = 600\n",
      "  warnings.warn('nperseg = {0:d} is greater than input length '\n",
      "C:\\Users\\37063\\anaconda3\\lib\\site-packages\\scipy\\signal\\_spectral_py.py:2014: UserWarning: nperseg = 2048 is greater than input length  = 1600, using nperseg = 1600\n",
      "  warnings.warn('nperseg = {0:d} is greater than input length '\n",
      "C:\\Users\\37063\\anaconda3\\lib\\site-packages\\scipy\\signal\\_spectral_py.py:2014: UserWarning: nperseg = 2048 is greater than input length  = 800, using nperseg = 800\n",
      "  warnings.warn('nperseg = {0:d} is greater than input length '\n",
      "C:\\Users\\37063\\anaconda3\\lib\\site-packages\\scipy\\signal\\_spectral_py.py:2014: UserWarning: nperseg = 2048 is greater than input length  = 1237, using nperseg = 1237\n",
      "  warnings.warn('nperseg = {0:d} is greater than input length '\n",
      "C:\\Users\\37063\\anaconda3\\lib\\site-packages\\scipy\\signal\\_spectral_py.py:2014: UserWarning: nperseg = 2048 is greater than input length  = 400, using nperseg = 400\n",
      "  warnings.warn('nperseg = {0:d} is greater than input length '\n",
      "C:\\Users\\37063\\anaconda3\\lib\\site-packages\\scipy\\signal\\_spectral_py.py:2014: UserWarning: nperseg = 2048 is greater than input length  = 600, using nperseg = 600\n",
      "  warnings.warn('nperseg = {0:d} is greater than input length '\n",
      "C:\\Users\\37063\\anaconda3\\lib\\site-packages\\scipy\\signal\\_spectral_py.py:2014: UserWarning: nperseg = 2048 is greater than input length  = 1600, using nperseg = 1600\n",
      "  warnings.warn('nperseg = {0:d} is greater than input length '\n",
      "C:\\Users\\37063\\anaconda3\\lib\\site-packages\\scipy\\signal\\_spectral_py.py:2014: UserWarning: nperseg = 2048 is greater than input length  = 800, using nperseg = 800\n",
      "  warnings.warn('nperseg = {0:d} is greater than input length '\n",
      "C:\\Users\\37063\\anaconda3\\lib\\site-packages\\scipy\\signal\\_spectral_py.py:2014: UserWarning: nperseg = 2048 is greater than input length  = 1237, using nperseg = 1237\n",
      "  warnings.warn('nperseg = {0:d} is greater than input length '\n",
      "C:\\Users\\37063\\anaconda3\\lib\\site-packages\\scipy\\signal\\_spectral_py.py:2014: UserWarning: nperseg = 2048 is greater than input length  = 400, using nperseg = 400\n",
      "  warnings.warn('nperseg = {0:d} is greater than input length '\n",
      "C:\\Users\\37063\\anaconda3\\lib\\site-packages\\scipy\\signal\\_spectral_py.py:2014: UserWarning: nperseg = 2048 is greater than input length  = 600, using nperseg = 600\n",
      "  warnings.warn('nperseg = {0:d} is greater than input length '\n",
      "C:\\Users\\37063\\anaconda3\\lib\\site-packages\\scipy\\signal\\_spectral_py.py:2014: UserWarning: nperseg = 1024 is greater than input length  = 800, using nperseg = 800\n",
      "  warnings.warn('nperseg = {0:d} is greater than input length '\n",
      "C:\\Users\\37063\\anaconda3\\lib\\site-packages\\scipy\\signal\\_spectral_py.py:2014: UserWarning: nperseg = 1024 is greater than input length  = 400, using nperseg = 400\n",
      "  warnings.warn('nperseg = {0:d} is greater than input length '\n",
      "C:\\Users\\37063\\anaconda3\\lib\\site-packages\\scipy\\signal\\_spectral_py.py:2014: UserWarning: nperseg = 1024 is greater than input length  = 600, using nperseg = 600\n",
      "  warnings.warn('nperseg = {0:d} is greater than input length '\n",
      "C:\\Users\\37063\\anaconda3\\lib\\site-packages\\scipy\\signal\\_spectral_py.py:2014: UserWarning: nperseg = 1024 is greater than input length  = 800, using nperseg = 800\n",
      "  warnings.warn('nperseg = {0:d} is greater than input length '\n",
      "C:\\Users\\37063\\anaconda3\\lib\\site-packages\\scipy\\signal\\_spectral_py.py:2014: UserWarning: nperseg = 1024 is greater than input length  = 400, using nperseg = 400\n",
      "  warnings.warn('nperseg = {0:d} is greater than input length '\n",
      "C:\\Users\\37063\\anaconda3\\lib\\site-packages\\scipy\\signal\\_spectral_py.py:2014: UserWarning: nperseg = 1024 is greater than input length  = 600, using nperseg = 600\n",
      "  warnings.warn('nperseg = {0:d} is greater than input length '\n",
      "C:\\Users\\37063\\anaconda3\\lib\\site-packages\\scipy\\signal\\_spectral_py.py:2014: UserWarning: nperseg = 2048 is greater than input length  = 1600, using nperseg = 1600\n",
      "  warnings.warn('nperseg = {0:d} is greater than input length '\n",
      "C:\\Users\\37063\\anaconda3\\lib\\site-packages\\scipy\\signal\\_spectral_py.py:2014: UserWarning: nperseg = 2048 is greater than input length  = 800, using nperseg = 800\n",
      "  warnings.warn('nperseg = {0:d} is greater than input length '\n",
      "C:\\Users\\37063\\anaconda3\\lib\\site-packages\\scipy\\signal\\_spectral_py.py:2014: UserWarning: nperseg = 2048 is greater than input length  = 1237, using nperseg = 1237\n",
      "  warnings.warn('nperseg = {0:d} is greater than input length '\n",
      "C:\\Users\\37063\\anaconda3\\lib\\site-packages\\scipy\\signal\\_spectral_py.py:2014: UserWarning: nperseg = 2048 is greater than input length  = 400, using nperseg = 400\n",
      "  warnings.warn('nperseg = {0:d} is greater than input length '\n",
      "C:\\Users\\37063\\anaconda3\\lib\\site-packages\\scipy\\signal\\_spectral_py.py:2014: UserWarning: nperseg = 2048 is greater than input length  = 600, using nperseg = 600\n",
      "  warnings.warn('nperseg = {0:d} is greater than input length '\n",
      "C:\\Users\\37063\\anaconda3\\lib\\site-packages\\scipy\\signal\\_spectral_py.py:2014: UserWarning: nperseg = 2048 is greater than input length  = 1600, using nperseg = 1600\n",
      "  warnings.warn('nperseg = {0:d} is greater than input length '\n",
      "C:\\Users\\37063\\anaconda3\\lib\\site-packages\\scipy\\signal\\_spectral_py.py:2014: UserWarning: nperseg = 2048 is greater than input length  = 800, using nperseg = 800\n",
      "  warnings.warn('nperseg = {0:d} is greater than input length '\n",
      "C:\\Users\\37063\\anaconda3\\lib\\site-packages\\scipy\\signal\\_spectral_py.py:2014: UserWarning: nperseg = 2048 is greater than input length  = 1237, using nperseg = 1237\n",
      "  warnings.warn('nperseg = {0:d} is greater than input length '\n",
      "C:\\Users\\37063\\anaconda3\\lib\\site-packages\\scipy\\signal\\_spectral_py.py:2014: UserWarning: nperseg = 2048 is greater than input length  = 400, using nperseg = 400\n",
      "  warnings.warn('nperseg = {0:d} is greater than input length '\n",
      "C:\\Users\\37063\\anaconda3\\lib\\site-packages\\scipy\\signal\\_spectral_py.py:2014: UserWarning: nperseg = 2048 is greater than input length  = 600, using nperseg = 600\n",
      "  warnings.warn('nperseg = {0:d} is greater than input length '\n",
      "C:\\Users\\37063\\anaconda3\\lib\\site-packages\\scipy\\signal\\_spectral_py.py:2014: UserWarning: nperseg = 1024 is greater than input length  = 800, using nperseg = 800\n",
      "  warnings.warn('nperseg = {0:d} is greater than input length '\n",
      "C:\\Users\\37063\\anaconda3\\lib\\site-packages\\scipy\\signal\\_spectral_py.py:2014: UserWarning: nperseg = 1024 is greater than input length  = 400, using nperseg = 400\n",
      "  warnings.warn('nperseg = {0:d} is greater than input length '\n",
      "C:\\Users\\37063\\anaconda3\\lib\\site-packages\\scipy\\signal\\_spectral_py.py:2014: UserWarning: nperseg = 1024 is greater than input length  = 600, using nperseg = 600\n",
      "  warnings.warn('nperseg = {0:d} is greater than input length '\n",
      "C:\\Users\\37063\\anaconda3\\lib\\site-packages\\scipy\\signal\\_spectral_py.py:2014: UserWarning: nperseg = 1024 is greater than input length  = 800, using nperseg = 800\n",
      "  warnings.warn('nperseg = {0:d} is greater than input length '\n",
      "C:\\Users\\37063\\anaconda3\\lib\\site-packages\\scipy\\signal\\_spectral_py.py:2014: UserWarning: nperseg = 1024 is greater than input length  = 400, using nperseg = 400\n",
      "  warnings.warn('nperseg = {0:d} is greater than input length '\n",
      "C:\\Users\\37063\\anaconda3\\lib\\site-packages\\scipy\\signal\\_spectral_py.py:2014: UserWarning: nperseg = 1024 is greater than input length  = 600, using nperseg = 600\n",
      "  warnings.warn('nperseg = {0:d} is greater than input length '\n",
      "C:\\Users\\37063\\anaconda3\\lib\\site-packages\\scipy\\signal\\_spectral_py.py:2014: UserWarning: nperseg = 2048 is greater than input length  = 1600, using nperseg = 1600\n",
      "  warnings.warn('nperseg = {0:d} is greater than input length '\n",
      "C:\\Users\\37063\\anaconda3\\lib\\site-packages\\scipy\\signal\\_spectral_py.py:2014: UserWarning: nperseg = 2048 is greater than input length  = 800, using nperseg = 800\n",
      "  warnings.warn('nperseg = {0:d} is greater than input length '\n",
      "C:\\Users\\37063\\anaconda3\\lib\\site-packages\\scipy\\signal\\_spectral_py.py:2014: UserWarning: nperseg = 2048 is greater than input length  = 1237, using nperseg = 1237\n",
      "  warnings.warn('nperseg = {0:d} is greater than input length '\n",
      "C:\\Users\\37063\\anaconda3\\lib\\site-packages\\scipy\\signal\\_spectral_py.py:2014: UserWarning: nperseg = 2048 is greater than input length  = 400, using nperseg = 400\n",
      "  warnings.warn('nperseg = {0:d} is greater than input length '\n",
      "C:\\Users\\37063\\anaconda3\\lib\\site-packages\\scipy\\signal\\_spectral_py.py:2014: UserWarning: nperseg = 2048 is greater than input length  = 600, using nperseg = 600\n",
      "  warnings.warn('nperseg = {0:d} is greater than input length '\n",
      "C:\\Users\\37063\\anaconda3\\lib\\site-packages\\scipy\\signal\\_spectral_py.py:2014: UserWarning: nperseg = 2048 is greater than input length  = 1600, using nperseg = 1600\n",
      "  warnings.warn('nperseg = {0:d} is greater than input length '\n",
      "C:\\Users\\37063\\anaconda3\\lib\\site-packages\\scipy\\signal\\_spectral_py.py:2014: UserWarning: nperseg = 2048 is greater than input length  = 800, using nperseg = 800\n",
      "  warnings.warn('nperseg = {0:d} is greater than input length '\n",
      "C:\\Users\\37063\\anaconda3\\lib\\site-packages\\scipy\\signal\\_spectral_py.py:2014: UserWarning: nperseg = 2048 is greater than input length  = 1237, using nperseg = 1237\n",
      "  warnings.warn('nperseg = {0:d} is greater than input length '\n",
      "C:\\Users\\37063\\anaconda3\\lib\\site-packages\\scipy\\signal\\_spectral_py.py:2014: UserWarning: nperseg = 2048 is greater than input length  = 400, using nperseg = 400\n",
      "  warnings.warn('nperseg = {0:d} is greater than input length '\n",
      "C:\\Users\\37063\\anaconda3\\lib\\site-packages\\scipy\\signal\\_spectral_py.py:2014: UserWarning: nperseg = 2048 is greater than input length  = 600, using nperseg = 600\n",
      "  warnings.warn('nperseg = {0:d} is greater than input length '\n",
      "C:\\Users\\37063\\anaconda3\\lib\\site-packages\\scipy\\signal\\_spectral_py.py:2014: UserWarning: nperseg = 256 is greater than input length  = 200, using nperseg = 200\n",
      "  warnings.warn('nperseg = {0:d} is greater than input length '\n",
      "C:\\Users\\37063\\anaconda3\\lib\\site-packages\\scipy\\signal\\_spectral_py.py:2014: UserWarning: nperseg = 256 is greater than input length  = 200, using nperseg = 200\n",
      "  warnings.warn('nperseg = {0:d} is greater than input length '\n",
      "C:\\Users\\37063\\anaconda3\\lib\\site-packages\\scipy\\signal\\_spectral_py.py:2014: UserWarning: nperseg = 1024 is greater than input length  = 1000, using nperseg = 1000\n",
      "  warnings.warn('nperseg = {0:d} is greater than input length '\n",
      "C:\\Users\\37063\\anaconda3\\lib\\site-packages\\scipy\\signal\\_spectral_py.py:2014: UserWarning: nperseg = 1024 is greater than input length  = 200, using nperseg = 200\n",
      "  warnings.warn('nperseg = {0:d} is greater than input length '\n",
      "C:\\Users\\37063\\anaconda3\\lib\\site-packages\\scipy\\signal\\_spectral_py.py:2014: UserWarning: nperseg = 1024 is greater than input length  = 800, using nperseg = 800\n",
      "  warnings.warn('nperseg = {0:d} is greater than input length '\n",
      "C:\\Users\\37063\\anaconda3\\lib\\site-packages\\scipy\\signal\\_spectral_py.py:2014: UserWarning: nperseg = 1024 is greater than input length  = 400, using nperseg = 400\n",
      "  warnings.warn('nperseg = {0:d} is greater than input length '\n",
      "C:\\Users\\37063\\anaconda3\\lib\\site-packages\\scipy\\signal\\_spectral_py.py:2014: UserWarning: nperseg = 1024 is greater than input length  = 600, using nperseg = 600\n",
      "  warnings.warn('nperseg = {0:d} is greater than input length '\n",
      "C:\\Users\\37063\\anaconda3\\lib\\site-packages\\scipy\\signal\\_spectral_py.py:2014: UserWarning: nperseg = 1024 is greater than input length  = 1000, using nperseg = 1000\n",
      "  warnings.warn('nperseg = {0:d} is greater than input length '\n",
      "C:\\Users\\37063\\anaconda3\\lib\\site-packages\\scipy\\signal\\_spectral_py.py:2014: UserWarning: nperseg = 1024 is greater than input length  = 200, using nperseg = 200\n",
      "  warnings.warn('nperseg = {0:d} is greater than input length '\n",
      "C:\\Users\\37063\\anaconda3\\lib\\site-packages\\scipy\\signal\\_spectral_py.py:2014: UserWarning: nperseg = 1024 is greater than input length  = 800, using nperseg = 800\n",
      "  warnings.warn('nperseg = {0:d} is greater than input length '\n",
      "C:\\Users\\37063\\anaconda3\\lib\\site-packages\\scipy\\signal\\_spectral_py.py:2014: UserWarning: nperseg = 1024 is greater than input length  = 400, using nperseg = 400\n",
      "  warnings.warn('nperseg = {0:d} is greater than input length '\n",
      "C:\\Users\\37063\\anaconda3\\lib\\site-packages\\scipy\\signal\\_spectral_py.py:2014: UserWarning: nperseg = 1024 is greater than input length  = 600, using nperseg = 600\n",
      "  warnings.warn('nperseg = {0:d} is greater than input length '\n",
      "C:\\Users\\37063\\anaconda3\\lib\\site-packages\\scipy\\signal\\_spectral_py.py:2014: UserWarning: nperseg = 2048 is greater than input length  = 2000, using nperseg = 2000\n",
      "  warnings.warn('nperseg = {0:d} is greater than input length '\n",
      "C:\\Users\\37063\\anaconda3\\lib\\site-packages\\scipy\\signal\\_spectral_py.py:2014: UserWarning: nperseg = 2048 is greater than input length  = 1400, using nperseg = 1400\n",
      "  warnings.warn('nperseg = {0:d} is greater than input length '\n",
      "C:\\Users\\37063\\anaconda3\\lib\\site-packages\\scipy\\signal\\_spectral_py.py:2014: UserWarning: nperseg = 2048 is greater than input length  = 1000, using nperseg = 1000\n",
      "  warnings.warn('nperseg = {0:d} is greater than input length '\n",
      "C:\\Users\\37063\\anaconda3\\lib\\site-packages\\scipy\\signal\\_spectral_py.py:2014: UserWarning: nperseg = 2048 is greater than input length  = 200, using nperseg = 200\n",
      "  warnings.warn('nperseg = {0:d} is greater than input length '\n",
      "C:\\Users\\37063\\anaconda3\\lib\\site-packages\\scipy\\signal\\_spectral_py.py:2014: UserWarning: nperseg = 2048 is greater than input length  = 800, using nperseg = 800\n",
      "  warnings.warn('nperseg = {0:d} is greater than input length '\n",
      "C:\\Users\\37063\\anaconda3\\lib\\site-packages\\scipy\\signal\\_spectral_py.py:2014: UserWarning: nperseg = 2048 is greater than input length  = 400, using nperseg = 400\n",
      "  warnings.warn('nperseg = {0:d} is greater than input length '\n",
      "C:\\Users\\37063\\anaconda3\\lib\\site-packages\\scipy\\signal\\_spectral_py.py:2014: UserWarning: nperseg = 2048 is greater than input length  = 1600, using nperseg = 1600\n",
      "  warnings.warn('nperseg = {0:d} is greater than input length '\n",
      "C:\\Users\\37063\\anaconda3\\lib\\site-packages\\scipy\\signal\\_spectral_py.py:2014: UserWarning: nperseg = 2048 is greater than input length  = 600, using nperseg = 600\n",
      "  warnings.warn('nperseg = {0:d} is greater than input length '\n",
      "C:\\Users\\37063\\anaconda3\\lib\\site-packages\\scipy\\signal\\_spectral_py.py:2014: UserWarning: nperseg = 2048 is greater than input length  = 2000, using nperseg = 2000\n",
      "  warnings.warn('nperseg = {0:d} is greater than input length '\n",
      "C:\\Users\\37063\\anaconda3\\lib\\site-packages\\scipy\\signal\\_spectral_py.py:2014: UserWarning: nperseg = 2048 is greater than input length  = 1400, using nperseg = 1400\n",
      "  warnings.warn('nperseg = {0:d} is greater than input length '\n",
      "C:\\Users\\37063\\anaconda3\\lib\\site-packages\\scipy\\signal\\_spectral_py.py:2014: UserWarning: nperseg = 2048 is greater than input length  = 1000, using nperseg = 1000\n",
      "  warnings.warn('nperseg = {0:d} is greater than input length '\n",
      "C:\\Users\\37063\\anaconda3\\lib\\site-packages\\scipy\\signal\\_spectral_py.py:2014: UserWarning: nperseg = 2048 is greater than input length  = 200, using nperseg = 200\n",
      "  warnings.warn('nperseg = {0:d} is greater than input length '\n",
      "C:\\Users\\37063\\anaconda3\\lib\\site-packages\\scipy\\signal\\_spectral_py.py:2014: UserWarning: nperseg = 2048 is greater than input length  = 800, using nperseg = 800\n",
      "  warnings.warn('nperseg = {0:d} is greater than input length '\n",
      "C:\\Users\\37063\\anaconda3\\lib\\site-packages\\scipy\\signal\\_spectral_py.py:2014: UserWarning: nperseg = 2048 is greater than input length  = 400, using nperseg = 400\n",
      "  warnings.warn('nperseg = {0:d} is greater than input length '\n",
      "C:\\Users\\37063\\anaconda3\\lib\\site-packages\\scipy\\signal\\_spectral_py.py:2014: UserWarning: nperseg = 2048 is greater than input length  = 1600, using nperseg = 1600\n",
      "  warnings.warn('nperseg = {0:d} is greater than input length '\n",
      "C:\\Users\\37063\\anaconda3\\lib\\site-packages\\scipy\\signal\\_spectral_py.py:2014: UserWarning: nperseg = 2048 is greater than input length  = 600, using nperseg = 600\n",
      "  warnings.warn('nperseg = {0:d} is greater than input length '\n",
      "C:\\Users\\37063\\anaconda3\\lib\\site-packages\\scipy\\signal\\_spectral_py.py:2014: UserWarning: nperseg = 256 is greater than input length  = 200, using nperseg = 200\n",
      "  warnings.warn('nperseg = {0:d} is greater than input length '\n",
      "C:\\Users\\37063\\anaconda3\\lib\\site-packages\\scipy\\signal\\_spectral_py.py:2014: UserWarning: nperseg = 256 is greater than input length  = 200, using nperseg = 200\n",
      "  warnings.warn('nperseg = {0:d} is greater than input length '\n",
      "C:\\Users\\37063\\anaconda3\\lib\\site-packages\\scipy\\signal\\_spectral_py.py:2014: UserWarning: nperseg = 1024 is greater than input length  = 1000, using nperseg = 1000\n",
      "  warnings.warn('nperseg = {0:d} is greater than input length '\n",
      "C:\\Users\\37063\\anaconda3\\lib\\site-packages\\scipy\\signal\\_spectral_py.py:2014: UserWarning: nperseg = 1024 is greater than input length  = 200, using nperseg = 200\n",
      "  warnings.warn('nperseg = {0:d} is greater than input length '\n",
      "C:\\Users\\37063\\anaconda3\\lib\\site-packages\\scipy\\signal\\_spectral_py.py:2014: UserWarning: nperseg = 1024 is greater than input length  = 800, using nperseg = 800\n",
      "  warnings.warn('nperseg = {0:d} is greater than input length '\n",
      "C:\\Users\\37063\\anaconda3\\lib\\site-packages\\scipy\\signal\\_spectral_py.py:2014: UserWarning: nperseg = 1024 is greater than input length  = 400, using nperseg = 400\n",
      "  warnings.warn('nperseg = {0:d} is greater than input length '\n",
      "C:\\Users\\37063\\anaconda3\\lib\\site-packages\\scipy\\signal\\_spectral_py.py:2014: UserWarning: nperseg = 1024 is greater than input length  = 600, using nperseg = 600\n",
      "  warnings.warn('nperseg = {0:d} is greater than input length '\n",
      "C:\\Users\\37063\\anaconda3\\lib\\site-packages\\scipy\\signal\\_spectral_py.py:2014: UserWarning: nperseg = 1024 is greater than input length  = 1000, using nperseg = 1000\n",
      "  warnings.warn('nperseg = {0:d} is greater than input length '\n",
      "C:\\Users\\37063\\anaconda3\\lib\\site-packages\\scipy\\signal\\_spectral_py.py:2014: UserWarning: nperseg = 1024 is greater than input length  = 200, using nperseg = 200\n",
      "  warnings.warn('nperseg = {0:d} is greater than input length '\n",
      "C:\\Users\\37063\\anaconda3\\lib\\site-packages\\scipy\\signal\\_spectral_py.py:2014: UserWarning: nperseg = 1024 is greater than input length  = 800, using nperseg = 800\n",
      "  warnings.warn('nperseg = {0:d} is greater than input length '\n",
      "C:\\Users\\37063\\anaconda3\\lib\\site-packages\\scipy\\signal\\_spectral_py.py:2014: UserWarning: nperseg = 1024 is greater than input length  = 400, using nperseg = 400\n",
      "  warnings.warn('nperseg = {0:d} is greater than input length '\n",
      "C:\\Users\\37063\\anaconda3\\lib\\site-packages\\scipy\\signal\\_spectral_py.py:2014: UserWarning: nperseg = 1024 is greater than input length  = 600, using nperseg = 600\n",
      "  warnings.warn('nperseg = {0:d} is greater than input length '\n",
      "C:\\Users\\37063\\anaconda3\\lib\\site-packages\\scipy\\signal\\_spectral_py.py:2014: UserWarning: nperseg = 2048 is greater than input length  = 2000, using nperseg = 2000\n",
      "  warnings.warn('nperseg = {0:d} is greater than input length '\n",
      "C:\\Users\\37063\\anaconda3\\lib\\site-packages\\scipy\\signal\\_spectral_py.py:2014: UserWarning: nperseg = 2048 is greater than input length  = 1400, using nperseg = 1400\n",
      "  warnings.warn('nperseg = {0:d} is greater than input length '\n",
      "C:\\Users\\37063\\anaconda3\\lib\\site-packages\\scipy\\signal\\_spectral_py.py:2014: UserWarning: nperseg = 2048 is greater than input length  = 1000, using nperseg = 1000\n",
      "  warnings.warn('nperseg = {0:d} is greater than input length '\n",
      "C:\\Users\\37063\\anaconda3\\lib\\site-packages\\scipy\\signal\\_spectral_py.py:2014: UserWarning: nperseg = 2048 is greater than input length  = 200, using nperseg = 200\n",
      "  warnings.warn('nperseg = {0:d} is greater than input length '\n",
      "C:\\Users\\37063\\anaconda3\\lib\\site-packages\\scipy\\signal\\_spectral_py.py:2014: UserWarning: nperseg = 2048 is greater than input length  = 800, using nperseg = 800\n",
      "  warnings.warn('nperseg = {0:d} is greater than input length '\n",
      "C:\\Users\\37063\\anaconda3\\lib\\site-packages\\scipy\\signal\\_spectral_py.py:2014: UserWarning: nperseg = 2048 is greater than input length  = 400, using nperseg = 400\n",
      "  warnings.warn('nperseg = {0:d} is greater than input length '\n",
      "C:\\Users\\37063\\anaconda3\\lib\\site-packages\\scipy\\signal\\_spectral_py.py:2014: UserWarning: nperseg = 2048 is greater than input length  = 1600, using nperseg = 1600\n",
      "  warnings.warn('nperseg = {0:d} is greater than input length '\n",
      "C:\\Users\\37063\\anaconda3\\lib\\site-packages\\scipy\\signal\\_spectral_py.py:2014: UserWarning: nperseg = 2048 is greater than input length  = 600, using nperseg = 600\n",
      "  warnings.warn('nperseg = {0:d} is greater than input length '\n",
      "C:\\Users\\37063\\anaconda3\\lib\\site-packages\\scipy\\signal\\_spectral_py.py:2014: UserWarning: nperseg = 2048 is greater than input length  = 2000, using nperseg = 2000\n",
      "  warnings.warn('nperseg = {0:d} is greater than input length '\n",
      "C:\\Users\\37063\\anaconda3\\lib\\site-packages\\scipy\\signal\\_spectral_py.py:2014: UserWarning: nperseg = 2048 is greater than input length  = 1400, using nperseg = 1400\n",
      "  warnings.warn('nperseg = {0:d} is greater than input length '\n",
      "C:\\Users\\37063\\anaconda3\\lib\\site-packages\\scipy\\signal\\_spectral_py.py:2014: UserWarning: nperseg = 2048 is greater than input length  = 1000, using nperseg = 1000\n",
      "  warnings.warn('nperseg = {0:d} is greater than input length '\n",
      "C:\\Users\\37063\\anaconda3\\lib\\site-packages\\scipy\\signal\\_spectral_py.py:2014: UserWarning: nperseg = 2048 is greater than input length  = 200, using nperseg = 200\n",
      "  warnings.warn('nperseg = {0:d} is greater than input length '\n",
      "C:\\Users\\37063\\anaconda3\\lib\\site-packages\\scipy\\signal\\_spectral_py.py:2014: UserWarning: nperseg = 2048 is greater than input length  = 800, using nperseg = 800\n",
      "  warnings.warn('nperseg = {0:d} is greater than input length '\n",
      "C:\\Users\\37063\\anaconda3\\lib\\site-packages\\scipy\\signal\\_spectral_py.py:2014: UserWarning: nperseg = 2048 is greater than input length  = 400, using nperseg = 400\n",
      "  warnings.warn('nperseg = {0:d} is greater than input length '\n",
      "C:\\Users\\37063\\anaconda3\\lib\\site-packages\\scipy\\signal\\_spectral_py.py:2014: UserWarning: nperseg = 2048 is greater than input length  = 1600, using nperseg = 1600\n",
      "  warnings.warn('nperseg = {0:d} is greater than input length '\n",
      "C:\\Users\\37063\\anaconda3\\lib\\site-packages\\scipy\\signal\\_spectral_py.py:2014: UserWarning: nperseg = 2048 is greater than input length  = 600, using nperseg = 600\n",
      "  warnings.warn('nperseg = {0:d} is greater than input length '\n",
      "C:\\Users\\37063\\anaconda3\\lib\\site-packages\\scipy\\signal\\_spectral_py.py:2014: UserWarning: nperseg = 256 is greater than input length  = 200, using nperseg = 200\n",
      "  warnings.warn('nperseg = {0:d} is greater than input length '\n",
      "C:\\Users\\37063\\anaconda3\\lib\\site-packages\\scipy\\signal\\_spectral_py.py:2014: UserWarning: nperseg = 256 is greater than input length  = 200, using nperseg = 200\n",
      "  warnings.warn('nperseg = {0:d} is greater than input length '\n",
      "C:\\Users\\37063\\anaconda3\\lib\\site-packages\\scipy\\signal\\_spectral_py.py:2014: UserWarning: nperseg = 1024 is greater than input length  = 1000, using nperseg = 1000\n",
      "  warnings.warn('nperseg = {0:d} is greater than input length '\n",
      "C:\\Users\\37063\\anaconda3\\lib\\site-packages\\scipy\\signal\\_spectral_py.py:2014: UserWarning: nperseg = 1024 is greater than input length  = 200, using nperseg = 200\n",
      "  warnings.warn('nperseg = {0:d} is greater than input length '\n",
      "C:\\Users\\37063\\anaconda3\\lib\\site-packages\\scipy\\signal\\_spectral_py.py:2014: UserWarning: nperseg = 1024 is greater than input length  = 800, using nperseg = 800\n",
      "  warnings.warn('nperseg = {0:d} is greater than input length '\n",
      "C:\\Users\\37063\\anaconda3\\lib\\site-packages\\scipy\\signal\\_spectral_py.py:2014: UserWarning: nperseg = 1024 is greater than input length  = 400, using nperseg = 400\n",
      "  warnings.warn('nperseg = {0:d} is greater than input length '\n",
      "C:\\Users\\37063\\anaconda3\\lib\\site-packages\\scipy\\signal\\_spectral_py.py:2014: UserWarning: nperseg = 1024 is greater than input length  = 600, using nperseg = 600\n",
      "  warnings.warn('nperseg = {0:d} is greater than input length '\n",
      "C:\\Users\\37063\\anaconda3\\lib\\site-packages\\scipy\\signal\\_spectral_py.py:2014: UserWarning: nperseg = 1024 is greater than input length  = 1000, using nperseg = 1000\n",
      "  warnings.warn('nperseg = {0:d} is greater than input length '\n",
      "C:\\Users\\37063\\anaconda3\\lib\\site-packages\\scipy\\signal\\_spectral_py.py:2014: UserWarning: nperseg = 1024 is greater than input length  = 200, using nperseg = 200\n",
      "  warnings.warn('nperseg = {0:d} is greater than input length '\n",
      "C:\\Users\\37063\\anaconda3\\lib\\site-packages\\scipy\\signal\\_spectral_py.py:2014: UserWarning: nperseg = 1024 is greater than input length  = 800, using nperseg = 800\n",
      "  warnings.warn('nperseg = {0:d} is greater than input length '\n",
      "C:\\Users\\37063\\anaconda3\\lib\\site-packages\\scipy\\signal\\_spectral_py.py:2014: UserWarning: nperseg = 1024 is greater than input length  = 400, using nperseg = 400\n",
      "  warnings.warn('nperseg = {0:d} is greater than input length '\n",
      "C:\\Users\\37063\\anaconda3\\lib\\site-packages\\scipy\\signal\\_spectral_py.py:2014: UserWarning: nperseg = 1024 is greater than input length  = 600, using nperseg = 600\n",
      "  warnings.warn('nperseg = {0:d} is greater than input length '\n",
      "C:\\Users\\37063\\anaconda3\\lib\\site-packages\\scipy\\signal\\_spectral_py.py:2014: UserWarning: nperseg = 2048 is greater than input length  = 2000, using nperseg = 2000\n",
      "  warnings.warn('nperseg = {0:d} is greater than input length '\n",
      "C:\\Users\\37063\\anaconda3\\lib\\site-packages\\scipy\\signal\\_spectral_py.py:2014: UserWarning: nperseg = 2048 is greater than input length  = 1400, using nperseg = 1400\n",
      "  warnings.warn('nperseg = {0:d} is greater than input length '\n",
      "C:\\Users\\37063\\anaconda3\\lib\\site-packages\\scipy\\signal\\_spectral_py.py:2014: UserWarning: nperseg = 2048 is greater than input length  = 1000, using nperseg = 1000\n",
      "  warnings.warn('nperseg = {0:d} is greater than input length '\n",
      "C:\\Users\\37063\\anaconda3\\lib\\site-packages\\scipy\\signal\\_spectral_py.py:2014: UserWarning: nperseg = 2048 is greater than input length  = 200, using nperseg = 200\n",
      "  warnings.warn('nperseg = {0:d} is greater than input length '\n",
      "C:\\Users\\37063\\anaconda3\\lib\\site-packages\\scipy\\signal\\_spectral_py.py:2014: UserWarning: nperseg = 2048 is greater than input length  = 800, using nperseg = 800\n",
      "  warnings.warn('nperseg = {0:d} is greater than input length '\n",
      "C:\\Users\\37063\\anaconda3\\lib\\site-packages\\scipy\\signal\\_spectral_py.py:2014: UserWarning: nperseg = 2048 is greater than input length  = 400, using nperseg = 400\n",
      "  warnings.warn('nperseg = {0:d} is greater than input length '\n",
      "C:\\Users\\37063\\anaconda3\\lib\\site-packages\\scipy\\signal\\_spectral_py.py:2014: UserWarning: nperseg = 2048 is greater than input length  = 1600, using nperseg = 1600\n",
      "  warnings.warn('nperseg = {0:d} is greater than input length '\n",
      "C:\\Users\\37063\\anaconda3\\lib\\site-packages\\scipy\\signal\\_spectral_py.py:2014: UserWarning: nperseg = 2048 is greater than input length  = 600, using nperseg = 600\n",
      "  warnings.warn('nperseg = {0:d} is greater than input length '\n",
      "C:\\Users\\37063\\anaconda3\\lib\\site-packages\\scipy\\signal\\_spectral_py.py:2014: UserWarning: nperseg = 2048 is greater than input length  = 2000, using nperseg = 2000\n",
      "  warnings.warn('nperseg = {0:d} is greater than input length '\n",
      "C:\\Users\\37063\\anaconda3\\lib\\site-packages\\scipy\\signal\\_spectral_py.py:2014: UserWarning: nperseg = 2048 is greater than input length  = 1400, using nperseg = 1400\n",
      "  warnings.warn('nperseg = {0:d} is greater than input length '\n",
      "C:\\Users\\37063\\anaconda3\\lib\\site-packages\\scipy\\signal\\_spectral_py.py:2014: UserWarning: nperseg = 2048 is greater than input length  = 1000, using nperseg = 1000\n",
      "  warnings.warn('nperseg = {0:d} is greater than input length '\n",
      "C:\\Users\\37063\\anaconda3\\lib\\site-packages\\scipy\\signal\\_spectral_py.py:2014: UserWarning: nperseg = 2048 is greater than input length  = 200, using nperseg = 200\n",
      "  warnings.warn('nperseg = {0:d} is greater than input length '\n",
      "C:\\Users\\37063\\anaconda3\\lib\\site-packages\\scipy\\signal\\_spectral_py.py:2014: UserWarning: nperseg = 2048 is greater than input length  = 800, using nperseg = 800\n",
      "  warnings.warn('nperseg = {0:d} is greater than input length '\n",
      "C:\\Users\\37063\\anaconda3\\lib\\site-packages\\scipy\\signal\\_spectral_py.py:2014: UserWarning: nperseg = 2048 is greater than input length  = 400, using nperseg = 400\n",
      "  warnings.warn('nperseg = {0:d} is greater than input length '\n",
      "C:\\Users\\37063\\anaconda3\\lib\\site-packages\\scipy\\signal\\_spectral_py.py:2014: UserWarning: nperseg = 2048 is greater than input length  = 1600, using nperseg = 1600\n",
      "  warnings.warn('nperseg = {0:d} is greater than input length '\n",
      "C:\\Users\\37063\\anaconda3\\lib\\site-packages\\scipy\\signal\\_spectral_py.py:2014: UserWarning: nperseg = 2048 is greater than input length  = 600, using nperseg = 600\n",
      "  warnings.warn('nperseg = {0:d} is greater than input length '\n"
     ]
    }
   ],
   "source": [
    "cutoff = [4, 8]\n",
    "orders = [5, 7]\n",
    "fftlines = [256, 1024, 2048]\n",
    "start_end = [[(1, 5), (1, 20), (3, 41)], [(1, 11), (1, 41), (3, 81)]]\n",
    "\n",
    "params = []\n",
    "fit = []\n",
    "\n",
    "for file in files:\n",
    "    \n",
    "    df = pd.read_csv(file)\n",
    "    \n",
    "    # Iterate through fftlines, cutoff, order of the filter and fitting range\n",
    "\n",
    "    for cut in cutoff:\n",
    "                \n",
    "        if cut == 4 or cut == 8: # for cutoff values equal to 4 or 8 let's set the fitting range 0.x - 4 Hz\n",
    "        \n",
    "            for fl, se in zip(fftlines, start_end[0]):\n",
    "            \n",
    "                freq = np.fft.rfftfreq(fl, 1/200)\n",
    "            \n",
    "                for order in orders:\n",
    "                    params.append(np.array([cut, order, fl, freq[se[0]],freq[se[1]-1], se[1]-se[0]]))\n",
    "                    FFT_df1 = df.apply(low_filtered, args=[cut, fl, order])\n",
    "                    k = curve_fit(line, np.log(freq[se[0]:se[1]]), \n",
    "                              np.log(np.mean(FFT_df1[se[0]:se[1]], axis=1)),\n",
    "                              sigma=np.std(FFT_df1[se[0]:se[1]], axis=1) / np.mean(FFT_df1[se[0]:se[1]], axis=1),\n",
    "                              absolute_sigma=True)\n",
    "        \n",
    "                    fit.append(k)\n",
    "            \n",
    "            \n",
    "            if cut == 8: # for cutoff value equal to 8, the fitting range we set 0.x - 8 Hz\n",
    "            \n",
    "                for fl, se in zip(fftlines, start_end[1]):\n",
    "\n",
    "                    freq = np.fft.rfftfreq(fl, 1/200)\n",
    "                \n",
    "                    for order in orders:\n",
    "                        params.append(np.array([cut, order, fl, freq[se[0]],freq[se[1]-1], se[1]-se[0]]))\n",
    "                        FFT_df1 = df.apply(low_filtered, args=[cut, fl, order])\n",
    "                        k = curve_fit(line, np.log(freq[se[0]:se[1]]), \n",
    "                                    np.log(np.mean(FFT_df1[se[0]:se[1]], axis=1)),\n",
    "                                    sigma=np.std(FFT_df1[se[0]:se[1]], axis=1) / np.mean(FFT_df1[se[0]:se[1]], axis=1),\n",
    "                                    absolute_sigma=True)\n",
    "        \n",
    "                        fit.append(k)\n",
    "            \n",
    "Post = fit[:18]\n",
    "Prec = fit[18:36]\n",
    "STG = fit[36:54]"
   ]
  },
  {
   "cell_type": "code",
   "execution_count": 29,
   "metadata": {},
   "outputs": [
    {
     "data": {
      "text/plain": [
       "array([  4.     ,   5.     , 256.     ,   0.78125,   3.125  ,   4.     ])"
      ]
     },
     "execution_count": 29,
     "metadata": {},
     "output_type": "execute_result"
    }
   ],
   "source": [
    "params[0]"
   ]
  },
  {
   "cell_type": "code",
   "execution_count": null,
   "metadata": {},
   "outputs": [],
   "source": [
    "data = []\n",
    "columns = ['Cut-off',\"order\", \"FFT lines\",\"Start\",\"End\",\"Num lines\", \"Beta\", \"Error\", \"Intercept\", \"Error1\"]\n",
    "\n",
    "# Loop through the values and append to the list\n",
    "for (c, o, f, s, e, n), j in zip(params, fit):\n",
    "        \n",
    "    row_data = [c,o,f,s,e,n, j[0][0], np.sqrt(np.diag(j[1]))[0], j[0][1], np.sqrt(np.diag(j[1]))[1]]\n",
    "    data.append(row_data)\n",
    "\n",
    "# Create a DataFrame from the list\n",
    "df = pd.DataFrame(data, columns=columns)\n",
    "\n",
    "# Save obtained results as csv file\n",
    "df.to_csv(\"Delta_band_analysis.csv\")\n",
    "\n",
    "# Print the resulting DataFrame\n",
    "df"
   ]
  },
  {
   "cell_type": "markdown",
   "metadata": {},
   "source": [
    "Statistical analysis of the parameters in three cortical area.\n",
    "Paired t_test performed by pair comparisons, and the p-values are adjusted by multiplying all p-values by the lenght of the array of p-values (the number of tests performed in one cortical are)"
   ]
  },
  {
   "cell_type": "code",
   "execution_count": 3,
   "metadata": {},
   "outputs": [],
   "source": [
    "from scipy.stats import ttest_ind_from_stats as ttest"
   ]
  },
  {
   "cell_type": "code",
   "execution_count": 65,
   "metadata": {},
   "outputs": [],
   "source": [
    "stg_val = df.loc[36:54, [\"Beta\", \"Error\"]].reset_index(drop=True)\n",
    "post_val = df.loc[:17, [\"Beta\", \"Error\"]].reset_index(drop=True)\n",
    "prec_val = df.loc[18:35, [\"Beta\", \"Error\"]].reset_index(drop=True)"
   ]
  },
  {
   "cell_type": "code",
   "execution_count": 66,
   "metadata": {},
   "outputs": [
    {
     "name": "stderr",
     "output_type": "stream",
     "text": [
      "C:\\Users\\37063\\anaconda3\\lib\\site-packages\\ipykernel\\ipkernel.py:287: DeprecationWarning: `should_run_async` will not call `transform_cell` automatically in the future. Please pass the result to `transformed_cell` argument and any exception that happen during thetransform in `preprocessing_exc_tuple` in IPython 7.17 and above.\n",
      "  and should_run_async(code)\n"
     ]
    }
   ],
   "source": [
    "def statistics(data):\n",
    "    p_values = []\n",
    "    t_tests = []\n",
    "\n",
    "    for i,j in zip(data[\"Beta\"], data[\"Error\"]):\n",
    "    \n",
    "        t_test, p_value = ttest(data[\"Beta\"].mean(), data[\"Beta\"].std(), 18,\n",
    "                                i, j, 18)\n",
    "    \n",
    "        t_tests.append(t_test)\n",
    "        p_values.append(p_value)\n",
    "        \n",
    "    return t_tests, p_values"
   ]
  },
  {
   "cell_type": "code",
   "execution_count": 43,
   "metadata": {},
   "outputs": [],
   "source": [
    "prec_m = [-0.24, -0.28, -0.26, -0.26, -0.34, -0.32, -0.49, -0.4, -0.36, -0.14, -0.03,\n",
    "          -0.85, -0.42]\n",
    "prec_std = [0.24, 0.13, 0.1, 0.36, 0.17, 0.15, 0.27, 0.16, 0.13, 0.49, 0.42, 0.27, 0.27]\n",
    "\n",
    "#prec_m = [-0.24, -0.28, -0.26, -0.26, -0.34, -0.32, -0.49, -0.4, -0.36]\n",
    "#prec_std = [0.24, 0.13, 0.1, 0.36, 0.17, 0.15, 0.27, 0.16, 0.13]"
   ]
  },
  {
   "cell_type": "code",
   "execution_count": 44,
   "metadata": {},
   "outputs": [
    {
     "name": "stdout",
     "output_type": "stream",
     "text": [
      "Ttest_indResult(statistic=2.675313695772239, pvalue=0.01323369351686219)\n",
      "Ttest_indResult(statistic=3.0879658344813103, pvalue=0.005030628129169826)\n",
      "Ttest_indResult(statistic=3.8, pvalue=0.0008720429519216258)\n",
      "Ttest_indResult(statistic=1.756550621379892, pvalue=0.09174841007398928)\n",
      "Ttest_indResult(statistic=1.749374540813571, pvalue=0.09300521183767914)\n",
      "Ttest_indResult(statistic=2.209575122556873, pvalue=0.03692294241097679)\n",
      "Ttest_indResult(statistic=-0.4669361306483164, pvalue=0.6447568626153846)\n",
      "Ttest_indResult(statistic=0.8219949365267861, pvalue=0.4191715092895093)\n",
      "Ttest_indResult(statistic=1.6348054417842237, pvalue=0.11513996639776386)\n",
      "Ttest_indResult(statistic=2.1811523886639046, pvalue=0.03920152568871425)\n",
      "Ttest_indResult(statistic=3.3954987505086622, pvalue=0.0023838182177491752)\n",
      "Ttest_indResult(statistic=-4.669361306483165, pvalue=9.626126738760947e-05)\n",
      "Ttest_indResult(statistic=0.35020209798623775, pvalue=0.7292418880977707)\n"
     ]
    }
   ],
   "source": [
    "for i, j in zip(prec_m, prec_std):\n",
    "    print(ttest(i, j, len(prec_m), -0.45, 0.15, len(prec_m)))"
   ]
  },
  {
   "cell_type": "code",
   "execution_count": 47,
   "metadata": {},
   "outputs": [],
   "source": [
    "post_m = [-0.43, -0.45, -0.43, -0.49, -0.51, -0.45, -0.74, -0.59, -0.53, -0.14, -0.13,\n",
    "          -0.92, -0.47]\n",
    "post_std = [0.18, 0.11, 0.09, 0.28, 0.17, 0.14, 0.21, 0.16, 0.13, 0.5, 0.43, 0.31, 0.3]\n",
    "\n",
    "post_m = [-0.43, -0.45, -0.43, -0.49, -0.51, -0.45, -0.74, -0.59, -0.53]\n",
    "post_std = [0.18, 0.11, 0.09, 0.28, 0.17, 0.14, 0.21, 0.16, 0.13]"
   ]
  },
  {
   "cell_type": "code",
   "execution_count": 48,
   "metadata": {},
   "outputs": [
    {
     "name": "stdout",
     "output_type": "stream",
     "text": [
      "Ttest_indResult(statistic=1.9733805434408151, pvalue=0.06598162873219694)\n",
      "Ttest_indResult(statistic=2.190458229576748, pvalue=0.043646046207891906)\n",
      "Ttest_indResult(statistic=2.703787956567493, pvalue=0.015650098702665437)\n",
      "Ttest_indResult(statistic=0.8624833627499184, pvalue=0.40116457511148773)\n",
      "Ttest_indResult(statistic=0.953560879291649, pvalue=0.3544911334936347)\n",
      "Ttest_indResult(statistic=1.9697974618768102, pvalue=0.06642479487534092)\n",
      "Ttest_indResult(statistic=-1.901829244200786, pvalue=0.07535460929230305)\n",
      "Ttest_indResult(statistic=-0.1411081302575397, pvalue=0.8895458464403481)\n",
      "Ttest_indResult(statistic=0.7851358838853195, pvalue=0.44384505010756303)\n"
     ]
    }
   ],
   "source": [
    "for i, j in zip(post_m, post_std):\n",
    "    print(ttest(i, j, len(post_m), -0.58, 0.14, len(post_m)))"
   ]
  },
  {
   "cell_type": "code",
   "execution_count": 49,
   "metadata": {},
   "outputs": [],
   "source": [
    "stg_m = [-0.65, -0.56, -0.56, -0.65, -0.54, -0.54, -0.78, -0.6, -0.6, 0.14, 0.26, -0.44, -0.31]\n",
    "stg_std = [0.18, 0.1, 0.09, 0.26, 0.14, 0.13, 0.22, 0.14, 0.13, 0.38, 0.37, 0.31, 0.31]\n",
    "\n",
    "stg_m = [-0.65, -0.56, -0.56, -0.65, -0.54, -0.54, -0.78, -0.6, -0.6]\n",
    "stg_std = [0.18, 0.1, 0.09, 0.26, 0.14, 0.13, 0.22, 0.14, 0.13]"
   ]
  },
  {
   "cell_type": "code",
   "execution_count": 50,
   "metadata": {},
   "outputs": [
    {
     "name": "stdout",
     "output_type": "stream",
     "text": [
      "Ttest_indResult(statistic=0.92091092027238, pvalue=0.3707744404899538)\n",
      "Ttest_indResult(statistic=2.789943329851661, pvalue=0.013110455139967354)\n",
      "Ttest_indResult(statistic=2.884040487005325, pvalue=0.010792472574136349)\n",
      "Ttest_indResult(statistic=0.7111497345525257, pvalue=0.48723035022785954)\n",
      "Ttest_indResult(statistic=2.727411870290968, pvalue=0.014910050702365014)\n",
      "Ttest_indResult(statistic=2.826489181987153, pvalue=0.012157931045157553)\n",
      "Ttest_indResult(statistic=-0.6902684899626339, pvalue=0.49991660379202607)\n",
      "Ttest_indResult(statistic=1.8182745801939793, pvalue=0.0877922105222801)\n",
      "Ttest_indResult(statistic=1.884326121324769, pvalue=0.07782174159659198)\n"
     ]
    }
   ],
   "source": [
    "for i, j in zip(stg_m, stg_std):\n",
    "    print(ttest(i, j, len(stg_m), -0.72, 0.14, len(stg_m)))"
   ]
  },
  {
   "cell_type": "code",
   "execution_count": 22,
   "metadata": {},
   "outputs": [
    {
     "name": "stdout",
     "output_type": "stream",
     "text": [
      "-0.6088888888888888 0.07233324799448797\n"
     ]
    }
   ],
   "source": [
    "print(np.mean(stg_m), np.std(stg_m))"
   ]
  },
  {
   "cell_type": "markdown",
   "metadata": {},
   "source": [
    "#### some permutations"
   ]
  },
  {
   "cell_type": "code",
   "execution_count": null,
   "metadata": {},
   "outputs": [],
   "source": [
    "colors = [\"grey\"]*3 + [\"brown\"]*3 + [\"black\"]*3\n",
    "x_axis = [0, 1, 2]*3\n",
    "f = [stg_val, post_val, prec_val]\n",
    "fft_labels = [256, 1024, 2048]\n",
    "\n",
    "fig, axes = plt.subplots(3, 1, figsize=(6, 10))\n",
    "\n",
    "for ax, data in zip(axes, f):\n",
    "    for index, color, pos in zip(range(0, len(data), 2), colors, x_axis):\n",
    "        ax.errorbar(pos, np.abs(data.iloc[index][\"Beta\"]),\n",
    "                    yerr=data.iloc[index][\"Error\"],\n",
    "                    color=color, capsize=3, fmt=\"x\", ms=10, ls=\"--\")\n",
    "\n",
    "    ax.set_xticks([0, 1, 2])\n",
    "    ax.set_xticklabels(fft_labels, size=14)\n",
    "    ax.set_yticks([0, 0.2, 0.4, 0.6, 0.8, 1])\n",
    "    ax.set_yticklabels([0.0, 0.2, 0.4, 0.6, 0.8, 1.0], size=14)\n",
    "    ax.set_ylabel(\"β\", size=14)\n",
    "    ax.set_ylim(0, 1)\n",
    "    ax.grid()\n",
    "plt.xlabel(\"Number of FFT lines\", size=14)\n",
    "\n",
    "plt.savefig(\"Low_freq_anal.jpg\", dpi=200, bbox_inches=\"tight\")"
   ]
  },
  {
   "cell_type": "code",
   "execution_count": 479,
   "metadata": {},
   "outputs": [
    {
     "name": "stdout",
     "output_type": "stream",
     "text": [
      "Cut-off:4.00 Fit range: 0.78-3.12 (Hz)\n",
      "Cut-off:4.00 Fit range: 0.20-3.71 (Hz)\n",
      "Cut-off:4.00 Fit range: 0.29-3.91 (Hz)\n",
      "Cut-off:8.00 Fit range: 0.78-3.12 (Hz)\n",
      "Cut-off:8.00 Fit range: 0.20-3.71 (Hz)\n",
      "Cut-off:8.00 Fit range: 0.29-3.91 (Hz)\n",
      "Cut-off:8.00 Fit range: 0.78-7.81 (Hz)\n",
      "Cut-off:8.00 Fit range: 0.20-7.81 (Hz)\n",
      "Cut-off:8.00 Fit range: 0.29-7.81 (Hz)\n"
     ]
    }
   ],
   "source": [
    "for index in zip(range(0, len(Post), 2)):\n",
    "    print(\"Cut-off:{:.2f} Fit range: {:.2f}-{:.2f} (Hz)\".format(p[index[0]][0],params[index[0]][3],params[index[0]][4]))"
   ]
  }
 ],
 "metadata": {
  "kernelspec": {
   "display_name": "Python 3",
   "language": "python",
   "name": "python3"
  },
  "language_info": {
   "codemirror_mode": {
    "name": "ipython",
    "version": 3
   },
   "file_extension": ".py",
   "mimetype": "text/x-python",
   "name": "python",
   "nbconvert_exporter": "python",
   "pygments_lexer": "ipython3",
   "version": "3.8.5"
  }
 },
 "nbformat": 4,
 "nbformat_minor": 4
}
