{
 "cells": [
  {
   "cell_type": "markdown",
   "metadata": {},
   "source": [
    "The dataset analysed in this study is publicly available here: https://mni-open-ieegatlas.research.mcgill.ca/ . We downloaded 4 .edf files: Superior temporal gyrus_W.edf, Superior temporal gyrus_D.edf, Superior temporal gyrus_N.edf, Superior temporal gyrus_R.edf, Postcentral gyrus (including medial segment)_W.edf, PPostcentral gyrus (including medial segment)_D.edf, Postcentral gyrus (including medial segment)_N.edf, Postcentral gyrus (including medial segment)_R.edf, Precentral gyrus_W.edf, Precentral gyrus_N.edf, Precentral gyrus_D.edf, Precentral gyrus_R.edf, Medial segment of precentral gyrus_W.edf, Medial segment of precentral gyrus_N.edf, Medial segment of precentral gyrus_D.edf, Medial segment of precentral gyrus_R.edf"
   ]
  }
 ]
}
 "metadata": {
  "kernelspec": {
   "display_name": "Python 3",
   "language": "python",
   "name": "python3"
  },
  "language_info": {
   "codemirror_mode": {
    "name": "ipython",
    "version": 3
   },
   "file_extension": ".py",
   "mimetype": "text/x-python",
   "name": "python",
   "nbconvert_exporter": "python",
   "pygments_lexer": "ipython3",
   "version": "3.8.5"
  }
 },
 "nbformat": 4,
 "nbformat_minor": 4
}
