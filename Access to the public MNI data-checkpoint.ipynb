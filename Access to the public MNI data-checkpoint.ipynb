{
 "cells": [
  {
   "cell_type": "markdown",
   "metadata": {},
   "source": [
    "The dataset analysed in this study is publicly available here: https://mni-open-ieegatlas.research.mcgill.ca/ . We downloaded 4 .edf files: Superior temporal gyrus_W.edf, Superior temporal gyrus_D.edf, Superior temporal gyrus_N.edf, Superior temporal gyrus_R.edf, Postcentral gyrus (including medial segment)_W.edf, PPostcentral gyrus (including medial segment)_D.edf, Postcentral gyrus (including medial segment)_N.edf, Postcentral gyrus (including medial segment)_R.edf, Precentral gyrus_W.edf, Precentral gyrus_N.edf, Precentral gyrus_D.edf, Precentral gyrus_R.edf, Medial segment of precentral gyrus_W.edf, Medial segment of precentral gyrus_N.edf, Medial segment of precentral gyrus_D.edf, Medial segment of precentral gyrus_R.edf"
   ]
  },
  {
   "cell_type": "code",
   "execution_count": 3,
   "metadata": {},
   "outputs": [
    {
     "name": "stdout",
     "output_type": "stream",
     "text": [

 },
 "nbformat": 4,
 "nbformat_minor": 4
}
