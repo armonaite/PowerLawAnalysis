{
 "cells": [
  {
   "cell_type": "markdown",
   "metadata": {},
   "source": [
    "The dataset analysed in this study is publicly available here: https://mni-open-ieegatlas.research.mcgill.ca/ . We downloaded 4 .edf files: Superior temporal gyrus_W.edf, Superior temporal gyrus_D.edf, Superior temporal gyrus_N.edf, Superior temporal gyrus_R.edf, Postcentral gyrus (including medial segment)_W.edf, PPostcentral gyrus (including medial segment)_D.edf, Postcentral gyrus (including medial segment)_N.edf, Postcentral gyrus (including medial segment)_R.edf, Precentral gyrus_W.edf, Precentral gyrus_N.edf, Precentral gyrus_D.edf, Precentral gyrus_R.edf, Medial segment of precentral gyrus_W.edf, Medial segment of precentral gyrus_N.edf, Medial segment of precentral gyrus_D.edf, Medial segment of precentral gyrus_R.edf"
   ]
  },
  {
   "cell_type": "code",
   "execution_count": 3,
   "metadata": {},
   "outputs": [
    {
     "name": "stdout",
     "output_type": "stream",
     "text": [
      "Requirement already satisfied: mne in c:\\users\\37063\\anaconda3\\lib\\site-packages (1.5.1)\n",
      "Requirement already satisfied: matplotlib>=3.4.0 in c:\\users\\37063\\anaconda3\\lib\\site-packages (from mne) (3.7.3)\n",
      "Requirement already satisfied: numpy>=1.15.4 in c:\\users\\37063\\anaconda3\\lib\\site-packages (from mne) (1.20.3)\n",
      "Requirement already satisfied: importlib-resources>=5.10.2; python_version < \"3.9\" in c:\\users\\37063\\anaconda3\\lib\\site-packages (from mne) (6.1.0)\n",
      "Requirement already satisfied: decorator in c:\\users\\37063\\anaconda3\\lib\\site-packages (from mne) (4.4.2)\n",
      "Requirement already satisfied: jinja2 in c:\\users\\37063\\anaconda3\\lib\\site-packages (from mne) (2.11.2)\n",
      "Requirement already satisfied: packaging in c:\\users\\37063\\anaconda3\\lib\\site-packages (from mne) (20.4)\n",
      "Requirement already satisfied: pooch>=1.5 in c:\\users\\37063\\anaconda3\\lib\\site-packages (from mne) (1.7.0)\n",
      "Requirement already satisfied: tqdm in c:\\users\\37063\\anaconda3\\lib\\site-packages (from mne) (4.50.2)\n",
      "Requirement already satisfied: scipy>=1.6.3 in c:\\users\\37063\\anaconda3\\lib\\site-packages (from mne) (1.10.1)\n",
      "Requirement already satisfied: pyparsing>=2.3.1 in c:\\users\\37063\\anaconda3\\lib\\site-packages (from matplotlib>=3.4.0->mne) (2.4.7)\n",
      "Requirement already satisfied: contourpy>=1.0.1 in c:\\users\\37063\\anaconda3\\lib\\site-packages (from matplotlib>=3.4.0->mne) (1.1.1)\n",
      "Requirement already satisfied: cycler>=0.10 in c:\\users\\37063\\anaconda3\\lib\\site-packages (from matplotlib>=3.4.0->mne) (0.10.0)\n",
      "Requirement already satisfied: fonttools>=4.22.0 in c:\\users\\37063\\anaconda3\\lib\\site-packages (from matplotlib>=3.4.0->mne) (4.42.1)\n",
      "Requirement already satisfied: python-dateutil>=2.7 in c:\\users\\37063\\anaconda3\\lib\\site-packages (from matplotlib>=3.4.0->mne) (2.8.2)\n",
      "Requirement already satisfied: kiwisolver>=1.0.1 in c:\\users\\37063\\anaconda3\\lib\\site-packages (from matplotlib>=3.4.0->mne) (1.3.0)\n",
      "Requirement already satisfied: pillow>=6.2.0 in c:\\users\\37063\\anaconda3\\lib\\site-packages (from matplotlib>=3.4.0->mne) (8.0.1)\n",
      "Requirement already satisfied: zipp>=3.1.0; python_version < \"3.10\" in c:\\users\\37063\\anaconda3\\lib\\site-packages (from importlib-resources>=5.10.2; python_version < \"3.9\"->mne) (3.4.0)\n",
      "Requirement already satisfied: MarkupSafe>=0.23 in c:\\users\\37063\\anaconda3\\lib\\site-packages (from jinja2->mne) (1.1.1)\n",
      "Requirement already satisfied: six in c:\\users\\37063\\anaconda3\\lib\\site-packages (from packaging->mne) (1.15.0)\n",
      "Requirement already satisfied: requests>=2.19.0 in c:\\users\\37063\\anaconda3\\lib\\site-packages (from pooch>=1.5->mne) (2.28.2)\n",
      "Requirement already satisfied: platformdirs>=2.5.0 in c:\\users\\37063\\anaconda3\\lib\\site-packages (from pooch>=1.5->mne) (3.10.0)\n",
      "Requirement already satisfied: certifi>=2017.4.17 in c:\\users\\37063\\anaconda3\\lib\\site-packages (from requests>=2.19.0->pooch>=1.5->mne) (2020.6.20)\n",
      "Requirement already satisfied: idna<4,>=2.5 in c:\\users\\37063\\anaconda3\\lib\\site-packages (from requests>=2.19.0->pooch>=1.5->mne) (2.10)\n",
      "Requirement already satisfied: urllib3<1.27,>=1.21.1 in c:\\users\\37063\\anaconda3\\lib\\site-packages (from requests>=2.19.0->pooch>=1.5->mne) (1.25.11)\n",
      "Requirement already satisfied: charset-normalizer<4,>=2 in c:\\users\\37063\\anaconda3\\lib\\site-packages (from requests>=2.19.0->pooch>=1.5->mne) (3.1.0)\n"
     ]
    }
   ],
   "source": [
    "!pip install mne"
   ]
  }
 ],
 "metadata": {
  "kernelspec": {
   "display_name": "Python 3",
   "language": "python",
   "name": "python3"
  },
  "language_info": {
   "codemirror_mode": {
    "name": "ipython",
    "version": 3
   },
   "file_extension": ".py",
   "mimetype": "text/x-python",
   "name": "python",
   "nbconvert_exporter": "python",
   "pygments_lexer": "ipython3",
   "version": "3.8.5"
  }
 },
 "nbformat": 4,
 "nbformat_minor": 4
}
