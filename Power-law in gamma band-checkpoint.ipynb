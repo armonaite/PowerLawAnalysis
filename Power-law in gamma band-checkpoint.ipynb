{
 "cells": [
  {
   "cell_type": "markdown",
   "metadata": {},
   "source": [
    "## Power-law in gamma frequency band\n",
    "Perform calculations of the Power Spectral Density (PSD) on log-log scale, where we evaluate the slope after have applied high-pass filter. We evaluate the slope of the PSD in gamma band in three cortical parcels: Superior temporal Gyrus, Postcentral Gyrus and Precentral gyrus, in four states, wakefulness as well as REM, N2 and N3 sleep stages. \n",
    "\n",
    "The files are named according to the corresponding cortical parcel. Where the letters at the end indicate the state. \n",
    "W - wakefullness, \n",
    "R - REM, \n",
    "N - N2, \n",
    "D - N3."
   ]
  },
  {
   "cell_type": "code",
   "execution_count": 4,
   "metadata": {},
   "outputs": [],
   "source": [
    "import pandas as pd\n",
    "import numpy as np\n",
    "from scipy import signal\n",
    "import matplotlib.pyplot as plt\n",
    "import os"
   ]
  },
  {
   "cell_type": "code",
   "execution_count": 3,
   "metadata": {},
   "outputs": [
    {
     "name": "stdout",
     "output_type": "stream",
     "text": [
      "Requirement already up-to-date: pandas in c:\\users\\37063\\anaconda3\\lib\\site-packages (2.0.3)\n",
      "Requirement already satisfied, skipping upgrade: tzdata>=2022.1 in c:\\users\\37063\\anaconda3\\lib\\site-packages (from pandas) (2023.3)\n",
      "Requirement already satisfied, skipping upgrade: pytz>=2020.1 in c:\\users\\37063\\anaconda3\\lib\\site-packages (from pandas) (2020.1)\n",
      "Requirement already satisfied, skipping upgrade: numpy>=1.20.3; python_version < \"3.10\" in c:\\users\\37063\\anaconda3\\lib\\site-packages (from pandas) (1.20.3)\n",
      "Requirement already satisfied, skipping upgrade: python-dateutil>=2.8.2 in c:\\users\\37063\\anaconda3\\lib\\site-packages (from pandas) (2.8.2)\n",
      "Requirement already satisfied, skipping upgrade: six>=1.5 in c:\\users\\37063\\anaconda3\\lib\\site-packages (from python-dateutil>=2.8.2->pandas) (1.15.0)\n"
     ]
    }
   ],
   "source": [
    "!pip install --upgrade pandas"
   ]
  },
  {
   "cell_type": "code",
   "execution_count": 5,
   "metadata": {},
   "outputs": [],
   "source": [
    "files = []\n",
    "\n",
    "# Loop through files in the directory\n",
    "for filename in os.listdir():\n",
    "    if filename.endswith('.csv'):\n",
    "        \n",
    "        files.append(filename)"
   ]
  },
  {
   "cell_type": "code",
   "execution_count": 6,
   "metadata": {},
   "outputs": [
    {
     "data": {
      "text/plain": [
       "['Postcentral gyrus_D.csv',\n",
       " 'Postcentral gyrus_N.csv',\n",
       " 'Postcentral gyrus_R.csv',\n",
       " 'Postcentral gyrus_W.csv',\n",
       " 'Precentral gyrus_D.csv',\n",
       " 'Precentral gyrus_N.csv',\n",
       " 'Precentral gyrus_R.csv',\n",
       " 'Precentral gyrus_W.csv',\n",
       " 'Superior temporal gyrus_D.csv',\n",
       " 'Superior temporal gyrus_N.csv',\n",
       " 'Superior temporal gyrus_R.csv',\n",
       " 'Superior temporal_gyrus_W.csv']"
      ]
     },
     "execution_count": 6,
     "metadata": {},
     "output_type": "execute_result"
    }
   ],
   "source": [
    "files"
   ]
  },
  {
   "cell_type": "markdown",
   "metadata": {},
   "source": [
    "Perform high-pass filtering and calculate PSD on the signals"
   ]
  },
  {
   "cell_type": "code",
   "execution_count": 45,
   "metadata": {},
   "outputs": [],
   "source": [
    "def norm(data):\n",
    "  val = data/(data.sum())\n",
    "  return val\n",
    "\n",
    "def butter_highpass(cutoff, order):\n",
    "    nyq = 0.5 * 200\n",
    "    normal_cutoff = cutoff / nyq\n",
    "    b, a = signal.butter(order, normal_cutoff, btype='high', analog=False)\n",
    "    return b, a\n",
    "\n",
    "def butter_highpass_filter(data, cutoff, order):\n",
    "    \n",
    "    b, a = butter_highpass(cutoff, order=order)\n",
    "    y = signal.filtfilt(b, a, data)\n",
    "    return y\n",
    "\n",
    "def high_filtered(ar, cutoff, nperseg, order):\n",
    "\n",
    "  def split_by_zero(arr):\n",
    "    equals=np.isclose(arr, np.abs(arr).min())\n",
    "    l=[]\n",
    "    to_split=False\n",
    "    for i in range(len(arr)):\n",
    "        if equals[i] and i < len(arr)-1 and equals[i+1]:\n",
    "            to_split=True\n",
    "        elif not equals[i] and to_split:\n",
    "            yield l\n",
    "            l=[]\n",
    "            to_split=False\n",
    "\n",
    "        if not to_split:\n",
    "            l.append(arr[i])\n",
    "    yield l\n",
    "\n",
    "  vector=[]\n",
    "  s=[]\n",
    "  for l in split_by_zero(ar):\n",
    "    l=np.array(l)\n",
    "    vector.append(l)\n",
    "  f=[]\n",
    "  for i in vector:\n",
    "    x_filt = butter_highpass_filter(i, cutoff, order)\n",
    "    fft=signal.welch(x_filt, fs=200, window=\"hann\", nperseg=nperseg, nfft=nperseg, noverlap=0)\n",
    "\n",
    "    f.append(norm(fft[1]))\n",
    "    ftm=np.mean(f,axis=0)\n",
    "    fstd=np.std(f,axis=0)\n",
    "\n",
    "  return ftm"
   ]
  },
  {
   "cell_type": "code",
   "execution_count": 46,
   "metadata": {},
   "outputs": [
    {
     "name": "stderr",
     "output_type": "stream",
     "text": [
      "C:\\Users\\37063\\anaconda3\\lib\\site-packages\\scipy\\signal\\_spectral_py.py:2014: UserWarning: nperseg = 2048 is greater than input length  = 2000, using nperseg = 2000\n",
      "  warnings.warn('nperseg = {0:d} is greater than input length '\n",
      "C:\\Users\\37063\\anaconda3\\lib\\site-packages\\scipy\\signal\\_spectral_py.py:2014: UserWarning: nperseg = 2048 is greater than input length  = 800, using nperseg = 800\n",
      "  warnings.warn('nperseg = {0:d} is greater than input length '\n",
      "C:\\Users\\37063\\anaconda3\\lib\\site-packages\\scipy\\signal\\_spectral_py.py:2014: UserWarning: nperseg = 2048 is greater than input length  = 400, using nperseg = 400\n",
      "  warnings.warn('nperseg = {0:d} is greater than input length '\n",
      "C:\\Users\\37063\\anaconda3\\lib\\site-packages\\scipy\\signal\\_spectral_py.py:2014: UserWarning: nperseg = 2048 is greater than input length  = 1600, using nperseg = 1600\n",
      "  warnings.warn('nperseg = {0:d} is greater than input length '\n",
      "C:\\Users\\37063\\anaconda3\\lib\\site-packages\\scipy\\signal\\_spectral_py.py:2014: UserWarning: nperseg = 2048 is greater than input length  = 924, using nperseg = 924\n",
      "  warnings.warn('nperseg = {0:d} is greater than input length '\n",
      "C:\\Users\\37063\\anaconda3\\lib\\site-packages\\scipy\\signal\\_spectral_py.py:2014: UserWarning: nperseg = 2048 is greater than input length  = 1600, using nperseg = 1600\n",
      "  warnings.warn('nperseg = {0:d} is greater than input length '\n",
      "C:\\Users\\37063\\anaconda3\\lib\\site-packages\\scipy\\signal\\_spectral_py.py:2014: UserWarning: nperseg = 2048 is greater than input length  = 800, using nperseg = 800\n",
      "  warnings.warn('nperseg = {0:d} is greater than input length '\n",
      "C:\\Users\\37063\\anaconda3\\lib\\site-packages\\scipy\\signal\\_spectral_py.py:2014: UserWarning: nperseg = 2048 is greater than input length  = 1237, using nperseg = 1237\n",
      "  warnings.warn('nperseg = {0:d} is greater than input length '\n",
      "C:\\Users\\37063\\anaconda3\\lib\\site-packages\\scipy\\signal\\_spectral_py.py:2014: UserWarning: nperseg = 2048 is greater than input length  = 400, using nperseg = 400\n",
      "  warnings.warn('nperseg = {0:d} is greater than input length '\n",
      "C:\\Users\\37063\\anaconda3\\lib\\site-packages\\scipy\\signal\\_spectral_py.py:2014: UserWarning: nperseg = 2048 is greater than input length  = 600, using nperseg = 600\n",
      "  warnings.warn('nperseg = {0:d} is greater than input length '\n",
      "C:\\Users\\37063\\anaconda3\\lib\\site-packages\\scipy\\signal\\_spectral_py.py:2014: UserWarning: nperseg = 2048 is greater than input length  = 720, using nperseg = 720\n",
      "  warnings.warn('nperseg = {0:d} is greater than input length '\n",
      "C:\\Users\\37063\\anaconda3\\lib\\site-packages\\scipy\\signal\\_spectral_py.py:2014: UserWarning: nperseg = 2048 is greater than input length  = 2000, using nperseg = 2000\n",
      "  warnings.warn('nperseg = {0:d} is greater than input length '\n",
      "C:\\Users\\37063\\anaconda3\\lib\\site-packages\\scipy\\signal\\_spectral_py.py:2014: UserWarning: nperseg = 2048 is greater than input length  = 1400, using nperseg = 1400\n",
      "  warnings.warn('nperseg = {0:d} is greater than input length '\n",
      "C:\\Users\\37063\\anaconda3\\lib\\site-packages\\scipy\\signal\\_spectral_py.py:2014: UserWarning: nperseg = 2048 is greater than input length  = 1000, using nperseg = 1000\n",
      "  warnings.warn('nperseg = {0:d} is greater than input length '\n",
      "C:\\Users\\37063\\anaconda3\\lib\\site-packages\\scipy\\signal\\_spectral_py.py:2014: UserWarning: nperseg = 2048 is greater than input length  = 200, using nperseg = 200\n",
      "  warnings.warn('nperseg = {0:d} is greater than input length '\n",
      "C:\\Users\\37063\\anaconda3\\lib\\site-packages\\scipy\\signal\\_spectral_py.py:2014: UserWarning: nperseg = 2048 is greater than input length  = 800, using nperseg = 800\n",
      "  warnings.warn('nperseg = {0:d} is greater than input length '\n",
      "C:\\Users\\37063\\anaconda3\\lib\\site-packages\\scipy\\signal\\_spectral_py.py:2014: UserWarning: nperseg = 2048 is greater than input length  = 400, using nperseg = 400\n",
      "  warnings.warn('nperseg = {0:d} is greater than input length '\n",
      "C:\\Users\\37063\\anaconda3\\lib\\site-packages\\scipy\\signal\\_spectral_py.py:2014: UserWarning: nperseg = 2048 is greater than input length  = 1600, using nperseg = 1600\n",
      "  warnings.warn('nperseg = {0:d} is greater than input length '\n",
      "C:\\Users\\37063\\anaconda3\\lib\\site-packages\\scipy\\signal\\_spectral_py.py:2014: UserWarning: nperseg = 2048 is greater than input length  = 600, using nperseg = 600\n",
      "  warnings.warn('nperseg = {0:d} is greater than input length '\n"
     ]
    }
   ],
   "source": [
    "FFT_files = []\n",
    "\n",
    "# Apply PSD function high_filteres to every csv file to obtain \n",
    "for file in files:\n",
    "    \n",
    "    df = pd.read_csv(file)\n",
    "    \n",
    "    FFT_df = df.apply(high_filtered, args = [33, 2048, 7])\n",
    "    \n",
    "    FFT_files.append(FFT_df)"
   ]
  },
  {
   "cell_type": "markdown",
   "metadata": {},
   "source": [
    "Average all the channels in the three parcels, in 4 stages, and find the fit in 34-80 Hz band"
   ]
  },
  {
   "cell_type": "code",
   "execution_count": 48,
   "metadata": {},
   "outputs": [],
   "source": [
    "from scipy.optimize import curve_fit"
   ]
  },
  {
   "cell_type": "code",
   "execution_count": 49,
   "metadata": {},
   "outputs": [],
   "source": [
    "# Define a line for fitting the log-log PSD in 34-80 Hz frequency range\n",
    "def line(a,x,b):\n",
    "  return a*x+b"
   ]
  },
  {
   "cell_type": "code",
   "execution_count": 52,
   "metadata": {},
   "outputs": [
    {
     "name": "stdout",
     "output_type": "stream",
     "text": [
      "Frequency resolution: 0.098\n",
      "Start frequency: 34.180\n",
      "End frequency: 80.176\n",
      "350 821\n"
     ]
    }
   ],
   "source": [
    "# Define frequencies with a resolution of 0.098 Hz step\n",
    "freq = np.fft.rfftfreq(2048, 1/200)\n",
    "\n",
    "freq_res = freq[3]-freq[2]\n",
    "start = int(34 /freq_res)+2\n",
    "end = int(80 / freq_res)+2\n",
    "print(\"Frequency resolution: {:.3f}\\nStart frequency: {:.3f}\\nEnd frequency: {:.3f}\"\n",
    "      .format(freq_res, freq[start], freq[end]))\n",
    "print(start, end)"
   ]
  },
  {
   "cell_type": "code",
   "execution_count": 53,
   "metadata": {},
   "outputs": [],
   "source": [
    "# Calculate the fit including error for three gyrus in four stages\n",
    "fit_values = []\n",
    "\n",
    "\n",
    "for file in FFT_files:\n",
    "    k = curve_fit(line, np.log(freq[start:end]), \n",
    "                       np.log(np.mean(file[start:end],axis=1)),\n",
    "                       sigma = np.std(file[start:end],axis=1)/\n",
    "                       np.mean(file[start:end],axis=1), \n",
    "                       absolute_sigma = True)\n",
    "    fit_values.append(k)\n"
   ]
  },
  {
   "cell_type": "code",
   "execution_count": 56,
   "metadata": {},
   "outputs": [
    {
     "data": {
      "image/png": "[encoded data removed]",
      "text/plain": [
       "<Figure size 1080x288 with 1 Axes>"
      ]
     },
     "metadata": {
      "needs_background": "light"
     },
     "output_type": "display_data"
    }
   ],
   "source": [
    "color_mapping = {\"Superior\": \"green\", \"Postcentral\": \"blue\", \"Precentral\": \"red\"}\n",
    "positions_mapping = {\"W\": 1, \"R\": 3, \"N\": 5, \"D\": 7}\n",
    "\n",
    "fig, ax = plt.subplots(figsize=(15, 4))\n",
    "\n",
    "\n",
    "for i, name in enumerate(files):\n",
    "    parcel = name.split()[0]\n",
    "    stage = name.split(\"_\")[-1][0]\n",
    "    color = color_mapping[parcel]\n",
    "    position = positions_mapping[stage]\n",
    "    \n",
    "    plt.errorbar(position, np.abs(fit_values[i][0][0]), \n",
    "                 yerr = np.sqrt(np.diag(fit_values[i][1]))[0], \n",
    "                 fmt = \"X\", capsize = 3, ms = 10, color = color)\n",
    "\n",
    "plt.ylim(2.5, 3.7)\n",
    "plt.xticks([1, 3, 5, 7], labels=[\"Wake\", \"REM\", \"N2\", \"N3\"], size=22)\n",
    "plt.yticks(size=22)\n",
    "plt.ylabel(\"β\", size=22)\n",
    "plt.grid()\n",
    "\n",
    "plt.show()"
   ]
  },
  {
   "cell_type": "markdown",
   "metadata": {},
   "source": [
    "Pairwise T test for the three parcels in one stage"
   ]
  },
  {
   "cell_type": "code",
   "execution_count": 57,
   "metadata": {},
   "outputs": [],
   "source": [
    "from scipy.stats import ttest_ind_from_stats as ttest"
   ]
  },
  {
   "cell_type": "code",
   "execution_count": 69,
   "metadata": {},
   "outputs": [
    {
     "data": {
      "text/plain": [
       "(array([-2.71392522,  4.37641619]),\n",
       " array([[ 0.00882939, -0.03538957],\n",
       "        [-0.03538957,  0.14235182]]))"
      ]
     },
     "execution_count": 69,
     "metadata": {},
     "output_type": "execute_result"
    }
   ],
   "source": [
    "fit_values[10]"
   ]
  },
  {
   "cell_type": "code",
   "execution_count": 71,
   "metadata": {},
   "outputs": [],
   "source": [
    "from itertools import combinations\n",
    "\n",
    "file_groups = {}\n",
    "for file in files:\n",
    "    last_letter = file.split('_')[-1][0]\n",
    "    if last_letter not in file_groups:\n",
    "        file_groups[last_letter] = []\n",
    "    file_groups[last_letter].append(file)\n",
    "\n",
    "# Generate combinations for each group\n",
    "combinations_by_group = {}\n",
    "for group, group_files in file_groups.items():\n",
    "    combinations_by_group[group] = list(combinations(group_files, 2))\n",
    "\n",
    "# Perform t-tests for each combination\n",
    "results = {}\n",
    "for group, group_combinations in combinations_by_group.items():\n",
    "    results[group] = []\n",
    "    for combination in group_combinations:\n",
    "        idx1 = files.index(combination[0])\n",
    "        idx2 = files.index(combination[1])\n",
    "        result = ttest(fit_values[idx1][0][0], \n",
    "                       np.sqrt(np.diag(fit_values[idx1][1]))[0], \n",
    "                       len(FFT_files[idx1].columns),\n",
    "                       fit_values[idx2][0][0], \n",
    "                       np.sqrt(np.diag(fit_values[idx2][1]))[0], \n",
    "                       len(FFT_files[idx2].columns))\n",
    "        results[group].append(result)\n",
    "\n",
    "# Access results for each group\n",
    "wake_results = results['W']\n",
    "rem_results = results['R']\n",
    "n2_results = results['N']\n",
    "n3_results = results['D']"
   ]
  },
  {
   "cell_type": "code",
   "execution_count": 72,
   "metadata": {},
   "outputs": [
    {
     "data": {
      "text/plain": [
       "{'D': [Ttest_indResult(statistic=12.139432813497134, pvalue=1.9701842124134974e-23),\n",
       "  Ttest_indResult(statistic=-10.816068401518764, pvalue=5.213415417989138e-19),\n",
       "  Ttest_indResult(statistic=-27.221567807153818, pvalue=2.502314864899288e-62)],\n",
       " 'N': [Ttest_indResult(statistic=15.40692167084039, pvalue=1.2760047362719117e-31),\n",
       "  Ttest_indResult(statistic=-16.553547403007876, pvalue=1.2278346640874585e-31),\n",
       "  Ttest_indResult(statistic=-37.94955469690516, pvalue=1.6170031263868085e-82)],\n",
       " 'R': [Ttest_indResult(statistic=6.334356119458103, pvalue=6.8664145540597155e-09),\n",
       "  Ttest_indResult(statistic=-11.345693982083956, pvalue=6.09646525777781e-18),\n",
       "  Ttest_indResult(statistic=-20.70862665175934, pvalue=1.3226586003878356e-40)],\n",
       " 'W': [Ttest_indResult(statistic=24.702216006009134, pvalue=4.316791510887017e-63),\n",
       "  Ttest_indResult(statistic=-24.167754155595038, pvalue=5.438916351596879e-52),\n",
       "  Ttest_indResult(statistic=-53.67686469444182, pvalue=1.2398381501533066e-127)]}"
      ]
     },
     "execution_count": 72,
     "metadata": {},
     "output_type": "execute_result"
    }
   ],
   "source": [
    "results"
   ]
  },
  {
   "cell_type": "markdown",
   "metadata": {},
   "source": [
    "Pairwise T test of the same regions across different states"
   ]
  },
  {
   "cell_type": "code",
   "execution_count": 73,
   "metadata": {},
   "outputs": [],
   "source": [
    "from itertools import combinations\n",
    "\n",
    "file_groups = {}\n",
    "for file in files:\n",
    "    last_letter = file.split()[0]\n",
    "    if last_letter not in file_groups:\n",
    "        file_groups[last_letter] = []\n",
    "    file_groups[last_letter].append(file)\n",
    "\n",
    "# Generate combinations for each group\n",
    "combinations_by_group = {}\n",
    "for group, group_files in file_groups.items():\n",
    "    combinations_by_group[group] = list(combinations(group_files, 2))\n",
    "\n",
    "# Perform t-tests for each combination\n",
    "results = {}\n",
    "for group, group_combinations in combinations_by_group.items():\n",
    "    results[group] = []\n",
    "    for combination in group_combinations:\n",
    "        idx1 = files.index(combination[0])\n",
    "        idx2 = files.index(combination[1])\n",
    "        result = ttest(fit_values[idx1][0][0], \n",
    "                       np.sqrt(np.diag(fit_values[idx1][1]))[0], \n",
    "                       len(FFT_files[idx1].columns),\n",
    "                       fit_values[idx2][0][0], \n",
    "                       np.sqrt(np.diag(fit_values[idx2][1]))[0], \n",
    "                       len(FFT_files[idx2].columns))\n",
    "        results[group].append(result)\n",
    "\n",
    "# Access results for each group\n",
    "postcentral_results = results['Postcentral']\n",
    "precentral_results = results['Precentral']\n",
    "superior_results = results['Superior']"
   ]
  },
  {
   "cell_type": "code",
   "execution_count": 74,
   "metadata": {},
   "outputs": [
    {
     "name": "stdout",
     "output_type": "stream",
     "text": [
      "STG:  [Ttest_indResult(statistic=8.516999173213598, pvalue=5.564372499260042e-13), Ttest_indResult(statistic=5.665358108891213, pvalue=2.826471474830384e-07), Ttest_indResult(statistic=13.037855134345497, pvalue=1.0988737490760106e-23), Ttest_indResult(statistic=-2.0757060529894353, pvalue=0.04149347181558646), Ttest_indResult(statistic=4.255493682210542, pvalue=4.5464868064256344e-05), Ttest_indResult(statistic=5.887534725946219, pvalue=6.173573701443773e-08)]\n",
      "###################################################################################################\n",
      "PostG:  [Ttest_indResult(statistic=8.516999173213598, pvalue=5.564372499260042e-13), Ttest_indResult(statistic=5.665358108891213, pvalue=2.826471474830384e-07), Ttest_indResult(statistic=13.037855134345497, pvalue=1.0988737490760106e-23), Ttest_indResult(statistic=-2.0757060529894353, pvalue=0.04149347181558646), Ttest_indResult(statistic=4.255493682210542, pvalue=4.5464868064256344e-05), Ttest_indResult(statistic=5.887534725946219, pvalue=6.173573701443773e-08)]\n",
      "###################################################################################################\n",
      "PreG:  [Ttest_indResult(statistic=8.516999173213598, pvalue=5.564372499260042e-13), Ttest_indResult(statistic=5.665358108891213, pvalue=2.826471474830384e-07), Ttest_indResult(statistic=13.037855134345497, pvalue=1.0988737490760106e-23), Ttest_indResult(statistic=-2.0757060529894353, pvalue=0.04149347181558646), Ttest_indResult(statistic=4.255493682210542, pvalue=4.5464868064256344e-05), Ttest_indResult(statistic=5.887534725946219, pvalue=6.173573701443773e-08)]\n"
     ]
    }
   ],
   "source": [
    "print(\"STG: \",results[\"Postcentral\"])\n",
    "print(99* \"#\")\n",
    "print(\"PostG: \",results[\"Postcentral\"])\n",
    "print(99* \"#\")\n",
    "print(\"PreG: \",results[\"Postcentral\"])"
   ]
  }
 ],
 "metadata": {
  "kernelspec": {
   "display_name": "Python 3",
   "language": "python",
   "name": "python3"
  },
  "language_info": {
   "codemirror_mode": {
    "name": "ipython",
    "version": 3
   },
   "file_extension": ".py",
   "mimetype": "text/x-python",
   "name": "python",
   "nbconvert_exporter": "python",
   "pygments_lexer": "ipython3",
   "version": "3.8.5"
  }
 },
 "nbformat": 4,
 "nbformat_minor": 4
}
