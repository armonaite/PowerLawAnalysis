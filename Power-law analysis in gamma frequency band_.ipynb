{
 "cells": [
  {
   "cell_type": "markdown",
   "metadata": {},
   "source": [
    "## Power-law analysis in gamma frequency band\n",
    "Perform calculations of the Power Spectral Density (PSD) on log-log scale, where we evaluate the slope after have applied a low-pass filtering. We try several permutations to see if the evaluated slope of the PSD changes as a function of various parameters. As parameters we selects number of FFT lines: 256, 1024, 2048; order of the filter: 5 and 7 and fitting range: 34-80 Hz, and 50 - 80 Hz with 33 Hz and 50 hz cut-off filter values. We perform this analysis in the three cortical areas analysed only in wakefulness."
   ]
  },
  {
   "cell_type": "code",
   "execution_count": null,
   "metadata": {},
   "outputs": [],
   "source": [
    "import pandas as pd\n",
    "import numpy as np\n",
    "from scipy import signal\n",
    "import matplotlib.pyplot as plt\n",
    "import os"
   ]
  },
  {
   "cell_type": "code",
   "execution_count": null,
   "metadata": {},
   "outputs": [],
   "source": [
    "import warnings\n",
    "warnings.filterwarnings(\"ignore\")\n",
    "warnings.resetwarnings()"
   ]
  },
  {
   "cell_type": "code",
   "execution_count": null,
   "metadata": {},
   "outputs": [],
   "source": [
    "!pip install --upgrade pandas"
   ]
  },
  {
   "cell_type": "code",
   "execution_count": null,
   "metadata": {},
   "outputs": [],
   "source": [
    "files = []\n",
    "\n",
    "# Loop through files in the directory\n",
    "for filename in os.listdir():\n",
    "    if filename.endswith('W.csv'):\n",
    "        \n",
    "        files.append(filename)"
   ]
  },
  {
   "cell_type": "code",
   "execution_count": null,
   "metadata": {},
   "outputs": [],
   "source": [
    "files"
   ]
  },
  {
   "cell_type": "markdown",
   "metadata": {},
   "source": [
    "Perform high-pass filtering and calculate PSD on all the signals"
   ]
  },
  {
   "cell_type": "code",
   "execution_count": null,
   "metadata": {},
   "outputs": [],
   "source": [
    "def norm(data):\n",
    "  val = data/(data.sum())\n",
    "  return val\n",
    "\n",
    "def butter_highpass(cutoff, order):\n",
    "    nyq = 0.5 * 200\n",
    "    normal_cutoff = cutoff / nyq\n",
    "    b, a = signal.butter(order, normal_cutoff, btype='high', analog=False)\n",
    "    return b, a\n",
    "\n",
    "def butter_highpass_filter(data, cutoff, order):\n",
    "    \n",
    "    b, a = butter_highpass(cutoff, order=order)\n",
    "    y = signal.filtfilt(b, a, data)\n",
    "    return y\n",
    "\n",
    "def high_filtered(ar, cutoff, nperseg, order):\n",
    "\n",
    "  def split_by_zero(arr):\n",
    "    equals=np.isclose(arr, np.abs(arr).min())\n",
    "    l=[]\n",
    "    to_split=False\n",
    "    for i in range(len(arr)):\n",
    "        if equals[i] and i < len(arr)-1 and equals[i+1]:\n",
    "            to_split=True\n",
    "        elif not equals[i] and to_split:\n",
    "            yield l\n",
    "            l=[]\n",
    "            to_split=False\n",
    "\n",
    "        if not to_split:\n",
    "            l.append(arr[i])\n",
    "    yield l\n",
    "\n",
    "  vector=[]\n",
    "  s=[]\n",
    "  for l in split_by_zero(ar):\n",
    "    l=np.array(l)\n",
    "    vector.append(l)\n",
    "  f=[]\n",
    "  for i in vector:\n",
    "    x_filt = butter_highpass_filter(i, cutoff, order)\n",
    "    fft=signal.welch(x_filt, fs=200, window=\"hann\", nperseg=nperseg, nfft=nperseg, noverlap=0)\n",
    "\n",
    "    f.append(norm(fft[1]))\n",
    "    ftm=np.mean(f,axis=0)\n",
    "    fstd=np.std(f,axis=0)\n",
    "\n",
    "  return ftm"
   ]
  },
  {
   "cell_type": "code",
   "execution_count": null,
   "metadata": {},
   "outputs": [],
   "source": [
    "from scipy.optimize import curve_fit"
   ]
  },
  {
   "cell_type": "code",
   "execution_count": null,
   "metadata": {},
   "outputs": [],
   "source": [
    "# Define a line for fitting the log-log PSD in 0.1-4 Hz frequency range\n",
    "def line(a,x,b):\n",
    "  return a*x+b"
   ]
  },
  {
   "cell_type": "code",
   "execution_count": null,
   "metadata": {},
   "outputs": [],
   "source": [
    "cutoff = [33, 50]\n",
    "orders = [5, 7]\n",
    "fftlines = [256, 1024, 2048]\n",
    "start_end = [[(44, 103), (176, 411), (350, 821)], [(65, 103), (258, 411), (514, 821)]]\n",
    "\n",
    "params = []\n",
    "fit = []\n",
    "\n",
    "for file in files:\n",
    "    \n",
    "    df = pd.read_csv(file)\n",
    "    \n",
    "    # Iterate through fftlines, cutoff, order of the filter and fitting range\n",
    "\n",
    "    for cut in cutoff:\n",
    "                \n",
    "        if cut == 33 or cut == 50: # for cutoff values equal to 33 Hz and 50 Hz let's set the fitting range 50 - 80 Hz\n",
    "        \n",
    "            for fl, se in zip(fftlines, start_end[1]):\n",
    "            \n",
    "                freq = np.fft.rfftfreq(fl, 1/200)\n",
    "            \n",
    "                for order in orders:\n",
    "                    params.append(np.array([cut, order, fl, freq[se[0]],freq[se[1]-1], se[1]-se[0]]))\n",
    "                    FFT_df1 = df.apply(high_filtered, args=[cut, fl, order])\n",
    "                    k = curve_fit(line, np.log(freq[se[0]:se[1]]), \n",
    "                              np.log(np.mean(FFT_df1[se[0]:se[1]], axis=1)),\n",
    "                              sigma=np.std(FFT_df1[se[0]:se[1]], axis=1) / np.mean(FFT_df1[se[0]:se[1]], axis=1),\n",
    "                              absolute_sigma=True)\n",
    "        \n",
    "                    fit.append(k)\n",
    "            \n",
    "            \n",
    "            if cut == 33: # for cutoff value equal to 33 Hz, the fitting range we set 34 - 80 Hz\n",
    "            \n",
    "                for fl, se in zip(fftlines, start_end[0]):\n",
    "\n",
    "                    freq = np.fft.rfftfreq(fl, 1/200)\n",
    "                \n",
    "                    for order in orders:\n",
    "                        params.append(np.array([cut, order, fl, freq[se[0]],freq[se[1]-1], se[1]-se[0]]))\n",
    "                        FFT_df1 = df.apply(high_filtered, args=[cut, fl, order])\n",
    "                        k = curve_fit(line, np.log(freq[se[0]:se[1]]), \n",
    "                                    np.log(np.mean(FFT_df1[se[0]:se[1]], axis=1)),\n",
    "                                    sigma=np.std(FFT_df1[se[0]:se[1]], axis=1) / np.mean(FFT_df1[se[0]:se[1]], axis=1),\n",
    "                                    absolute_sigma=True)\n",
    "        \n",
    "                        fit.append(k)\n",
    "            \n",
    "Post = fit[:18]\n",
    "Prec = fit[18:36]\n",
    "STG = fit[36:54]"
   ]
  },
  {
   "cell_type": "code",
   "execution_count": null,
   "metadata": {},
   "outputs": [],
   "source": [
    "data = []\n",
    "columns = ['Cut-off',\"order\", \"FFT lines\",\"Start\",\"End\",\"Num lines\", \"Beta\", \"Error\", \"Intercept\", \"Error1\"]\n",
    "\n",
    "# Loop through the values and append to the list\n",
    "for (c, o, f, s, e, n), j in zip(params, fit):\n",
    "        \n",
    "    row_data = [c,o,f,s,e,n, j[0][0], np.sqrt(np.diag(j[1]))[0], j[0][1], np.sqrt(np.diag(j[1]))[1]]\n",
    "    data.append(row_data)\n",
    "\n",
    "# Create a DataFrame from the list\n",
    "df = pd.DataFrame(data, columns=columns)\n",
    "\n",
    "# Save obtained results as csv file\n",
    "df.to_csv(\"Gamma_band_analysis.csv\")"
   ]
  },
  {
   "cell_type": "markdown",
   "metadata": {},
   "source": [
    "Statistical analysis of the parameters variability in three cortical areas.\n",
    "Paired t_test performed by beta value comparisons with the mean beta value in a single cortical area."
   ]
  },
  {
   "cell_type": "code",
   "execution_count": null,
   "metadata": {},
   "outputs": [],
   "source": [
    "from scipy.stats import ttest_ind_from_stats as ttest"
   ]
  },
  {
   "cell_type": "code",
   "execution_count": null,
   "metadata": {},
   "outputs": [],
   "source": [
    "stg_val = df.loc[36:54, [\"Beta\", \"Error\"]].reset_index(drop=True)\n",
    "post_val = df.loc[:17, [\"Beta\", \"Error\"]].reset_index(drop=True)\n",
    "prec_val = df.loc[18:35, [\"Beta\", \"Error\"]].reset_index(drop=True)"
   ]
  },
  {
   "cell_type": "code",
   "execution_count": null,
   "metadata": {},
   "outputs": [],
   "source": [
    "def statistics(data):\n",
    "    p_values = []\n",
    "    t_tests = []\n",
    "\n",
    "    for i,j in zip(data[\"Beta\"], data[\"Error\"]):\n",
    "    \n",
    "        t_test, p_value = ttest(data[\"Beta\"].mean(), data[\"Beta\"].std(), 18,\n",
    "                                i, j, 18)\n",
    "    \n",
    "        t_tests.append(t_test)\n",
    "        p_values.append(p_value)\n",
    "        \n",
    "    return t_tests, p_values"
   ]
  },
  {
   "cell_type": "code",
   "execution_count": null,
   "metadata": {},
   "outputs": [],
   "source": [
    "colors = [\"grey\"]*3 + [\"brown\"]*3 + [\"black\"]*3\n",
    "x_axis = [0, 1, 2]*3\n",
    "f = [stg_val, post_val, prec_val]\n",
    "fft_labels = [256, 1024, 2048]\n",
    "\n",
    "fig, axes = plt.subplots(3, 1, figsize=(6, 10))\n",
    "\n",
    "for ax, data in zip(axes, f):\n",
    "    for index, color, pos in zip(range(0, len(data), 2), colors, x_axis):\n",
    "        ax.errorbar(pos, np.abs(data.iloc[index][\"Beta\"]),\n",
    "                    yerr=data.iloc[index][\"Error\"],\n",
    "                    color=color, capsize=3, fmt=\"x\", ms=10, ls=\"--\", label=\"Legend\")  # Replace \"Legend\" with your actual legend label\n",
    "\n",
    "    ax.set_xticks([0, 1, 2])\n",
    "    ax.set_xticklabels(fft_labels, size=14)\n",
    "    ax.set_yticks([0.5, 1,1.5, 2, 2.5, 3, 3.5])\n",
    "    ax.set_yticklabels([0.5,1.0,1.5, 2.0, 2.5, 3.0, 3.5], size=14)\n",
    "    ax.set_ylabel(\"β\", size=14)\n",
    "    ax.set_ylim(0.5, 3.5)\n",
    "    ax.grid()\n",
    "plt.xlabel(\"Number of FFT lines\", size=14)\n",
    "\n",
    "plt.savefig(\"High_freq_anal.jpg\", dpi=200, bbox_inches=\"tight\")"
   ]
  },
  {
   "cell_type": "code",
   "execution_count": null,
   "metadata": {},
   "outputs": [],
   "source": [
    "for index in zip(range(0, len(Post), 2)):\n",
    "    print(\"Cut-off:{:.2f} Fit range: {:.2f}-{:.2f} (Hz)\".format(p[index[0]][0],params[index[0]][3],params[index[0]][4]))"
   ]
  }
 ],
 "metadata": {
  "kernelspec": {
   "display_name": "Python 3",
   "language": "python",
   "name": "python3"
  },
  "language_info": {
   "codemirror_mode": {
    "name": "ipython",
    "version": 3
   },
   "file_extension": ".py",
   "mimetype": "text/x-python",
   "name": "python",
   "nbconvert_exporter": "python",
   "pygments_lexer": "ipython3",
   "version": "3.8.5"
  }
 },
 "nbformat": 4,
 "nbformat_minor": 4
}
